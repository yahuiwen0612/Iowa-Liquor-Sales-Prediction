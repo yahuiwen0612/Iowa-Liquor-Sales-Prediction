{
  "cells": [
    {
      "cell_type": "markdown",
      "source": [
        "https://colab.research.google.com/drive/1OxgwKuW_YXnc1zchzhqdFLodnfTI5jnp?usp=sharing"
      ],
      "metadata": {
        "id": "35JRLs_pUfve"
      }
    },
    {
      "cell_type": "markdown",
      "metadata": {
        "id": "yumqQsnMTDEz"
      },
      "source": [
        "# **Iowa Liquor Market Predictive Analysis**"
      ]
    },
    {
      "cell_type": "markdown",
      "metadata": {
        "id": "uLRCyxWSTDdQ"
      },
      "source": [
        "Table of contentsTeam 5 members : **Jinke Han, Xinyuan Hu, Xiang Liu, Yahui Wen**.    \n",
        "\n",
        "Date: **12/06/2023**"
      ]
    },
    {
      "cell_type": "markdown",
      "metadata": {
        "id": "EHKU2JWNlT--"
      },
      "source": [
        "#Summary"
      ]
    },
    {
      "cell_type": "markdown",
      "metadata": {
        "id": "V2AIGcLBNpnA"
      },
      "source": [
        "This project aimed to predict liquor sales trends in Iowa using data from 2023. The state's strict control over liquor distribution necessitates effective inventory planning for private retailers. The team utilized a substantial dataset from the Iowa Alcoholic Beverages Division, focusing on liquor purchases by licensed retailers. We cleaned and processed this data for predictive modeling.\n",
        "\n",
        "Our key findings include a positive correlation between sales volume and profits, with seasonal trends indicating peak sales in June. The predictive modeling, primarily using regression analysis, aimed to forecast future profits and assist retailers in inventory management and planning. The project's outcomes provide valuable insights for enhancing inventory efficiency and overall business performance in Iowa's liquor market."
      ]
    },
    {
      "cell_type": "markdown",
      "metadata": {
        "id": "dlczzI6jlWAr"
      },
      "source": [
        "#Table of Contents"
      ]
    },
    {
      "cell_type": "markdown",
      "metadata": {
        "id": "bKO_8hrCKKHY"
      },
      "source": [
        "1. Introduction\n",
        "2. Data Explore and Cleaning\n",
        "3. EDA\n",
        "4. Select Model and Train\n",
        "5. Fine-Tune Model\n",
        "6. Prediction\n",
        "7. Challenge\n",
        "8. Conclusions\n"
      ]
    },
    {
      "cell_type": "markdown",
      "metadata": {
        "id": "NVYk8ON8OHb0"
      },
      "source": [
        "#1.Introduction\n",
        "\n",
        "The Liquor Sales/Supply Strategy project is a comprehensive initiative aimed at analyzing and predicting the trends in liquor sales and profits in Iowa, a state where alcohol distribution is under strict government control. This unique market structure mandates that private retailers procure their alcohol inventory directly from state authorities. The main goal of this project is to utilize sales data from the first three quarters of 2023 to forecast sales volumes and profits for various liquor categories for the last quarter of 2023 and the entire year of 2024. This forecasting is vital for enabling retailers and supply chain managers to optimize their inventory strategies, effectively reduce stockouts, and minimize surplus inventory. The project encompasses a range of methodologies, including an in-depth analysis of current liquor sales trends, examination of regional sales variations, and the application of machine learning and data modeling for accurate profit forecasting. Through these efforts, the project aims to enhance the understanding of liquor dynamics in the Iowa government, improve inventory management efficiency, and ultimately contribute to better business performance in the state's liquor market."
      ]
    },
    {
      "cell_type": "markdown",
      "metadata": {
        "id": "EyvyRy0gONgt"
      },
      "source": [
        "## 1.1 Background and Purpose\n",
        "\n",
        "**State Control and Retail Dynamics in Iowa:**\n",
        "In Iowa, the wholesale distribution of alcohol is under stringent state control, with the state functioning as the sole wholesaler. This unique regulatory environment necessitates that private retailers directly source their alcohol inventory from the state, presenting distinct challenges and opportunities for government inventory management and sales strategy.\n",
        "\n",
        "Project Goal: Enhanced Sales Forecasting and Trend Analysis:\n",
        "The primary aim of this project is to deepen our understanding of liquor sales trends in Iowa by leveraging advanced sales forecasting techniques. Utilizing comprehensive sales data from the first three quarters of 2023, we intend to predict sales volumes and profits for various liquor categories in Iowa, encompassing the last quarter of 2023 and the whole of 2024. This initiative is designed to equip government marketing department with the insights needed for optimized inventory management, reduction of stockouts, and making better sales plan decisions.\n",
        "\n",
        "**Methodological Expansion:**\n",
        "\n",
        "**Analyzing Liquor Sales Trends:** We will conduct an extensive analysis of liquor sales data, exploring different liquor products, seasonal variations, and uncovering hidden patterns and trends.\n",
        "\n",
        "**Geographic and Demographic Insights:** Our study will extend beyond mere regional analysis to include neighborhood-level trends and, if data permits, customer demographic insights. This approach aims to identify micro-trends and localized market dynamics that can inform more targeted sales strategies.\n",
        "\n",
        "**Seasonal and Event-Based Analysis:** Recognizing the impact of seasonal changes and specific events or holidays on liquor sales, we will integrate these elements into our predictive models to enhance their accuracy and relevance.\n",
        "\n",
        "**Predictive Model Enhancement:** We will employ advanced machine learning and data modeling techniques, exploring potential ensemble methods to refine our sales forecasting models. These models will be designed not just for accuracy but also for interpretability, ensuring they are accessible and actionable for a broad range of stakeholders.\n",
        "\n",
        "**Continuous Feedback and Improvement:** Establishing a feedback loop, we will regularly update our models with new data and insights, ensuring they remain accurate and relevant over time.\n",
        "\n",
        "**Comprehensive Business Improvement:**\n",
        "Through these expanded and enhanced measures, our goal is to deepen the understanding of liquor sales trends among retailers and the government in the Iowa region, and to provide actionable insights. Our aim is to assist the Iowa government in improving inventory management efficiency, reducing operational costs, increasing government revenue, and ultimately driving improved business performance and customer satisfaction in Iowa's unique liquor market.\n"
      ]
    },
    {
      "cell_type": "markdown",
      "metadata": {
        "id": "hYWsx3xHjWmg"
      },
      "source": [
        "## 1.2 Machine Learing in Action(Methodology)"
      ]
    },
    {
      "cell_type": "markdown",
      "metadata": {
        "id": "GRGQwh3MjWeF"
      },
      "source": [
        "**Sales Prediction**: In addition to Linear and Random Forest Regression, we also considered the integration of advanced models such as XGBoost or Gradient Boosting to achieve better performance. To emphasize the importance of feature selection and engineering in enhancing model accuracy, we have employed Lasso to identify the most predictive features. Beyond R square and MSE, we will also consider the use of Root Mean Squared Error (RMSE) for a more interpretable scale relative to the target variable"
      ]
    },
    {
      "cell_type": "markdown",
      "source": [
        "## 1.3 Outcome/Real-World Significance"
      ],
      "metadata": {
        "id": "FRr7A3h0lfMi"
      }
    },
    {
      "cell_type": "markdown",
      "metadata": {
        "id": "Gdi60jPSjbdC"
      },
      "source": [
        "Our project will provide actionable insights for various stakeholders in Iowa's liquor industry through the following key ways：\n",
        "\n",
        "1. **Sales Forecasting:** Our project aims to predict the sales of different liquor brands, which is crucial for liquor distributors(Lowa government) and retailers. This helps optimize supply chains and inventory management, reducing waste and improving economic efficiency.\n",
        "\n",
        "2. **Geographic Analysis:** By analyzing geographical data, our project explores the influence of geographical factors on sales trends, aiding businesses in better catering to regional taste preferences.\n",
        "\n",
        "3. **Government Economic Efficiency:** Our project's predictive model assists the government in forecasting liquor sales profit, which helps to enhance the accuracy and efficiency of fiscal planning and tax decision-making.\n",
        "\n",
        "In summary , our project can bring economic and operational benefits to Iowa's liquor industry from improving retail inventory management to enhancing supply chain operations and helping the government to predict the profit from liquor sales.\n"
      ]
    },
    {
      "cell_type": "markdown",
      "metadata": {
        "id": "5F_MRj0XUJGQ"
      },
      "source": [
        "##1.4 Dataset Descirption"
      ]
    },
    {
      "cell_type": "markdown",
      "metadata": {
        "id": "5dIAxRC8USXw"
      },
      "source": [
        "**Data Source:**  For our analysis, we used data from the State of Iowa's Alcoholic Beverages Division for the year 2023. This dataset includes information on spirit purchases by \"E\" class liquor license holders in Iowa from January 1, 2023, to September 30, 2023, segmented by product and purchase date. The original dataset is extensive, with a total of 2,174,213 rows and 29 columns,making it a great choice for our research. You can access the original data source through this link:\n",
        "\n",
        "https://data.iowa.gov/Sales-Distribution/Iowa-Liquor-Sales/m3tr-qhgy\n",
        "\n",
        "\n",
        "**Data Dictionary:** Since the dataset is very large, it will take a long time to run our model on the original dataset. In order to improve the overall time efficiency, we used a sample data which contains 13 columns and 38806 records to the following machine learning. Each row represents a record of liquor purchase. The definition of each column are as follows:"
      ]
    },
    {
      "cell_type": "markdown",
      "metadata": {
        "id": "jsKwSr9cUVTB"
      },
      "source": [
        "Column | Description | Feature Type | Data Type\n",
        "-------|-------------|--------------|----------\n",
        "City | City where the store who ordered the liquor is located activity | Categorical | object\n",
        "County | County where the store who ordered the liquor is located | Categorical | object\n",
        "Category Name | Category of the liquor ordered | Categorical | object\n",
        "Vendor Name | The vendor name of the company for the brand of liquor ordered | Categorical | object\n",
        "Item Number  | Item number for the individual liquor product ordered | Categorical | int64\n",
        "Pack  | The number of bottles in a case for the liquor ordered | Categorical | int64\n",
        "Bottle Volume(ml) | Volume of each liquor bottle ordered in milliliters | Categorical | int64\n",
        "State Bottle Cost | The amount that the Alcoholic Beverages Division paid for each bottle of liquor ordered | Numerical | float64\n",
        "State Bottle Retail | The amount the store paid for each bottle of liquor ordered | Numerical | float64\n",
        "Bottles Sold  | The number of bottles of liquor ordered by the store | Numerical | int64\n",
        "Sale (Dollars)  | Total cost of liquor order (number of bottles multiplied by the state bottle retail) | Numerical | float64\n",
        "Volume Sold (Liters)| Total volume of liquor ordered in liters. (i.e. (Bottle Volume (ml) x Bottles Sold)/1,000) | Numerical | float64\n",
        "Month| The month when the order was made | Categorical | int64\n",
        "\n"
      ]
    },
    {
      "cell_type": "markdown",
      "metadata": {
        "id": "0kmv-2XCUbWg"
      },
      "source": [
        "**Data Pre-Processing**: Data Pre-Processing: Given the substantial volume of the initial dataset, we undertook a rigorous data cleaning process to refine our predictive modeling capabilities. This included eliminating rows with missing values and discarding columns unrelated to our predictive objectives. To facilitate a more manageable analysis, we meticulously sampled a subset of 38806 records from records within the January to October 2023 timeframe, curating a dataset specifically for this project.\n",
        "\n",
        "Before we doing feature selection, we dropped out some columns with duplicated infomation. Consequently, our final dataset comprises 38,806rows and 13 columns. This sampling approach ensures that our dataset continues to reflect the broader data corpus, maintaining its integrity for robust predictive analysis.\n",
        "\n",
        "This strategic sampling has provided us with a dataset that, while streamlined, still encapsulates the essential characteristics of the larger dataset, allowing for a comprehensive and accurate predictive model. Our enhanced dataset is now aptly prepared to inform future profitability forecasts, offering a solid foundation for the robust analytical tasks ahead."
      ]
    },
    {
      "cell_type": "markdown",
      "metadata": {
        "id": "Q0VZYCzzhfEe"
      },
      "source": [
        "#2.Data Explore and Cleaning"
      ]
    },
    {
      "cell_type": "code",
      "execution_count": 1,
      "metadata": {
        "colab": {
          "base_uri": "https://localhost:8080/"
        },
        "id": "cIDNxHm0CXMv",
        "outputId": "cd5e2bcb-441b-4b8c-dd6e-e337802652ea"
      },
      "outputs": [
        {
          "output_type": "stream",
          "name": "stdout",
          "text": [
            "Mounted at /content/drive\n"
          ]
        }
      ],
      "source": [
        "from google.colab import drive\n",
        "drive.mount('/content/drive')\n"
      ]
    },
    {
      "cell_type": "code",
      "execution_count": 2,
      "metadata": {
        "id": "duj0o1l8Y0JE"
      },
      "outputs": [],
      "source": [
        "import pandas as pd\n",
        "from datetime import datetime\n",
        "import seaborn as sns\n",
        "from pandas.plotting import scatter_matrix\n",
        "import matplotlib.pyplot as plt"
      ]
    },
    {
      "cell_type": "code",
      "execution_count": 3,
      "metadata": {
        "id": "xo12BOa6pycz"
      },
      "outputs": [],
      "source": [
        "df = pd.read_csv('/content/drive/MyDrive/BA810/Iowa_Liquor_Sales_2023.csv')"
      ]
    },
    {
      "cell_type": "code",
      "source": [
        "df['Month'] = pd.to_datetime(df['Date']).dt.month\n",
        "columns_to_drop = [\n",
        "    'Date','Invoice/Item Number', 'Store Number', 'Address', 'Zip Code',\n",
        "    'Store Location', 'County Number', 'Category', 'Vendor Number',\n",
        "     'Item Description',  'Volume Sold (Gallons)', 'Iowa ZIP Code Tabulation Areas',\n",
        "    'Iowa Watershed Sub-Basins (HUC 08)', 'Iowa Watersheds (HUC 10)',\n",
        "    'County Boundaries of Iowa', 'US Counties','Store Name'\n",
        "]\n",
        "df.drop(columns=columns_to_drop, inplace=True)\n",
        "\n",
        "df.head()"
      ],
      "metadata": {
        "colab": {
          "base_uri": "https://localhost:8080/",
          "height": 362
        },
        "id": "Cu-N_-LHUmDz",
        "outputId": "eb77a241-a367-4473-c247-983346555b7e"
      },
      "execution_count": 4,
      "outputs": [
        {
          "output_type": "execute_result",
          "data": {
            "text/plain": [
              "         City County       Category Name             Vendor Name  Item Number  \\\n",
              "0  DES MOINES   POLK  100% AGAVE TEQUILA         DIAGEO AMERICAS        89177   \n",
              "1  DES MOINES   POLK       MIXTO TEQUILA                 PROXIMO        89193   \n",
              "2  DES MOINES   POLK     SCOTCH WHISKIES         DIAGEO AMERICAS         4626   \n",
              "3  DES MOINES   POLK     IMPORTED VODKAS  W J DEUTSCH & SONS LTD        34598   \n",
              "4      ANKENY   POLK     AMERICAN VODKAS    FIFTH GENERATION INC        38176   \n",
              "\n",
              "   Pack  Bottle Volume (ml)  State Bottle Cost  State Bottle Retail  \\\n",
              "0     6                 750              29.99                44.99   \n",
              "1    48                 200               3.63                 5.45   \n",
              "2    12                 750              20.99                31.49   \n",
              "3     6                1750              14.84                22.26   \n",
              "4    12                 750              10.00                15.00   \n",
              "\n",
              "   Bottles Sold  Sale (Dollars)  Volume Sold (Liters)  Month  \n",
              "0             3          134.97                  2.25      1  \n",
              "1            48          261.60                  9.60      1  \n",
              "2            12          377.88                  9.00      1  \n",
              "3             6          130.50                 10.50      1  \n",
              "4            24          360.00                 18.00      1  "
            ],
            "text/html": [
              "\n",
              "  <div id=\"df-0213a81f-b7d6-42db-ac55-187b9ab1d5ac\" class=\"colab-df-container\">\n",
              "    <div>\n",
              "<style scoped>\n",
              "    .dataframe tbody tr th:only-of-type {\n",
              "        vertical-align: middle;\n",
              "    }\n",
              "\n",
              "    .dataframe tbody tr th {\n",
              "        vertical-align: top;\n",
              "    }\n",
              "\n",
              "    .dataframe thead th {\n",
              "        text-align: right;\n",
              "    }\n",
              "</style>\n",
              "<table border=\"1\" class=\"dataframe\">\n",
              "  <thead>\n",
              "    <tr style=\"text-align: right;\">\n",
              "      <th></th>\n",
              "      <th>City</th>\n",
              "      <th>County</th>\n",
              "      <th>Category Name</th>\n",
              "      <th>Vendor Name</th>\n",
              "      <th>Item Number</th>\n",
              "      <th>Pack</th>\n",
              "      <th>Bottle Volume (ml)</th>\n",
              "      <th>State Bottle Cost</th>\n",
              "      <th>State Bottle Retail</th>\n",
              "      <th>Bottles Sold</th>\n",
              "      <th>Sale (Dollars)</th>\n",
              "      <th>Volume Sold (Liters)</th>\n",
              "      <th>Month</th>\n",
              "    </tr>\n",
              "  </thead>\n",
              "  <tbody>\n",
              "    <tr>\n",
              "      <th>0</th>\n",
              "      <td>DES MOINES</td>\n",
              "      <td>POLK</td>\n",
              "      <td>100% AGAVE TEQUILA</td>\n",
              "      <td>DIAGEO AMERICAS</td>\n",
              "      <td>89177</td>\n",
              "      <td>6</td>\n",
              "      <td>750</td>\n",
              "      <td>29.99</td>\n",
              "      <td>44.99</td>\n",
              "      <td>3</td>\n",
              "      <td>134.97</td>\n",
              "      <td>2.25</td>\n",
              "      <td>1</td>\n",
              "    </tr>\n",
              "    <tr>\n",
              "      <th>1</th>\n",
              "      <td>DES MOINES</td>\n",
              "      <td>POLK</td>\n",
              "      <td>MIXTO TEQUILA</td>\n",
              "      <td>PROXIMO</td>\n",
              "      <td>89193</td>\n",
              "      <td>48</td>\n",
              "      <td>200</td>\n",
              "      <td>3.63</td>\n",
              "      <td>5.45</td>\n",
              "      <td>48</td>\n",
              "      <td>261.60</td>\n",
              "      <td>9.60</td>\n",
              "      <td>1</td>\n",
              "    </tr>\n",
              "    <tr>\n",
              "      <th>2</th>\n",
              "      <td>DES MOINES</td>\n",
              "      <td>POLK</td>\n",
              "      <td>SCOTCH WHISKIES</td>\n",
              "      <td>DIAGEO AMERICAS</td>\n",
              "      <td>4626</td>\n",
              "      <td>12</td>\n",
              "      <td>750</td>\n",
              "      <td>20.99</td>\n",
              "      <td>31.49</td>\n",
              "      <td>12</td>\n",
              "      <td>377.88</td>\n",
              "      <td>9.00</td>\n",
              "      <td>1</td>\n",
              "    </tr>\n",
              "    <tr>\n",
              "      <th>3</th>\n",
              "      <td>DES MOINES</td>\n",
              "      <td>POLK</td>\n",
              "      <td>IMPORTED VODKAS</td>\n",
              "      <td>W J DEUTSCH &amp; SONS LTD</td>\n",
              "      <td>34598</td>\n",
              "      <td>6</td>\n",
              "      <td>1750</td>\n",
              "      <td>14.84</td>\n",
              "      <td>22.26</td>\n",
              "      <td>6</td>\n",
              "      <td>130.50</td>\n",
              "      <td>10.50</td>\n",
              "      <td>1</td>\n",
              "    </tr>\n",
              "    <tr>\n",
              "      <th>4</th>\n",
              "      <td>ANKENY</td>\n",
              "      <td>POLK</td>\n",
              "      <td>AMERICAN VODKAS</td>\n",
              "      <td>FIFTH GENERATION INC</td>\n",
              "      <td>38176</td>\n",
              "      <td>12</td>\n",
              "      <td>750</td>\n",
              "      <td>10.00</td>\n",
              "      <td>15.00</td>\n",
              "      <td>24</td>\n",
              "      <td>360.00</td>\n",
              "      <td>18.00</td>\n",
              "      <td>1</td>\n",
              "    </tr>\n",
              "  </tbody>\n",
              "</table>\n",
              "</div>\n",
              "    <div class=\"colab-df-buttons\">\n",
              "\n",
              "  <div class=\"colab-df-container\">\n",
              "    <button class=\"colab-df-convert\" onclick=\"convertToInteractive('df-0213a81f-b7d6-42db-ac55-187b9ab1d5ac')\"\n",
              "            title=\"Convert this dataframe to an interactive table.\"\n",
              "            style=\"display:none;\">\n",
              "\n",
              "  <svg xmlns=\"http://www.w3.org/2000/svg\" height=\"24px\" viewBox=\"0 -960 960 960\">\n",
              "    <path d=\"M120-120v-720h720v720H120Zm60-500h600v-160H180v160Zm220 220h160v-160H400v160Zm0 220h160v-160H400v160ZM180-400h160v-160H180v160Zm440 0h160v-160H620v160ZM180-180h160v-160H180v160Zm440 0h160v-160H620v160Z\"/>\n",
              "  </svg>\n",
              "    </button>\n",
              "\n",
              "  <style>\n",
              "    .colab-df-container {\n",
              "      display:flex;\n",
              "      gap: 12px;\n",
              "    }\n",
              "\n",
              "    .colab-df-convert {\n",
              "      background-color: #E8F0FE;\n",
              "      border: none;\n",
              "      border-radius: 50%;\n",
              "      cursor: pointer;\n",
              "      display: none;\n",
              "      fill: #1967D2;\n",
              "      height: 32px;\n",
              "      padding: 0 0 0 0;\n",
              "      width: 32px;\n",
              "    }\n",
              "\n",
              "    .colab-df-convert:hover {\n",
              "      background-color: #E2EBFA;\n",
              "      box-shadow: 0px 1px 2px rgba(60, 64, 67, 0.3), 0px 1px 3px 1px rgba(60, 64, 67, 0.15);\n",
              "      fill: #174EA6;\n",
              "    }\n",
              "\n",
              "    .colab-df-buttons div {\n",
              "      margin-bottom: 4px;\n",
              "    }\n",
              "\n",
              "    [theme=dark] .colab-df-convert {\n",
              "      background-color: #3B4455;\n",
              "      fill: #D2E3FC;\n",
              "    }\n",
              "\n",
              "    [theme=dark] .colab-df-convert:hover {\n",
              "      background-color: #434B5C;\n",
              "      box-shadow: 0px 1px 3px 1px rgba(0, 0, 0, 0.15);\n",
              "      filter: drop-shadow(0px 1px 2px rgba(0, 0, 0, 0.3));\n",
              "      fill: #FFFFFF;\n",
              "    }\n",
              "  </style>\n",
              "\n",
              "    <script>\n",
              "      const buttonEl =\n",
              "        document.querySelector('#df-0213a81f-b7d6-42db-ac55-187b9ab1d5ac button.colab-df-convert');\n",
              "      buttonEl.style.display =\n",
              "        google.colab.kernel.accessAllowed ? 'block' : 'none';\n",
              "\n",
              "      async function convertToInteractive(key) {\n",
              "        const element = document.querySelector('#df-0213a81f-b7d6-42db-ac55-187b9ab1d5ac');\n",
              "        const dataTable =\n",
              "          await google.colab.kernel.invokeFunction('convertToInteractive',\n",
              "                                                    [key], {});\n",
              "        if (!dataTable) return;\n",
              "\n",
              "        const docLinkHtml = 'Like what you see? Visit the ' +\n",
              "          '<a target=\"_blank\" href=https://colab.research.google.com/notebooks/data_table.ipynb>data table notebook</a>'\n",
              "          + ' to learn more about interactive tables.';\n",
              "        element.innerHTML = '';\n",
              "        dataTable['output_type'] = 'display_data';\n",
              "        await google.colab.output.renderOutput(dataTable, element);\n",
              "        const docLink = document.createElement('div');\n",
              "        docLink.innerHTML = docLinkHtml;\n",
              "        element.appendChild(docLink);\n",
              "      }\n",
              "    </script>\n",
              "  </div>\n",
              "\n",
              "\n",
              "<div id=\"df-9614b5e1-b636-42d4-bd65-9eb7fb5d8d37\">\n",
              "  <button class=\"colab-df-quickchart\" onclick=\"quickchart('df-9614b5e1-b636-42d4-bd65-9eb7fb5d8d37')\"\n",
              "            title=\"Suggest charts\"\n",
              "            style=\"display:none;\">\n",
              "\n",
              "<svg xmlns=\"http://www.w3.org/2000/svg\" height=\"24px\"viewBox=\"0 0 24 24\"\n",
              "     width=\"24px\">\n",
              "    <g>\n",
              "        <path d=\"M19 3H5c-1.1 0-2 .9-2 2v14c0 1.1.9 2 2 2h14c1.1 0 2-.9 2-2V5c0-1.1-.9-2-2-2zM9 17H7v-7h2v7zm4 0h-2V7h2v10zm4 0h-2v-4h2v4z\"/>\n",
              "    </g>\n",
              "</svg>\n",
              "  </button>\n",
              "\n",
              "<style>\n",
              "  .colab-df-quickchart {\n",
              "      --bg-color: #E8F0FE;\n",
              "      --fill-color: #1967D2;\n",
              "      --hover-bg-color: #E2EBFA;\n",
              "      --hover-fill-color: #174EA6;\n",
              "      --disabled-fill-color: #AAA;\n",
              "      --disabled-bg-color: #DDD;\n",
              "  }\n",
              "\n",
              "  [theme=dark] .colab-df-quickchart {\n",
              "      --bg-color: #3B4455;\n",
              "      --fill-color: #D2E3FC;\n",
              "      --hover-bg-color: #434B5C;\n",
              "      --hover-fill-color: #FFFFFF;\n",
              "      --disabled-bg-color: #3B4455;\n",
              "      --disabled-fill-color: #666;\n",
              "  }\n",
              "\n",
              "  .colab-df-quickchart {\n",
              "    background-color: var(--bg-color);\n",
              "    border: none;\n",
              "    border-radius: 50%;\n",
              "    cursor: pointer;\n",
              "    display: none;\n",
              "    fill: var(--fill-color);\n",
              "    height: 32px;\n",
              "    padding: 0;\n",
              "    width: 32px;\n",
              "  }\n",
              "\n",
              "  .colab-df-quickchart:hover {\n",
              "    background-color: var(--hover-bg-color);\n",
              "    box-shadow: 0 1px 2px rgba(60, 64, 67, 0.3), 0 1px 3px 1px rgba(60, 64, 67, 0.15);\n",
              "    fill: var(--button-hover-fill-color);\n",
              "  }\n",
              "\n",
              "  .colab-df-quickchart-complete:disabled,\n",
              "  .colab-df-quickchart-complete:disabled:hover {\n",
              "    background-color: var(--disabled-bg-color);\n",
              "    fill: var(--disabled-fill-color);\n",
              "    box-shadow: none;\n",
              "  }\n",
              "\n",
              "  .colab-df-spinner {\n",
              "    border: 2px solid var(--fill-color);\n",
              "    border-color: transparent;\n",
              "    border-bottom-color: var(--fill-color);\n",
              "    animation:\n",
              "      spin 1s steps(1) infinite;\n",
              "  }\n",
              "\n",
              "  @keyframes spin {\n",
              "    0% {\n",
              "      border-color: transparent;\n",
              "      border-bottom-color: var(--fill-color);\n",
              "      border-left-color: var(--fill-color);\n",
              "    }\n",
              "    20% {\n",
              "      border-color: transparent;\n",
              "      border-left-color: var(--fill-color);\n",
              "      border-top-color: var(--fill-color);\n",
              "    }\n",
              "    30% {\n",
              "      border-color: transparent;\n",
              "      border-left-color: var(--fill-color);\n",
              "      border-top-color: var(--fill-color);\n",
              "      border-right-color: var(--fill-color);\n",
              "    }\n",
              "    40% {\n",
              "      border-color: transparent;\n",
              "      border-right-color: var(--fill-color);\n",
              "      border-top-color: var(--fill-color);\n",
              "    }\n",
              "    60% {\n",
              "      border-color: transparent;\n",
              "      border-right-color: var(--fill-color);\n",
              "    }\n",
              "    80% {\n",
              "      border-color: transparent;\n",
              "      border-right-color: var(--fill-color);\n",
              "      border-bottom-color: var(--fill-color);\n",
              "    }\n",
              "    90% {\n",
              "      border-color: transparent;\n",
              "      border-bottom-color: var(--fill-color);\n",
              "    }\n",
              "  }\n",
              "</style>\n",
              "\n",
              "  <script>\n",
              "    async function quickchart(key) {\n",
              "      const quickchartButtonEl =\n",
              "        document.querySelector('#' + key + ' button');\n",
              "      quickchartButtonEl.disabled = true;  // To prevent multiple clicks.\n",
              "      quickchartButtonEl.classList.add('colab-df-spinner');\n",
              "      try {\n",
              "        const charts = await google.colab.kernel.invokeFunction(\n",
              "            'suggestCharts', [key], {});\n",
              "      } catch (error) {\n",
              "        console.error('Error during call to suggestCharts:', error);\n",
              "      }\n",
              "      quickchartButtonEl.classList.remove('colab-df-spinner');\n",
              "      quickchartButtonEl.classList.add('colab-df-quickchart-complete');\n",
              "    }\n",
              "    (() => {\n",
              "      let quickchartButtonEl =\n",
              "        document.querySelector('#df-9614b5e1-b636-42d4-bd65-9eb7fb5d8d37 button');\n",
              "      quickchartButtonEl.style.display =\n",
              "        google.colab.kernel.accessAllowed ? 'block' : 'none';\n",
              "    })();\n",
              "  </script>\n",
              "</div>\n",
              "    </div>\n",
              "  </div>\n"
            ]
          },
          "metadata": {},
          "execution_count": 4
        }
      ]
    },
    {
      "cell_type": "code",
      "execution_count": 5,
      "metadata": {
        "colab": {
          "base_uri": "https://localhost:8080/"
        },
        "id": "baT60TXDzF0F",
        "outputId": "80368cd0-d99e-4d35-ff3d-61b516aaf11e"
      },
      "outputs": [
        {
          "output_type": "stream",
          "name": "stdout",
          "text": [
            "<class 'pandas.core.frame.DataFrame'>\n",
            "RangeIndex: 2174213 entries, 0 to 2174212\n",
            "Data columns (total 13 columns):\n",
            " #   Column                Dtype  \n",
            "---  ------                -----  \n",
            " 0   City                  object \n",
            " 1   County                object \n",
            " 2   Category Name         object \n",
            " 3   Vendor Name           object \n",
            " 4   Item Number           int64  \n",
            " 5   Pack                  int64  \n",
            " 6   Bottle Volume (ml)    int64  \n",
            " 7   State Bottle Cost     float64\n",
            " 8   State Bottle Retail   float64\n",
            " 9   Bottles Sold          int64  \n",
            " 10  Sale (Dollars)        float64\n",
            " 11  Volume Sold (Liters)  float64\n",
            " 12  Month                 int64  \n",
            "dtypes: float64(4), int64(5), object(4)\n",
            "memory usage: 215.6+ MB\n"
          ]
        }
      ],
      "source": [
        "df.info()"
      ]
    },
    {
      "cell_type": "code",
      "execution_count": 6,
      "metadata": {
        "colab": {
          "base_uri": "https://localhost:8080/"
        },
        "id": "0syjYpl71pgf",
        "outputId": "612b5c4c-d322-478a-ea16-4e72eb9c7b5d"
      },
      "outputs": [
        {
          "output_type": "execute_result",
          "data": {
            "text/plain": [
              "City                    1177\n",
              "County                  1177\n",
              "Category Name              0\n",
              "Vendor Name                0\n",
              "Item Number                0\n",
              "Pack                       0\n",
              "Bottle Volume (ml)         0\n",
              "State Bottle Cost          0\n",
              "State Bottle Retail        0\n",
              "Bottles Sold               0\n",
              "Sale (Dollars)             0\n",
              "Volume Sold (Liters)       0\n",
              "Month                      0\n",
              "dtype: int64"
            ]
          },
          "metadata": {},
          "execution_count": 6
        }
      ],
      "source": [
        "df.isnull().sum()"
      ]
    },
    {
      "cell_type": "code",
      "execution_count": 7,
      "metadata": {
        "id": "CjTVkvg69JYL"
      },
      "outputs": [],
      "source": [
        "df1=df.dropna()"
      ]
    },
    {
      "cell_type": "code",
      "execution_count": 8,
      "metadata": {
        "colab": {
          "base_uri": "https://localhost:8080/"
        },
        "id": "E_Im0-l79o-4",
        "outputId": "41ef6549-4d6c-4c66-eceb-6a5258dc6af1"
      },
      "outputs": [
        {
          "output_type": "execute_result",
          "data": {
            "text/plain": [
              "City                    0\n",
              "County                  0\n",
              "Category Name           0\n",
              "Vendor Name             0\n",
              "Item Number             0\n",
              "Pack                    0\n",
              "Bottle Volume (ml)      0\n",
              "State Bottle Cost       0\n",
              "State Bottle Retail     0\n",
              "Bottles Sold            0\n",
              "Sale (Dollars)          0\n",
              "Volume Sold (Liters)    0\n",
              "Month                   0\n",
              "dtype: int64"
            ]
          },
          "metadata": {},
          "execution_count": 8
        }
      ],
      "source": [
        "df1.isnull().sum()"
      ]
    },
    {
      "cell_type": "code",
      "execution_count": 9,
      "metadata": {
        "id": "KWFKCTPU94hm"
      },
      "outputs": [],
      "source": [
        "duplicates = df1.duplicated(subset = df1,keep=False)"
      ]
    },
    {
      "cell_type": "code",
      "source": [
        "df1 = df1[df1['Bottles Sold']>=0]"
      ],
      "metadata": {
        "id": "l6pjJEtBfWbo"
      },
      "execution_count": 10,
      "outputs": []
    },
    {
      "cell_type": "code",
      "execution_count": 11,
      "metadata": {
        "colab": {
          "base_uri": "https://localhost:8080/",
          "height": 791
        },
        "id": "2EjDf9Hh97kM",
        "outputId": "91cccead-8f1d-46fc-e46a-f16bc904e9b2"
      },
      "outputs": [
        {
          "output_type": "execute_result",
          "data": {
            "text/plain": [
              "               City      County                   Category Name  \\\n",
              "0        DES MOINES        POLK              100% AGAVE TEQUILA   \n",
              "6        DES MOINES        POLK  TEMPORARY & SPECIALTY PACKAGES   \n",
              "19         JOHNSTON        POLK                 AMERICAN VODKAS   \n",
              "20       DES MOINES        POLK              100% AGAVE TEQUILA   \n",
              "25       DES MOINES        POLK  TEMPORARY & SPECIALTY PACKAGES   \n",
              "...             ...         ...                             ...   \n",
              "2174207    WATERLOO  BLACK HAWK              100% AGAVE TEQUILA   \n",
              "2174208  CORALVILLE     JOHNSON                 SCOTCH WHISKIES   \n",
              "2174209   IOWA CITY     JOHNSON         BOTTLED IN BOND BOURBON   \n",
              "2174210      TIFFIN     JOHNSON                      SPICED RUM   \n",
              "2174212    WATERLOO  BLACK HAWK               CANADIAN WHISKIES   \n",
              "\n",
              "                      Vendor Name  Item Number  Pack  Bottle Volume (ml)  \\\n",
              "0                 DIAGEO AMERICAS        89177     6                 750   \n",
              "6                 DIAGEO AMERICAS        67905    12                 750   \n",
              "19          BLUE OX SPIRITS, INC.        36985    24                 375   \n",
              "20                        PROXIMO        87832     6                 750   \n",
              "25            PARK STREET IMPORTS        27757     6                 750   \n",
              "...                           ...          ...   ...                 ...   \n",
              "2174207                   PROXIMO        87509    12                 375   \n",
              "2174208           DIAGEO AMERICAS         5326    12                 750   \n",
              "2174209  CEDAR RIDGE VINEYARDS LL        16050     6                 750   \n",
              "2174210           DIAGEO AMERICAS        43336    12                 750   \n",
              "2174212      SAZERAC COMPANY  INC        11348     6                1750   \n",
              "\n",
              "         State Bottle Cost  State Bottle Retail  Bottles Sold  Sale (Dollars)  \\\n",
              "0                    29.99                44.99             3          134.97   \n",
              "6                    16.49                24.74             2           49.48   \n",
              "19                    2.15                 3.23             6           19.38   \n",
              "20                   17.33                26.00             2           52.00   \n",
              "25                   22.50                33.75             2           67.50   \n",
              "...                    ...                  ...           ...             ...   \n",
              "2174207               9.25                13.88             6           83.28   \n",
              "2174208              21.99                32.99             6          197.94   \n",
              "2174209              25.00                37.50             6          225.00   \n",
              "2174210               9.49                14.24             6           85.44   \n",
              "2174212              11.49                17.24             3           51.72   \n",
              "\n",
              "         Volume Sold (Liters)  Month  \n",
              "0                        2.25      1  \n",
              "6                        1.50      1  \n",
              "19                       2.25      1  \n",
              "20                       1.50      1  \n",
              "25                       1.50      1  \n",
              "...                       ...    ...  \n",
              "2174207                  2.25     10  \n",
              "2174208                  4.50     10  \n",
              "2174209                  4.50     10  \n",
              "2174210                  4.50     10  \n",
              "2174212                  5.25     10  \n",
              "\n",
              "[970139 rows x 13 columns]"
            ],
            "text/html": [
              "\n",
              "  <div id=\"df-495972c3-8286-4123-9915-fcd1587bc357\" class=\"colab-df-container\">\n",
              "    <div>\n",
              "<style scoped>\n",
              "    .dataframe tbody tr th:only-of-type {\n",
              "        vertical-align: middle;\n",
              "    }\n",
              "\n",
              "    .dataframe tbody tr th {\n",
              "        vertical-align: top;\n",
              "    }\n",
              "\n",
              "    .dataframe thead th {\n",
              "        text-align: right;\n",
              "    }\n",
              "</style>\n",
              "<table border=\"1\" class=\"dataframe\">\n",
              "  <thead>\n",
              "    <tr style=\"text-align: right;\">\n",
              "      <th></th>\n",
              "      <th>City</th>\n",
              "      <th>County</th>\n",
              "      <th>Category Name</th>\n",
              "      <th>Vendor Name</th>\n",
              "      <th>Item Number</th>\n",
              "      <th>Pack</th>\n",
              "      <th>Bottle Volume (ml)</th>\n",
              "      <th>State Bottle Cost</th>\n",
              "      <th>State Bottle Retail</th>\n",
              "      <th>Bottles Sold</th>\n",
              "      <th>Sale (Dollars)</th>\n",
              "      <th>Volume Sold (Liters)</th>\n",
              "      <th>Month</th>\n",
              "    </tr>\n",
              "  </thead>\n",
              "  <tbody>\n",
              "    <tr>\n",
              "      <th>0</th>\n",
              "      <td>DES MOINES</td>\n",
              "      <td>POLK</td>\n",
              "      <td>100% AGAVE TEQUILA</td>\n",
              "      <td>DIAGEO AMERICAS</td>\n",
              "      <td>89177</td>\n",
              "      <td>6</td>\n",
              "      <td>750</td>\n",
              "      <td>29.99</td>\n",
              "      <td>44.99</td>\n",
              "      <td>3</td>\n",
              "      <td>134.97</td>\n",
              "      <td>2.25</td>\n",
              "      <td>1</td>\n",
              "    </tr>\n",
              "    <tr>\n",
              "      <th>6</th>\n",
              "      <td>DES MOINES</td>\n",
              "      <td>POLK</td>\n",
              "      <td>TEMPORARY &amp; SPECIALTY PACKAGES</td>\n",
              "      <td>DIAGEO AMERICAS</td>\n",
              "      <td>67905</td>\n",
              "      <td>12</td>\n",
              "      <td>750</td>\n",
              "      <td>16.49</td>\n",
              "      <td>24.74</td>\n",
              "      <td>2</td>\n",
              "      <td>49.48</td>\n",
              "      <td>1.50</td>\n",
              "      <td>1</td>\n",
              "    </tr>\n",
              "    <tr>\n",
              "      <th>19</th>\n",
              "      <td>JOHNSTON</td>\n",
              "      <td>POLK</td>\n",
              "      <td>AMERICAN VODKAS</td>\n",
              "      <td>BLUE OX SPIRITS, INC.</td>\n",
              "      <td>36985</td>\n",
              "      <td>24</td>\n",
              "      <td>375</td>\n",
              "      <td>2.15</td>\n",
              "      <td>3.23</td>\n",
              "      <td>6</td>\n",
              "      <td>19.38</td>\n",
              "      <td>2.25</td>\n",
              "      <td>1</td>\n",
              "    </tr>\n",
              "    <tr>\n",
              "      <th>20</th>\n",
              "      <td>DES MOINES</td>\n",
              "      <td>POLK</td>\n",
              "      <td>100% AGAVE TEQUILA</td>\n",
              "      <td>PROXIMO</td>\n",
              "      <td>87832</td>\n",
              "      <td>6</td>\n",
              "      <td>750</td>\n",
              "      <td>17.33</td>\n",
              "      <td>26.00</td>\n",
              "      <td>2</td>\n",
              "      <td>52.00</td>\n",
              "      <td>1.50</td>\n",
              "      <td>1</td>\n",
              "    </tr>\n",
              "    <tr>\n",
              "      <th>25</th>\n",
              "      <td>DES MOINES</td>\n",
              "      <td>POLK</td>\n",
              "      <td>TEMPORARY &amp; SPECIALTY PACKAGES</td>\n",
              "      <td>PARK STREET IMPORTS</td>\n",
              "      <td>27757</td>\n",
              "      <td>6</td>\n",
              "      <td>750</td>\n",
              "      <td>22.50</td>\n",
              "      <td>33.75</td>\n",
              "      <td>2</td>\n",
              "      <td>67.50</td>\n",
              "      <td>1.50</td>\n",
              "      <td>1</td>\n",
              "    </tr>\n",
              "    <tr>\n",
              "      <th>...</th>\n",
              "      <td>...</td>\n",
              "      <td>...</td>\n",
              "      <td>...</td>\n",
              "      <td>...</td>\n",
              "      <td>...</td>\n",
              "      <td>...</td>\n",
              "      <td>...</td>\n",
              "      <td>...</td>\n",
              "      <td>...</td>\n",
              "      <td>...</td>\n",
              "      <td>...</td>\n",
              "      <td>...</td>\n",
              "      <td>...</td>\n",
              "    </tr>\n",
              "    <tr>\n",
              "      <th>2174207</th>\n",
              "      <td>WATERLOO</td>\n",
              "      <td>BLACK HAWK</td>\n",
              "      <td>100% AGAVE TEQUILA</td>\n",
              "      <td>PROXIMO</td>\n",
              "      <td>87509</td>\n",
              "      <td>12</td>\n",
              "      <td>375</td>\n",
              "      <td>9.25</td>\n",
              "      <td>13.88</td>\n",
              "      <td>6</td>\n",
              "      <td>83.28</td>\n",
              "      <td>2.25</td>\n",
              "      <td>10</td>\n",
              "    </tr>\n",
              "    <tr>\n",
              "      <th>2174208</th>\n",
              "      <td>CORALVILLE</td>\n",
              "      <td>JOHNSON</td>\n",
              "      <td>SCOTCH WHISKIES</td>\n",
              "      <td>DIAGEO AMERICAS</td>\n",
              "      <td>5326</td>\n",
              "      <td>12</td>\n",
              "      <td>750</td>\n",
              "      <td>21.99</td>\n",
              "      <td>32.99</td>\n",
              "      <td>6</td>\n",
              "      <td>197.94</td>\n",
              "      <td>4.50</td>\n",
              "      <td>10</td>\n",
              "    </tr>\n",
              "    <tr>\n",
              "      <th>2174209</th>\n",
              "      <td>IOWA CITY</td>\n",
              "      <td>JOHNSON</td>\n",
              "      <td>BOTTLED IN BOND BOURBON</td>\n",
              "      <td>CEDAR RIDGE VINEYARDS LL</td>\n",
              "      <td>16050</td>\n",
              "      <td>6</td>\n",
              "      <td>750</td>\n",
              "      <td>25.00</td>\n",
              "      <td>37.50</td>\n",
              "      <td>6</td>\n",
              "      <td>225.00</td>\n",
              "      <td>4.50</td>\n",
              "      <td>10</td>\n",
              "    </tr>\n",
              "    <tr>\n",
              "      <th>2174210</th>\n",
              "      <td>TIFFIN</td>\n",
              "      <td>JOHNSON</td>\n",
              "      <td>SPICED RUM</td>\n",
              "      <td>DIAGEO AMERICAS</td>\n",
              "      <td>43336</td>\n",
              "      <td>12</td>\n",
              "      <td>750</td>\n",
              "      <td>9.49</td>\n",
              "      <td>14.24</td>\n",
              "      <td>6</td>\n",
              "      <td>85.44</td>\n",
              "      <td>4.50</td>\n",
              "      <td>10</td>\n",
              "    </tr>\n",
              "    <tr>\n",
              "      <th>2174212</th>\n",
              "      <td>WATERLOO</td>\n",
              "      <td>BLACK HAWK</td>\n",
              "      <td>CANADIAN WHISKIES</td>\n",
              "      <td>SAZERAC COMPANY  INC</td>\n",
              "      <td>11348</td>\n",
              "      <td>6</td>\n",
              "      <td>1750</td>\n",
              "      <td>11.49</td>\n",
              "      <td>17.24</td>\n",
              "      <td>3</td>\n",
              "      <td>51.72</td>\n",
              "      <td>5.25</td>\n",
              "      <td>10</td>\n",
              "    </tr>\n",
              "  </tbody>\n",
              "</table>\n",
              "<p>970139 rows × 13 columns</p>\n",
              "</div>\n",
              "    <div class=\"colab-df-buttons\">\n",
              "\n",
              "  <div class=\"colab-df-container\">\n",
              "    <button class=\"colab-df-convert\" onclick=\"convertToInteractive('df-495972c3-8286-4123-9915-fcd1587bc357')\"\n",
              "            title=\"Convert this dataframe to an interactive table.\"\n",
              "            style=\"display:none;\">\n",
              "\n",
              "  <svg xmlns=\"http://www.w3.org/2000/svg\" height=\"24px\" viewBox=\"0 -960 960 960\">\n",
              "    <path d=\"M120-120v-720h720v720H120Zm60-500h600v-160H180v160Zm220 220h160v-160H400v160Zm0 220h160v-160H400v160ZM180-400h160v-160H180v160Zm440 0h160v-160H620v160ZM180-180h160v-160H180v160Zm440 0h160v-160H620v160Z\"/>\n",
              "  </svg>\n",
              "    </button>\n",
              "\n",
              "  <style>\n",
              "    .colab-df-container {\n",
              "      display:flex;\n",
              "      gap: 12px;\n",
              "    }\n",
              "\n",
              "    .colab-df-convert {\n",
              "      background-color: #E8F0FE;\n",
              "      border: none;\n",
              "      border-radius: 50%;\n",
              "      cursor: pointer;\n",
              "      display: none;\n",
              "      fill: #1967D2;\n",
              "      height: 32px;\n",
              "      padding: 0 0 0 0;\n",
              "      width: 32px;\n",
              "    }\n",
              "\n",
              "    .colab-df-convert:hover {\n",
              "      background-color: #E2EBFA;\n",
              "      box-shadow: 0px 1px 2px rgba(60, 64, 67, 0.3), 0px 1px 3px 1px rgba(60, 64, 67, 0.15);\n",
              "      fill: #174EA6;\n",
              "    }\n",
              "\n",
              "    .colab-df-buttons div {\n",
              "      margin-bottom: 4px;\n",
              "    }\n",
              "\n",
              "    [theme=dark] .colab-df-convert {\n",
              "      background-color: #3B4455;\n",
              "      fill: #D2E3FC;\n",
              "    }\n",
              "\n",
              "    [theme=dark] .colab-df-convert:hover {\n",
              "      background-color: #434B5C;\n",
              "      box-shadow: 0px 1px 3px 1px rgba(0, 0, 0, 0.15);\n",
              "      filter: drop-shadow(0px 1px 2px rgba(0, 0, 0, 0.3));\n",
              "      fill: #FFFFFF;\n",
              "    }\n",
              "  </style>\n",
              "\n",
              "    <script>\n",
              "      const buttonEl =\n",
              "        document.querySelector('#df-495972c3-8286-4123-9915-fcd1587bc357 button.colab-df-convert');\n",
              "      buttonEl.style.display =\n",
              "        google.colab.kernel.accessAllowed ? 'block' : 'none';\n",
              "\n",
              "      async function convertToInteractive(key) {\n",
              "        const element = document.querySelector('#df-495972c3-8286-4123-9915-fcd1587bc357');\n",
              "        const dataTable =\n",
              "          await google.colab.kernel.invokeFunction('convertToInteractive',\n",
              "                                                    [key], {});\n",
              "        if (!dataTable) return;\n",
              "\n",
              "        const docLinkHtml = 'Like what you see? Visit the ' +\n",
              "          '<a target=\"_blank\" href=https://colab.research.google.com/notebooks/data_table.ipynb>data table notebook</a>'\n",
              "          + ' to learn more about interactive tables.';\n",
              "        element.innerHTML = '';\n",
              "        dataTable['output_type'] = 'display_data';\n",
              "        await google.colab.output.renderOutput(dataTable, element);\n",
              "        const docLink = document.createElement('div');\n",
              "        docLink.innerHTML = docLinkHtml;\n",
              "        element.appendChild(docLink);\n",
              "      }\n",
              "    </script>\n",
              "  </div>\n",
              "\n",
              "\n",
              "<div id=\"df-bb7f8967-c944-430a-8a1c-80d43c1cf9d2\">\n",
              "  <button class=\"colab-df-quickchart\" onclick=\"quickchart('df-bb7f8967-c944-430a-8a1c-80d43c1cf9d2')\"\n",
              "            title=\"Suggest charts\"\n",
              "            style=\"display:none;\">\n",
              "\n",
              "<svg xmlns=\"http://www.w3.org/2000/svg\" height=\"24px\"viewBox=\"0 0 24 24\"\n",
              "     width=\"24px\">\n",
              "    <g>\n",
              "        <path d=\"M19 3H5c-1.1 0-2 .9-2 2v14c0 1.1.9 2 2 2h14c1.1 0 2-.9 2-2V5c0-1.1-.9-2-2-2zM9 17H7v-7h2v7zm4 0h-2V7h2v10zm4 0h-2v-4h2v4z\"/>\n",
              "    </g>\n",
              "</svg>\n",
              "  </button>\n",
              "\n",
              "<style>\n",
              "  .colab-df-quickchart {\n",
              "      --bg-color: #E8F0FE;\n",
              "      --fill-color: #1967D2;\n",
              "      --hover-bg-color: #E2EBFA;\n",
              "      --hover-fill-color: #174EA6;\n",
              "      --disabled-fill-color: #AAA;\n",
              "      --disabled-bg-color: #DDD;\n",
              "  }\n",
              "\n",
              "  [theme=dark] .colab-df-quickchart {\n",
              "      --bg-color: #3B4455;\n",
              "      --fill-color: #D2E3FC;\n",
              "      --hover-bg-color: #434B5C;\n",
              "      --hover-fill-color: #FFFFFF;\n",
              "      --disabled-bg-color: #3B4455;\n",
              "      --disabled-fill-color: #666;\n",
              "  }\n",
              "\n",
              "  .colab-df-quickchart {\n",
              "    background-color: var(--bg-color);\n",
              "    border: none;\n",
              "    border-radius: 50%;\n",
              "    cursor: pointer;\n",
              "    display: none;\n",
              "    fill: var(--fill-color);\n",
              "    height: 32px;\n",
              "    padding: 0;\n",
              "    width: 32px;\n",
              "  }\n",
              "\n",
              "  .colab-df-quickchart:hover {\n",
              "    background-color: var(--hover-bg-color);\n",
              "    box-shadow: 0 1px 2px rgba(60, 64, 67, 0.3), 0 1px 3px 1px rgba(60, 64, 67, 0.15);\n",
              "    fill: var(--button-hover-fill-color);\n",
              "  }\n",
              "\n",
              "  .colab-df-quickchart-complete:disabled,\n",
              "  .colab-df-quickchart-complete:disabled:hover {\n",
              "    background-color: var(--disabled-bg-color);\n",
              "    fill: var(--disabled-fill-color);\n",
              "    box-shadow: none;\n",
              "  }\n",
              "\n",
              "  .colab-df-spinner {\n",
              "    border: 2px solid var(--fill-color);\n",
              "    border-color: transparent;\n",
              "    border-bottom-color: var(--fill-color);\n",
              "    animation:\n",
              "      spin 1s steps(1) infinite;\n",
              "  }\n",
              "\n",
              "  @keyframes spin {\n",
              "    0% {\n",
              "      border-color: transparent;\n",
              "      border-bottom-color: var(--fill-color);\n",
              "      border-left-color: var(--fill-color);\n",
              "    }\n",
              "    20% {\n",
              "      border-color: transparent;\n",
              "      border-left-color: var(--fill-color);\n",
              "      border-top-color: var(--fill-color);\n",
              "    }\n",
              "    30% {\n",
              "      border-color: transparent;\n",
              "      border-left-color: var(--fill-color);\n",
              "      border-top-color: var(--fill-color);\n",
              "      border-right-color: var(--fill-color);\n",
              "    }\n",
              "    40% {\n",
              "      border-color: transparent;\n",
              "      border-right-color: var(--fill-color);\n",
              "      border-top-color: var(--fill-color);\n",
              "    }\n",
              "    60% {\n",
              "      border-color: transparent;\n",
              "      border-right-color: var(--fill-color);\n",
              "    }\n",
              "    80% {\n",
              "      border-color: transparent;\n",
              "      border-right-color: var(--fill-color);\n",
              "      border-bottom-color: var(--fill-color);\n",
              "    }\n",
              "    90% {\n",
              "      border-color: transparent;\n",
              "      border-bottom-color: var(--fill-color);\n",
              "    }\n",
              "  }\n",
              "</style>\n",
              "\n",
              "  <script>\n",
              "    async function quickchart(key) {\n",
              "      const quickchartButtonEl =\n",
              "        document.querySelector('#' + key + ' button');\n",
              "      quickchartButtonEl.disabled = true;  // To prevent multiple clicks.\n",
              "      quickchartButtonEl.classList.add('colab-df-spinner');\n",
              "      try {\n",
              "        const charts = await google.colab.kernel.invokeFunction(\n",
              "            'suggestCharts', [key], {});\n",
              "      } catch (error) {\n",
              "        console.error('Error during call to suggestCharts:', error);\n",
              "      }\n",
              "      quickchartButtonEl.classList.remove('colab-df-spinner');\n",
              "      quickchartButtonEl.classList.add('colab-df-quickchart-complete');\n",
              "    }\n",
              "    (() => {\n",
              "      let quickchartButtonEl =\n",
              "        document.querySelector('#df-bb7f8967-c944-430a-8a1c-80d43c1cf9d2 button');\n",
              "      quickchartButtonEl.style.display =\n",
              "        google.colab.kernel.accessAllowed ? 'block' : 'none';\n",
              "    })();\n",
              "  </script>\n",
              "</div>\n",
              "    </div>\n",
              "  </div>\n"
            ]
          },
          "metadata": {},
          "execution_count": 11
        }
      ],
      "source": [
        "df1 = df1.drop_duplicates(keep=False)\n",
        "df1"
      ]
    },
    {
      "cell_type": "code",
      "execution_count": 12,
      "metadata": {
        "id": "CoDWHbSPu0iK"
      },
      "outputs": [],
      "source": [
        "import pandas as pd\n",
        "import warnings\n",
        "warnings.filterwarnings('ignore')\n",
        "\n",
        "# create an empty DataFrame to store the data\n",
        "liquor = pd.DataFrame()\n",
        "\n",
        "# 4% monthly\n",
        "for month in df1['Month'].unique():\n",
        "    monthly_data = df1[df1['Month'] == month]\n",
        "    sample = monthly_data.sample(frac=0.04, random_state=42)\n",
        "    liquor = liquor.append(sample)\n",
        "\n",
        "# reset index\n",
        "liquor.reset_index(drop=True, inplace=True)"
      ]
    },
    {
      "cell_type": "code",
      "execution_count": 13,
      "metadata": {
        "colab": {
          "base_uri": "https://localhost:8080/"
        },
        "id": "kQtS8YPGv9VC",
        "outputId": "0ee7c895-2655-4d2d-b5a6-72065a5509ff"
      },
      "outputs": [
        {
          "output_type": "stream",
          "name": "stdout",
          "text": [
            "<class 'pandas.core.frame.DataFrame'>\n",
            "RangeIndex: 38806 entries, 0 to 38805\n",
            "Data columns (total 13 columns):\n",
            " #   Column                Non-Null Count  Dtype  \n",
            "---  ------                --------------  -----  \n",
            " 0   City                  38806 non-null  object \n",
            " 1   County                38806 non-null  object \n",
            " 2   Category Name         38806 non-null  object \n",
            " 3   Vendor Name           38806 non-null  object \n",
            " 4   Item Number           38806 non-null  int64  \n",
            " 5   Pack                  38806 non-null  int64  \n",
            " 6   Bottle Volume (ml)    38806 non-null  int64  \n",
            " 7   State Bottle Cost     38806 non-null  float64\n",
            " 8   State Bottle Retail   38806 non-null  float64\n",
            " 9   Bottles Sold          38806 non-null  int64  \n",
            " 10  Sale (Dollars)        38806 non-null  float64\n",
            " 11  Volume Sold (Liters)  38806 non-null  float64\n",
            " 12  Month                 38806 non-null  int64  \n",
            "dtypes: float64(4), int64(5), object(4)\n",
            "memory usage: 3.8+ MB\n"
          ]
        }
      ],
      "source": [
        "liquor.info()"
      ]
    },
    {
      "cell_type": "code",
      "source": [
        "liquor.head(3)"
      ],
      "metadata": {
        "colab": {
          "base_uri": "https://localhost:8080/",
          "height": 352
        },
        "id": "DFcTfCRceBpd",
        "outputId": "c5d56a52-4162-4908-c6af-3c41605b73dd"
      },
      "execution_count": 14,
      "outputs": [
        {
          "output_type": "execute_result",
          "data": {
            "text/plain": [
              "         City    County                   Category Name  \\\n",
              "0  DES MOINES      POLK                    FLAVORED RUM   \n",
              "1      MARION      LINN  SINGLE BARREL BOURBON WHISKIES   \n",
              "2  SIOUX CITY  WOODBURY    AMERICAN CORDIALS & LIQUEURS   \n",
              "\n",
              "                                         Vendor Name  Item Number  Pack  \\\n",
              "0                                  PERNOD RICARD USA        43902    12   \n",
              "1  KIRIN BEER & SPIRITS OF AMERICA INC / FOUR ROS...        18350     6   \n",
              "2                               SAZERAC COMPANY  INC        84242    10   \n",
              "\n",
              "   Bottle Volume (ml)  State Bottle Cost  State Bottle Retail  Bottles Sold  \\\n",
              "0                 750               8.99                13.49             1   \n",
              "1                 750              22.50                33.75             1   \n",
              "2                  50               5.16                 7.74             3   \n",
              "\n",
              "   Sale (Dollars)  Volume Sold (Liters)  Month  \n",
              "0           13.49                  0.75      1  \n",
              "1           33.75                  0.75      1  \n",
              "2           23.22                  0.15      1  "
            ],
            "text/html": [
              "\n",
              "  <div id=\"df-eb9e3261-58a8-48d5-a411-15d9e54b67fa\" class=\"colab-df-container\">\n",
              "    <div>\n",
              "<style scoped>\n",
              "    .dataframe tbody tr th:only-of-type {\n",
              "        vertical-align: middle;\n",
              "    }\n",
              "\n",
              "    .dataframe tbody tr th {\n",
              "        vertical-align: top;\n",
              "    }\n",
              "\n",
              "    .dataframe thead th {\n",
              "        text-align: right;\n",
              "    }\n",
              "</style>\n",
              "<table border=\"1\" class=\"dataframe\">\n",
              "  <thead>\n",
              "    <tr style=\"text-align: right;\">\n",
              "      <th></th>\n",
              "      <th>City</th>\n",
              "      <th>County</th>\n",
              "      <th>Category Name</th>\n",
              "      <th>Vendor Name</th>\n",
              "      <th>Item Number</th>\n",
              "      <th>Pack</th>\n",
              "      <th>Bottle Volume (ml)</th>\n",
              "      <th>State Bottle Cost</th>\n",
              "      <th>State Bottle Retail</th>\n",
              "      <th>Bottles Sold</th>\n",
              "      <th>Sale (Dollars)</th>\n",
              "      <th>Volume Sold (Liters)</th>\n",
              "      <th>Month</th>\n",
              "    </tr>\n",
              "  </thead>\n",
              "  <tbody>\n",
              "    <tr>\n",
              "      <th>0</th>\n",
              "      <td>DES MOINES</td>\n",
              "      <td>POLK</td>\n",
              "      <td>FLAVORED RUM</td>\n",
              "      <td>PERNOD RICARD USA</td>\n",
              "      <td>43902</td>\n",
              "      <td>12</td>\n",
              "      <td>750</td>\n",
              "      <td>8.99</td>\n",
              "      <td>13.49</td>\n",
              "      <td>1</td>\n",
              "      <td>13.49</td>\n",
              "      <td>0.75</td>\n",
              "      <td>1</td>\n",
              "    </tr>\n",
              "    <tr>\n",
              "      <th>1</th>\n",
              "      <td>MARION</td>\n",
              "      <td>LINN</td>\n",
              "      <td>SINGLE BARREL BOURBON WHISKIES</td>\n",
              "      <td>KIRIN BEER &amp; SPIRITS OF AMERICA INC / FOUR ROS...</td>\n",
              "      <td>18350</td>\n",
              "      <td>6</td>\n",
              "      <td>750</td>\n",
              "      <td>22.50</td>\n",
              "      <td>33.75</td>\n",
              "      <td>1</td>\n",
              "      <td>33.75</td>\n",
              "      <td>0.75</td>\n",
              "      <td>1</td>\n",
              "    </tr>\n",
              "    <tr>\n",
              "      <th>2</th>\n",
              "      <td>SIOUX CITY</td>\n",
              "      <td>WOODBURY</td>\n",
              "      <td>AMERICAN CORDIALS &amp; LIQUEURS</td>\n",
              "      <td>SAZERAC COMPANY  INC</td>\n",
              "      <td>84242</td>\n",
              "      <td>10</td>\n",
              "      <td>50</td>\n",
              "      <td>5.16</td>\n",
              "      <td>7.74</td>\n",
              "      <td>3</td>\n",
              "      <td>23.22</td>\n",
              "      <td>0.15</td>\n",
              "      <td>1</td>\n",
              "    </tr>\n",
              "  </tbody>\n",
              "</table>\n",
              "</div>\n",
              "    <div class=\"colab-df-buttons\">\n",
              "\n",
              "  <div class=\"colab-df-container\">\n",
              "    <button class=\"colab-df-convert\" onclick=\"convertToInteractive('df-eb9e3261-58a8-48d5-a411-15d9e54b67fa')\"\n",
              "            title=\"Convert this dataframe to an interactive table.\"\n",
              "            style=\"display:none;\">\n",
              "\n",
              "  <svg xmlns=\"http://www.w3.org/2000/svg\" height=\"24px\" viewBox=\"0 -960 960 960\">\n",
              "    <path d=\"M120-120v-720h720v720H120Zm60-500h600v-160H180v160Zm220 220h160v-160H400v160Zm0 220h160v-160H400v160ZM180-400h160v-160H180v160Zm440 0h160v-160H620v160ZM180-180h160v-160H180v160Zm440 0h160v-160H620v160Z\"/>\n",
              "  </svg>\n",
              "    </button>\n",
              "\n",
              "  <style>\n",
              "    .colab-df-container {\n",
              "      display:flex;\n",
              "      gap: 12px;\n",
              "    }\n",
              "\n",
              "    .colab-df-convert {\n",
              "      background-color: #E8F0FE;\n",
              "      border: none;\n",
              "      border-radius: 50%;\n",
              "      cursor: pointer;\n",
              "      display: none;\n",
              "      fill: #1967D2;\n",
              "      height: 32px;\n",
              "      padding: 0 0 0 0;\n",
              "      width: 32px;\n",
              "    }\n",
              "\n",
              "    .colab-df-convert:hover {\n",
              "      background-color: #E2EBFA;\n",
              "      box-shadow: 0px 1px 2px rgba(60, 64, 67, 0.3), 0px 1px 3px 1px rgba(60, 64, 67, 0.15);\n",
              "      fill: #174EA6;\n",
              "    }\n",
              "\n",
              "    .colab-df-buttons div {\n",
              "      margin-bottom: 4px;\n",
              "    }\n",
              "\n",
              "    [theme=dark] .colab-df-convert {\n",
              "      background-color: #3B4455;\n",
              "      fill: #D2E3FC;\n",
              "    }\n",
              "\n",
              "    [theme=dark] .colab-df-convert:hover {\n",
              "      background-color: #434B5C;\n",
              "      box-shadow: 0px 1px 3px 1px rgba(0, 0, 0, 0.15);\n",
              "      filter: drop-shadow(0px 1px 2px rgba(0, 0, 0, 0.3));\n",
              "      fill: #FFFFFF;\n",
              "    }\n",
              "  </style>\n",
              "\n",
              "    <script>\n",
              "      const buttonEl =\n",
              "        document.querySelector('#df-eb9e3261-58a8-48d5-a411-15d9e54b67fa button.colab-df-convert');\n",
              "      buttonEl.style.display =\n",
              "        google.colab.kernel.accessAllowed ? 'block' : 'none';\n",
              "\n",
              "      async function convertToInteractive(key) {\n",
              "        const element = document.querySelector('#df-eb9e3261-58a8-48d5-a411-15d9e54b67fa');\n",
              "        const dataTable =\n",
              "          await google.colab.kernel.invokeFunction('convertToInteractive',\n",
              "                                                    [key], {});\n",
              "        if (!dataTable) return;\n",
              "\n",
              "        const docLinkHtml = 'Like what you see? Visit the ' +\n",
              "          '<a target=\"_blank\" href=https://colab.research.google.com/notebooks/data_table.ipynb>data table notebook</a>'\n",
              "          + ' to learn more about interactive tables.';\n",
              "        element.innerHTML = '';\n",
              "        dataTable['output_type'] = 'display_data';\n",
              "        await google.colab.output.renderOutput(dataTable, element);\n",
              "        const docLink = document.createElement('div');\n",
              "        docLink.innerHTML = docLinkHtml;\n",
              "        element.appendChild(docLink);\n",
              "      }\n",
              "    </script>\n",
              "  </div>\n",
              "\n",
              "\n",
              "<div id=\"df-b2dcf88f-4170-4115-9d5c-e8683a48a547\">\n",
              "  <button class=\"colab-df-quickchart\" onclick=\"quickchart('df-b2dcf88f-4170-4115-9d5c-e8683a48a547')\"\n",
              "            title=\"Suggest charts\"\n",
              "            style=\"display:none;\">\n",
              "\n",
              "<svg xmlns=\"http://www.w3.org/2000/svg\" height=\"24px\"viewBox=\"0 0 24 24\"\n",
              "     width=\"24px\">\n",
              "    <g>\n",
              "        <path d=\"M19 3H5c-1.1 0-2 .9-2 2v14c0 1.1.9 2 2 2h14c1.1 0 2-.9 2-2V5c0-1.1-.9-2-2-2zM9 17H7v-7h2v7zm4 0h-2V7h2v10zm4 0h-2v-4h2v4z\"/>\n",
              "    </g>\n",
              "</svg>\n",
              "  </button>\n",
              "\n",
              "<style>\n",
              "  .colab-df-quickchart {\n",
              "      --bg-color: #E8F0FE;\n",
              "      --fill-color: #1967D2;\n",
              "      --hover-bg-color: #E2EBFA;\n",
              "      --hover-fill-color: #174EA6;\n",
              "      --disabled-fill-color: #AAA;\n",
              "      --disabled-bg-color: #DDD;\n",
              "  }\n",
              "\n",
              "  [theme=dark] .colab-df-quickchart {\n",
              "      --bg-color: #3B4455;\n",
              "      --fill-color: #D2E3FC;\n",
              "      --hover-bg-color: #434B5C;\n",
              "      --hover-fill-color: #FFFFFF;\n",
              "      --disabled-bg-color: #3B4455;\n",
              "      --disabled-fill-color: #666;\n",
              "  }\n",
              "\n",
              "  .colab-df-quickchart {\n",
              "    background-color: var(--bg-color);\n",
              "    border: none;\n",
              "    border-radius: 50%;\n",
              "    cursor: pointer;\n",
              "    display: none;\n",
              "    fill: var(--fill-color);\n",
              "    height: 32px;\n",
              "    padding: 0;\n",
              "    width: 32px;\n",
              "  }\n",
              "\n",
              "  .colab-df-quickchart:hover {\n",
              "    background-color: var(--hover-bg-color);\n",
              "    box-shadow: 0 1px 2px rgba(60, 64, 67, 0.3), 0 1px 3px 1px rgba(60, 64, 67, 0.15);\n",
              "    fill: var(--button-hover-fill-color);\n",
              "  }\n",
              "\n",
              "  .colab-df-quickchart-complete:disabled,\n",
              "  .colab-df-quickchart-complete:disabled:hover {\n",
              "    background-color: var(--disabled-bg-color);\n",
              "    fill: var(--disabled-fill-color);\n",
              "    box-shadow: none;\n",
              "  }\n",
              "\n",
              "  .colab-df-spinner {\n",
              "    border: 2px solid var(--fill-color);\n",
              "    border-color: transparent;\n",
              "    border-bottom-color: var(--fill-color);\n",
              "    animation:\n",
              "      spin 1s steps(1) infinite;\n",
              "  }\n",
              "\n",
              "  @keyframes spin {\n",
              "    0% {\n",
              "      border-color: transparent;\n",
              "      border-bottom-color: var(--fill-color);\n",
              "      border-left-color: var(--fill-color);\n",
              "    }\n",
              "    20% {\n",
              "      border-color: transparent;\n",
              "      border-left-color: var(--fill-color);\n",
              "      border-top-color: var(--fill-color);\n",
              "    }\n",
              "    30% {\n",
              "      border-color: transparent;\n",
              "      border-left-color: var(--fill-color);\n",
              "      border-top-color: var(--fill-color);\n",
              "      border-right-color: var(--fill-color);\n",
              "    }\n",
              "    40% {\n",
              "      border-color: transparent;\n",
              "      border-right-color: var(--fill-color);\n",
              "      border-top-color: var(--fill-color);\n",
              "    }\n",
              "    60% {\n",
              "      border-color: transparent;\n",
              "      border-right-color: var(--fill-color);\n",
              "    }\n",
              "    80% {\n",
              "      border-color: transparent;\n",
              "      border-right-color: var(--fill-color);\n",
              "      border-bottom-color: var(--fill-color);\n",
              "    }\n",
              "    90% {\n",
              "      border-color: transparent;\n",
              "      border-bottom-color: var(--fill-color);\n",
              "    }\n",
              "  }\n",
              "</style>\n",
              "\n",
              "  <script>\n",
              "    async function quickchart(key) {\n",
              "      const quickchartButtonEl =\n",
              "        document.querySelector('#' + key + ' button');\n",
              "      quickchartButtonEl.disabled = true;  // To prevent multiple clicks.\n",
              "      quickchartButtonEl.classList.add('colab-df-spinner');\n",
              "      try {\n",
              "        const charts = await google.colab.kernel.invokeFunction(\n",
              "            'suggestCharts', [key], {});\n",
              "      } catch (error) {\n",
              "        console.error('Error during call to suggestCharts:', error);\n",
              "      }\n",
              "      quickchartButtonEl.classList.remove('colab-df-spinner');\n",
              "      quickchartButtonEl.classList.add('colab-df-quickchart-complete');\n",
              "    }\n",
              "    (() => {\n",
              "      let quickchartButtonEl =\n",
              "        document.querySelector('#df-b2dcf88f-4170-4115-9d5c-e8683a48a547 button');\n",
              "      quickchartButtonEl.style.display =\n",
              "        google.colab.kernel.accessAllowed ? 'block' : 'none';\n",
              "    })();\n",
              "  </script>\n",
              "</div>\n",
              "    </div>\n",
              "  </div>\n"
            ]
          },
          "metadata": {},
          "execution_count": 14
        }
      ]
    },
    {
      "cell_type": "code",
      "execution_count": 15,
      "metadata": {
        "colab": {
          "base_uri": "https://localhost:8080/",
          "height": 335
        },
        "id": "D3AjBESV7R9i",
        "outputId": "da761c95-d55e-4fce-bee1-eca775ac775e"
      },
      "outputs": [
        {
          "output_type": "execute_result",
          "data": {
            "text/plain": [
              "         Item Number          Pack  Bottle Volume (ml)  State Bottle Cost  \\\n",
              "count   38806.000000  38806.000000        38806.000000       38806.000000   \n",
              "mean    66888.817322     11.372545          778.808561          13.398845   \n",
              "std    129734.498345      7.152603          486.513995          12.991074   \n",
              "min       258.000000      1.000000           20.000000           0.890000   \n",
              "25%     27175.000000      6.000000          375.000000           6.750000   \n",
              "50%     43027.000000     12.000000          750.000000           9.990000   \n",
              "75%     75264.000000     12.000000          750.000000          16.000000   \n",
              "max    996267.000000     48.000000         5250.000000         540.000000   \n",
              "\n",
              "       State Bottle Retail  Bottles Sold  Sale (Dollars)  \\\n",
              "count         38806.000000  38806.000000    38806.000000   \n",
              "mean             20.098418     11.512704      181.964336   \n",
              "std              19.484629     43.848913      769.572879   \n",
              "min               1.340000      1.000000        1.430000   \n",
              "25%              10.130000      2.000000       37.500000   \n",
              "50%              14.990000      6.000000       81.000000   \n",
              "75%              24.000000     12.000000      159.660000   \n",
              "max             810.000000   4620.000000    91291.200000   \n",
              "\n",
              "       Volume Sold (Liters)         Month  \n",
              "count          38806.000000  38806.000000  \n",
              "mean               9.918806      5.549168  \n",
              "std               55.526288      2.848861  \n",
              "min                0.020000      1.000000  \n",
              "25%                1.500000      3.000000  \n",
              "50%                3.500000      6.000000  \n",
              "75%                9.000000      8.000000  \n",
              "max             4620.000000     10.000000  "
            ],
            "text/html": [
              "\n",
              "  <div id=\"df-7e53f11f-b814-41b7-9f1c-c9465ab9b4d9\" class=\"colab-df-container\">\n",
              "    <div>\n",
              "<style scoped>\n",
              "    .dataframe tbody tr th:only-of-type {\n",
              "        vertical-align: middle;\n",
              "    }\n",
              "\n",
              "    .dataframe tbody tr th {\n",
              "        vertical-align: top;\n",
              "    }\n",
              "\n",
              "    .dataframe thead th {\n",
              "        text-align: right;\n",
              "    }\n",
              "</style>\n",
              "<table border=\"1\" class=\"dataframe\">\n",
              "  <thead>\n",
              "    <tr style=\"text-align: right;\">\n",
              "      <th></th>\n",
              "      <th>Item Number</th>\n",
              "      <th>Pack</th>\n",
              "      <th>Bottle Volume (ml)</th>\n",
              "      <th>State Bottle Cost</th>\n",
              "      <th>State Bottle Retail</th>\n",
              "      <th>Bottles Sold</th>\n",
              "      <th>Sale (Dollars)</th>\n",
              "      <th>Volume Sold (Liters)</th>\n",
              "      <th>Month</th>\n",
              "    </tr>\n",
              "  </thead>\n",
              "  <tbody>\n",
              "    <tr>\n",
              "      <th>count</th>\n",
              "      <td>38806.000000</td>\n",
              "      <td>38806.000000</td>\n",
              "      <td>38806.000000</td>\n",
              "      <td>38806.000000</td>\n",
              "      <td>38806.000000</td>\n",
              "      <td>38806.000000</td>\n",
              "      <td>38806.000000</td>\n",
              "      <td>38806.000000</td>\n",
              "      <td>38806.000000</td>\n",
              "    </tr>\n",
              "    <tr>\n",
              "      <th>mean</th>\n",
              "      <td>66888.817322</td>\n",
              "      <td>11.372545</td>\n",
              "      <td>778.808561</td>\n",
              "      <td>13.398845</td>\n",
              "      <td>20.098418</td>\n",
              "      <td>11.512704</td>\n",
              "      <td>181.964336</td>\n",
              "      <td>9.918806</td>\n",
              "      <td>5.549168</td>\n",
              "    </tr>\n",
              "    <tr>\n",
              "      <th>std</th>\n",
              "      <td>129734.498345</td>\n",
              "      <td>7.152603</td>\n",
              "      <td>486.513995</td>\n",
              "      <td>12.991074</td>\n",
              "      <td>19.484629</td>\n",
              "      <td>43.848913</td>\n",
              "      <td>769.572879</td>\n",
              "      <td>55.526288</td>\n",
              "      <td>2.848861</td>\n",
              "    </tr>\n",
              "    <tr>\n",
              "      <th>min</th>\n",
              "      <td>258.000000</td>\n",
              "      <td>1.000000</td>\n",
              "      <td>20.000000</td>\n",
              "      <td>0.890000</td>\n",
              "      <td>1.340000</td>\n",
              "      <td>1.000000</td>\n",
              "      <td>1.430000</td>\n",
              "      <td>0.020000</td>\n",
              "      <td>1.000000</td>\n",
              "    </tr>\n",
              "    <tr>\n",
              "      <th>25%</th>\n",
              "      <td>27175.000000</td>\n",
              "      <td>6.000000</td>\n",
              "      <td>375.000000</td>\n",
              "      <td>6.750000</td>\n",
              "      <td>10.130000</td>\n",
              "      <td>2.000000</td>\n",
              "      <td>37.500000</td>\n",
              "      <td>1.500000</td>\n",
              "      <td>3.000000</td>\n",
              "    </tr>\n",
              "    <tr>\n",
              "      <th>50%</th>\n",
              "      <td>43027.000000</td>\n",
              "      <td>12.000000</td>\n",
              "      <td>750.000000</td>\n",
              "      <td>9.990000</td>\n",
              "      <td>14.990000</td>\n",
              "      <td>6.000000</td>\n",
              "      <td>81.000000</td>\n",
              "      <td>3.500000</td>\n",
              "      <td>6.000000</td>\n",
              "    </tr>\n",
              "    <tr>\n",
              "      <th>75%</th>\n",
              "      <td>75264.000000</td>\n",
              "      <td>12.000000</td>\n",
              "      <td>750.000000</td>\n",
              "      <td>16.000000</td>\n",
              "      <td>24.000000</td>\n",
              "      <td>12.000000</td>\n",
              "      <td>159.660000</td>\n",
              "      <td>9.000000</td>\n",
              "      <td>8.000000</td>\n",
              "    </tr>\n",
              "    <tr>\n",
              "      <th>max</th>\n",
              "      <td>996267.000000</td>\n",
              "      <td>48.000000</td>\n",
              "      <td>5250.000000</td>\n",
              "      <td>540.000000</td>\n",
              "      <td>810.000000</td>\n",
              "      <td>4620.000000</td>\n",
              "      <td>91291.200000</td>\n",
              "      <td>4620.000000</td>\n",
              "      <td>10.000000</td>\n",
              "    </tr>\n",
              "  </tbody>\n",
              "</table>\n",
              "</div>\n",
              "    <div class=\"colab-df-buttons\">\n",
              "\n",
              "  <div class=\"colab-df-container\">\n",
              "    <button class=\"colab-df-convert\" onclick=\"convertToInteractive('df-7e53f11f-b814-41b7-9f1c-c9465ab9b4d9')\"\n",
              "            title=\"Convert this dataframe to an interactive table.\"\n",
              "            style=\"display:none;\">\n",
              "\n",
              "  <svg xmlns=\"http://www.w3.org/2000/svg\" height=\"24px\" viewBox=\"0 -960 960 960\">\n",
              "    <path d=\"M120-120v-720h720v720H120Zm60-500h600v-160H180v160Zm220 220h160v-160H400v160Zm0 220h160v-160H400v160ZM180-400h160v-160H180v160Zm440 0h160v-160H620v160ZM180-180h160v-160H180v160Zm440 0h160v-160H620v160Z\"/>\n",
              "  </svg>\n",
              "    </button>\n",
              "\n",
              "  <style>\n",
              "    .colab-df-container {\n",
              "      display:flex;\n",
              "      gap: 12px;\n",
              "    }\n",
              "\n",
              "    .colab-df-convert {\n",
              "      background-color: #E8F0FE;\n",
              "      border: none;\n",
              "      border-radius: 50%;\n",
              "      cursor: pointer;\n",
              "      display: none;\n",
              "      fill: #1967D2;\n",
              "      height: 32px;\n",
              "      padding: 0 0 0 0;\n",
              "      width: 32px;\n",
              "    }\n",
              "\n",
              "    .colab-df-convert:hover {\n",
              "      background-color: #E2EBFA;\n",
              "      box-shadow: 0px 1px 2px rgba(60, 64, 67, 0.3), 0px 1px 3px 1px rgba(60, 64, 67, 0.15);\n",
              "      fill: #174EA6;\n",
              "    }\n",
              "\n",
              "    .colab-df-buttons div {\n",
              "      margin-bottom: 4px;\n",
              "    }\n",
              "\n",
              "    [theme=dark] .colab-df-convert {\n",
              "      background-color: #3B4455;\n",
              "      fill: #D2E3FC;\n",
              "    }\n",
              "\n",
              "    [theme=dark] .colab-df-convert:hover {\n",
              "      background-color: #434B5C;\n",
              "      box-shadow: 0px 1px 3px 1px rgba(0, 0, 0, 0.15);\n",
              "      filter: drop-shadow(0px 1px 2px rgba(0, 0, 0, 0.3));\n",
              "      fill: #FFFFFF;\n",
              "    }\n",
              "  </style>\n",
              "\n",
              "    <script>\n",
              "      const buttonEl =\n",
              "        document.querySelector('#df-7e53f11f-b814-41b7-9f1c-c9465ab9b4d9 button.colab-df-convert');\n",
              "      buttonEl.style.display =\n",
              "        google.colab.kernel.accessAllowed ? 'block' : 'none';\n",
              "\n",
              "      async function convertToInteractive(key) {\n",
              "        const element = document.querySelector('#df-7e53f11f-b814-41b7-9f1c-c9465ab9b4d9');\n",
              "        const dataTable =\n",
              "          await google.colab.kernel.invokeFunction('convertToInteractive',\n",
              "                                                    [key], {});\n",
              "        if (!dataTable) return;\n",
              "\n",
              "        const docLinkHtml = 'Like what you see? Visit the ' +\n",
              "          '<a target=\"_blank\" href=https://colab.research.google.com/notebooks/data_table.ipynb>data table notebook</a>'\n",
              "          + ' to learn more about interactive tables.';\n",
              "        element.innerHTML = '';\n",
              "        dataTable['output_type'] = 'display_data';\n",
              "        await google.colab.output.renderOutput(dataTable, element);\n",
              "        const docLink = document.createElement('div');\n",
              "        docLink.innerHTML = docLinkHtml;\n",
              "        element.appendChild(docLink);\n",
              "      }\n",
              "    </script>\n",
              "  </div>\n",
              "\n",
              "\n",
              "<div id=\"df-2f5accb5-3bb8-4234-8d8f-645cf83e04d0\">\n",
              "  <button class=\"colab-df-quickchart\" onclick=\"quickchart('df-2f5accb5-3bb8-4234-8d8f-645cf83e04d0')\"\n",
              "            title=\"Suggest charts\"\n",
              "            style=\"display:none;\">\n",
              "\n",
              "<svg xmlns=\"http://www.w3.org/2000/svg\" height=\"24px\"viewBox=\"0 0 24 24\"\n",
              "     width=\"24px\">\n",
              "    <g>\n",
              "        <path d=\"M19 3H5c-1.1 0-2 .9-2 2v14c0 1.1.9 2 2 2h14c1.1 0 2-.9 2-2V5c0-1.1-.9-2-2-2zM9 17H7v-7h2v7zm4 0h-2V7h2v10zm4 0h-2v-4h2v4z\"/>\n",
              "    </g>\n",
              "</svg>\n",
              "  </button>\n",
              "\n",
              "<style>\n",
              "  .colab-df-quickchart {\n",
              "      --bg-color: #E8F0FE;\n",
              "      --fill-color: #1967D2;\n",
              "      --hover-bg-color: #E2EBFA;\n",
              "      --hover-fill-color: #174EA6;\n",
              "      --disabled-fill-color: #AAA;\n",
              "      --disabled-bg-color: #DDD;\n",
              "  }\n",
              "\n",
              "  [theme=dark] .colab-df-quickchart {\n",
              "      --bg-color: #3B4455;\n",
              "      --fill-color: #D2E3FC;\n",
              "      --hover-bg-color: #434B5C;\n",
              "      --hover-fill-color: #FFFFFF;\n",
              "      --disabled-bg-color: #3B4455;\n",
              "      --disabled-fill-color: #666;\n",
              "  }\n",
              "\n",
              "  .colab-df-quickchart {\n",
              "    background-color: var(--bg-color);\n",
              "    border: none;\n",
              "    border-radius: 50%;\n",
              "    cursor: pointer;\n",
              "    display: none;\n",
              "    fill: var(--fill-color);\n",
              "    height: 32px;\n",
              "    padding: 0;\n",
              "    width: 32px;\n",
              "  }\n",
              "\n",
              "  .colab-df-quickchart:hover {\n",
              "    background-color: var(--hover-bg-color);\n",
              "    box-shadow: 0 1px 2px rgba(60, 64, 67, 0.3), 0 1px 3px 1px rgba(60, 64, 67, 0.15);\n",
              "    fill: var(--button-hover-fill-color);\n",
              "  }\n",
              "\n",
              "  .colab-df-quickchart-complete:disabled,\n",
              "  .colab-df-quickchart-complete:disabled:hover {\n",
              "    background-color: var(--disabled-bg-color);\n",
              "    fill: var(--disabled-fill-color);\n",
              "    box-shadow: none;\n",
              "  }\n",
              "\n",
              "  .colab-df-spinner {\n",
              "    border: 2px solid var(--fill-color);\n",
              "    border-color: transparent;\n",
              "    border-bottom-color: var(--fill-color);\n",
              "    animation:\n",
              "      spin 1s steps(1) infinite;\n",
              "  }\n",
              "\n",
              "  @keyframes spin {\n",
              "    0% {\n",
              "      border-color: transparent;\n",
              "      border-bottom-color: var(--fill-color);\n",
              "      border-left-color: var(--fill-color);\n",
              "    }\n",
              "    20% {\n",
              "      border-color: transparent;\n",
              "      border-left-color: var(--fill-color);\n",
              "      border-top-color: var(--fill-color);\n",
              "    }\n",
              "    30% {\n",
              "      border-color: transparent;\n",
              "      border-left-color: var(--fill-color);\n",
              "      border-top-color: var(--fill-color);\n",
              "      border-right-color: var(--fill-color);\n",
              "    }\n",
              "    40% {\n",
              "      border-color: transparent;\n",
              "      border-right-color: var(--fill-color);\n",
              "      border-top-color: var(--fill-color);\n",
              "    }\n",
              "    60% {\n",
              "      border-color: transparent;\n",
              "      border-right-color: var(--fill-color);\n",
              "    }\n",
              "    80% {\n",
              "      border-color: transparent;\n",
              "      border-right-color: var(--fill-color);\n",
              "      border-bottom-color: var(--fill-color);\n",
              "    }\n",
              "    90% {\n",
              "      border-color: transparent;\n",
              "      border-bottom-color: var(--fill-color);\n",
              "    }\n",
              "  }\n",
              "</style>\n",
              "\n",
              "  <script>\n",
              "    async function quickchart(key) {\n",
              "      const quickchartButtonEl =\n",
              "        document.querySelector('#' + key + ' button');\n",
              "      quickchartButtonEl.disabled = true;  // To prevent multiple clicks.\n",
              "      quickchartButtonEl.classList.add('colab-df-spinner');\n",
              "      try {\n",
              "        const charts = await google.colab.kernel.invokeFunction(\n",
              "            'suggestCharts', [key], {});\n",
              "      } catch (error) {\n",
              "        console.error('Error during call to suggestCharts:', error);\n",
              "      }\n",
              "      quickchartButtonEl.classList.remove('colab-df-spinner');\n",
              "      quickchartButtonEl.classList.add('colab-df-quickchart-complete');\n",
              "    }\n",
              "    (() => {\n",
              "      let quickchartButtonEl =\n",
              "        document.querySelector('#df-2f5accb5-3bb8-4234-8d8f-645cf83e04d0 button');\n",
              "      quickchartButtonEl.style.display =\n",
              "        google.colab.kernel.accessAllowed ? 'block' : 'none';\n",
              "    })();\n",
              "  </script>\n",
              "</div>\n",
              "    </div>\n",
              "  </div>\n"
            ]
          },
          "metadata": {},
          "execution_count": 15
        }
      ],
      "source": [
        "#summary statistics\n",
        "liquor.describe()"
      ]
    },
    {
      "cell_type": "code",
      "source": [
        "liquor.info()"
      ],
      "metadata": {
        "colab": {
          "base_uri": "https://localhost:8080/"
        },
        "id": "DsDD8fnYpyNO",
        "outputId": "0e47088c-0b4d-44a4-d4ec-f560deb53ed4"
      },
      "execution_count": 16,
      "outputs": [
        {
          "output_type": "stream",
          "name": "stdout",
          "text": [
            "<class 'pandas.core.frame.DataFrame'>\n",
            "RangeIndex: 38806 entries, 0 to 38805\n",
            "Data columns (total 13 columns):\n",
            " #   Column                Non-Null Count  Dtype  \n",
            "---  ------                --------------  -----  \n",
            " 0   City                  38806 non-null  object \n",
            " 1   County                38806 non-null  object \n",
            " 2   Category Name         38806 non-null  object \n",
            " 3   Vendor Name           38806 non-null  object \n",
            " 4   Item Number           38806 non-null  int64  \n",
            " 5   Pack                  38806 non-null  int64  \n",
            " 6   Bottle Volume (ml)    38806 non-null  int64  \n",
            " 7   State Bottle Cost     38806 non-null  float64\n",
            " 8   State Bottle Retail   38806 non-null  float64\n",
            " 9   Bottles Sold          38806 non-null  int64  \n",
            " 10  Sale (Dollars)        38806 non-null  float64\n",
            " 11  Volume Sold (Liters)  38806 non-null  float64\n",
            " 12  Month                 38806 non-null  int64  \n",
            "dtypes: float64(4), int64(5), object(4)\n",
            "memory usage: 3.8+ MB\n"
          ]
        }
      ]
    },
    {
      "cell_type": "markdown",
      "source": [
        "#3.EDA"
      ],
      "metadata": {
        "id": "zJRUPBleuAu7"
      }
    },
    {
      "cell_type": "markdown",
      "source": [
        "## 3.1Correlation Heatmap"
      ],
      "metadata": {
        "id": "lxzmhK0ydtms"
      }
    },
    {
      "cell_type": "code",
      "source": [
        "import warnings\n",
        "warnings.filterwarnings('ignore')\n",
        "correlation_matrix = liquor.corr()\n",
        "annot_fontsize = 10\n",
        "sns.set(font_scale=1)\n",
        "plt.figure(figsize=(10, 8))\n",
        "sns.heatmap(correlation_matrix, annot=True, cmap='coolwarm', fmt=\".2f\", linewidths=0.5,center=0, annot_kws={\"size\": annot_fontsize})\n",
        "plt.title('4.4 Correlation Heatmap of Iowa Liquor Sales Dataset Variables')\n",
        "plt.show()"
      ],
      "metadata": {
        "id": "WjR32kUealDf",
        "outputId": "e6226773-5e22-4cf0-bb68-7d01e8009761",
        "colab": {
          "base_uri": "https://localhost:8080/",
          "height": 642
        }
      },
      "execution_count": null,
      "outputs": [
        {
          "output_type": "display_data",
          "data": {
            "text/plain": [
              "<Figure size 1000x800 with 2 Axes>"
            ],
            "image/png": "[encoded data removed]"
          },
          "metadata": {}
        }
      ]
    },
    {
      "cell_type": "markdown",
      "source": [
        "The heatmap for the Iowa Liquor Market data shows that sales are strongly linked to the volume of liquor sold, with a consistent pricing markup from cost to retail. A negative correlation between pack size and bottle volume suggests larger packs often contain smaller bottles. There's no clear seasonal sales trend, indicating potential for steady year-round sales. These insights can guide efficient inventory management and pricing strategies."
      ],
      "metadata": {
        "id": "iteerUTTHecs"
      }
    },
    {
      "cell_type": "markdown",
      "source": [
        "## 3.2 Sales trend over months"
      ],
      "metadata": {
        "id": "EEifMdRGeCa-"
      }
    },
    {
      "cell_type": "code",
      "source": [
        "monthly_sales = df.groupby('Month')['Sale (Dollars)'].sum().reset_index()\n",
        "plt.figure(figsize=(10, 6))\n",
        "sns.lineplot(data=monthly_sales, x='Month', y='Sale (Dollars)')\n",
        "plt.title('Monthly Sales Trend')\n",
        "plt.xlabel('Month')\n",
        "plt.ylabel('Total Sales ($USD)')\n",
        "plt.show()"
      ],
      "metadata": {
        "id": "ZD3vFKF2awtS",
        "outputId": "f5f6727e-93a5-4ced-f126-128a9dd04a4f",
        "colab": {
          "base_uri": "https://localhost:8080/",
          "height": 473
        }
      },
      "execution_count": null,
      "outputs": [
        {
          "output_type": "display_data",
          "data": {
            "text/plain": [
              "<Figure size 1000x600 with 1 Axes>"
            ],
            "image/png": "[encoded data removed]"
          },
          "metadata": {}
        }
      ]
    },
    {
      "cell_type": "markdown",
      "source": [
        "The line graph, titled \"Monthly Sales Trend,\" displays the fluctuation of liquor sales in Iowa over several months. With sales figures on the y-axis reaching into the tens of millions of dollars, the graph reveals significant month-to-month variation, suggesting potential seasonal influences or market dynamics that affect sales volumes. This visual representation is crucial for identifying sales patterns and guiding inventory management decisions."
      ],
      "metadata": {
        "id": "-gru3TuEIFet"
      }
    },
    {
      "cell_type": "markdown",
      "source": [
        "## 3.3 Bar Plots about the top 10 cities with the Highest Sales\n",
        "\n",
        "\n"
      ],
      "metadata": {
        "id": "P3fQ5zY4eHI0"
      }
    },
    {
      "cell_type": "code",
      "source": [
        "city_sales = liquor.groupby('City')['Sale (Dollars)'].sum().sort_values(ascending=False)\n",
        "plt.figure(figsize=(10,5))\n",
        "city_sales.head(10).plot(kind='bar')\n",
        "plt.xlabel('City')\n",
        "plt.ylabel('Total Sales ($)')\n",
        "plt.show()\n",
        "city_sales.head(3)"
      ],
      "metadata": {
        "id": "TaZnjnnha62S",
        "outputId": "834c4dd7-43ce-4f3e-efa6-3ec2b5acc334",
        "colab": {
          "base_uri": "https://localhost:8080/",
          "height": 566
        }
      },
      "execution_count": null,
      "outputs": [
        {
          "output_type": "display_data",
          "data": {
            "text/plain": [
              "<Figure size 1000x500 with 1 Axes>"
            ],
            "image/png": "[encoded data removed]"
          },
          "metadata": {}
        },
        {
          "output_type": "execute_result",
          "data": {
            "text/plain": [
              "City\n",
              "DES MOINES         408742.70\n",
              "WEST DES MOINES    395335.49\n",
              "CEDAR RAPIDS       287412.85\n",
              "Name: Sale (Dollars), dtype: float64"
            ]
          },
          "metadata": {},
          "execution_count": 74
        }
      ]
    },
    {
      "cell_type": "markdown",
      "source": [
        "Des Moines leads with the highest sales, followed by West Des Moines and Cedar Rapids, indicating these cities are major contributors to liquor sales in the state. The bar chart visually represents the disparity in sales across different cities, with Des Moines having a notably higher sales volume than the others.This visual data aids in identifying key markets for targeted inventory distribution and strategic planning within the state's liquor industry."
      ],
      "metadata": {
        "id": "7Y3TyJz1IwBK"
      }
    },
    {
      "cell_type": "markdown",
      "source": [
        "##3.4 Barplot about the top 10 categories with the highest sales"
      ],
      "metadata": {
        "id": "elxbGWhMuS_l"
      }
    },
    {
      "cell_type": "code",
      "source": [
        "cat_sales = liquor.groupby('Category Name')['Sale (Dollars)'].sum().sort_values(ascending=False)\n",
        "plt.figure(figsize=(10,5))\n",
        "cat_sales.head(10).plot(kind='bar')\n",
        "plt.xlabel('Category')\n",
        "plt.ylabel('Total Sales ($)')\n",
        "plt.show()\n",
        "cat_sales.head(3)"
      ],
      "metadata": {
        "colab": {
          "base_uri": "https://localhost:8080/",
          "height": 771
        },
        "id": "nYjRmvKkuUGD",
        "outputId": "560cbc95-aff3-4d34-f5ce-ec824d1ed1e7"
      },
      "execution_count": 43,
      "outputs": [
        {
          "output_type": "display_data",
          "data": {
            "text/plain": [
              "<Figure size 1000x500 with 1 Axes>"
            ],
            "image/png": "[encoded data removed]"
          },
          "metadata": {}
        },
        {
          "output_type": "execute_result",
          "data": {
            "text/plain": [
              "Category Name\n",
              "AMERICAN VODKAS              956208.27\n",
              "CANADIAN WHISKIES            798289.37\n",
              "STRAIGHT BOURBON WHISKIES    668769.03\n",
              "Name: Sale (Dollars), dtype: float64"
            ]
          },
          "metadata": {},
          "execution_count": 43
        }
      ]
    },
    {
      "cell_type": "markdown",
      "source": [
        "The bar chart provided illustrates the distribution of total sales across different categories of alcoholic beverages. The `AMERICAN VODKAS` category leads the pack with approximately $956,208 in sales, followed by `CANADIAN WHISKIES` at about $798,289, and `STRAIGHT BOURBON WHISKIES` at roughly $668,769, coming in third. Other categories, including `100% AGAVE TEQUILA`, `SPICED RUM`, etc., show lower sales than the top three, indicating a significant drop in sales from vodka to bourbon whiskies. This distribution underscores the strong performance and popularity of vodka and whisky categories in the market."
      ],
      "metadata": {
        "id": "YdOLyWDPvTkw"
      }
    },
    {
      "cell_type": "markdown",
      "source": [
        "## 3.5 Top 5 Packs Distribution"
      ],
      "metadata": {
        "id": "fcUHtZ0yeMlh"
      }
    },
    {
      "cell_type": "code",
      "source": [
        "pack_counts = liquor['Pack'].value_counts()\n",
        "\n",
        "# Select the top 5 Packs\n",
        "top_packs = pack_counts.head(5).sort_index()\n",
        "\n",
        "# If you want to include all other packs as a single category\n",
        "other_packs_sum = pack_counts[5:].sum()\n",
        "top_packs['Other'] = other_packs_sum\n",
        "\n",
        "# Plot a pie chart for the top 5 packs\n",
        "plt.figure(figsize=(10, 10))  # Set the figure size\n",
        "pie_chart = top_packs.plot.pie(autopct='%1.1f%%', startangle=90, counterclock=False, labels=None)\n",
        "plt.title('Top 5 Packs Distribution')\n",
        "\n",
        "# Hide the y-label since it's not needed for pie charts\n",
        "plt.ylabel('')\n",
        "\n",
        "# Add a legend to the chart with the labels\n",
        "plt.legend(labels=top_packs.index, title=\"Pack\",loc=\"center left\", bbox_to_anchor=(1, 0, 0.5, 1))\n",
        "\n",
        "plt.show()"
      ],
      "metadata": {
        "id": "XSJpxf4ha_-A",
        "outputId": "44b40776-28ea-44f0-ccf9-1308d754a349",
        "colab": {
          "base_uri": "https://localhost:8080/",
          "height": 653
        }
      },
      "execution_count": null,
      "outputs": [
        {
          "output_type": "display_data",
          "data": {
            "text/plain": [
              "<Figure size 1000x1000 with 1 Axes>"
            ],
            "image/png": "[encoded data removed]"
          },
          "metadata": {}
        }
      ]
    },
    {
      "cell_type": "markdown",
      "source": [
        "The pie chart titled shows the sales frequency of liquor pack sizes, with the most common pack size dominating over half the market at 52.2%. The second most common accounts for 31.2%, with the remaining three among the top five each representing 1.9% to 7.8%. The \"Other\" category groups all less frequent pack sizes, illustrating a market preference that could influence inventory stocking and sales strategies."
      ],
      "metadata": {
        "id": "qi1mwq7hMRJS"
      }
    },
    {
      "cell_type": "markdown",
      "source": [
        "## 3.6Profit vs Volume Sold"
      ],
      "metadata": {
        "id": "49xX-n2QeSkQ"
      }
    },
    {
      "cell_type": "code",
      "source": [
        "plt.figure(figsize=(10,5))\n",
        "plt.scatter(liquor['Bottles Sold'], liquor['Sale (Dollars)'], alpha=0.5)\n",
        "plt.title('Profit vs Volume Sold')\n",
        "plt.xlabel('Volume Sold (Liters)')\n",
        "plt.ylabel('Profit ($)')\n",
        "plt.show()"
      ],
      "metadata": {
        "id": "-hQD4ymEbFeO",
        "outputId": "0740bf53-58df-4832-ee76-3d6fbd534185",
        "colab": {
          "base_uri": "https://localhost:8080/",
          "height": 399
        }
      },
      "execution_count": null,
      "outputs": [
        {
          "output_type": "display_data",
          "data": {
            "text/plain": [
              "<Figure size 1000x500 with 1 Axes>"
            ],
            "image/png": "[encoded data removed]"
          },
          "metadata": {}
        }
      ]
    },
    {
      "cell_type": "markdown",
      "source": [
        "The scatter plot visualizes the relationship between the volume of liquor sold in liters and the associated profit in dollars. The data points, predominantly clustered towards the lower left corner, indicate that a majority of the sales consist of smaller transactions that contribute to lower profits. As the volume sold increases, there appears to be a trend of increasing profit, albeit with some variability. Notably, outliers with very high volumes and profits suggest instances of exceptionally successful sales. The scatter plot suggests a positive but potentially non-linear relationship between volume sold and profit, hinting at the influence of other factors like pricing, product mix, and cost efficiency on profitability."
      ],
      "metadata": {
        "id": "TJEgUlRq8snp"
      }
    },
    {
      "cell_type": "markdown",
      "metadata": {
        "id": "9jfiKcQ6ieQk"
      },
      "source": [
        "#4.Select Model and Train"
      ]
    },
    {
      "cell_type": "markdown",
      "source": [
        "## 4.1Pipeline and Feature Selection"
      ],
      "metadata": {
        "id": "muXKSdTqqMrR"
      }
    },
    {
      "cell_type": "markdown",
      "source": [
        "In order to enhance model performance, mitigate overfitting risk and reduce computational costs, we decided to use feature selection methods to filter out most import features.\n",
        "\n",
        "Here we choose Lasso to do the selection job."
      ],
      "metadata": {
        "id": "XBj76Tt3f3sF"
      }
    },
    {
      "cell_type": "code",
      "source": [
        "from sklearn.pipeline import Pipeline\n",
        "from sklearn.impute import SimpleImputer\n",
        "from sklearn.preprocessing import StandardScaler, OneHotEncoder\n",
        "from sklearn.compose import ColumnTransformer\n",
        "from sklearn.ensemble import RandomForestRegressor\n",
        "from sklearn.model_selection import train_test_split\n",
        "from sklearn.preprocessing import LabelEncoder\n",
        "from sklearn.metrics import mean_squared_error\n",
        "import pandas as pd\n",
        "from sklearn.pipeline import Pipeline, make_pipeline\n",
        "from sklearn.impute import SimpleImputer\n",
        "from sklearn.preprocessing import StandardScaler, OneHotEncoder\n",
        "from sklearn.compose import ColumnTransformer, make_column_selector\n",
        "import numpy as np\n",
        "\n",
        "from sklearn import set_config\n",
        "\n",
        "y = liquor['Sale (Dollars)']\n",
        "X = liquor.drop(['Sale (Dollars)'], axis=1)\n",
        "X_train, X_test, y_train, y_test = train_test_split(X, y, test_size = .2, random_state=0) #split all"
      ],
      "metadata": {
        "id": "23EY9EzlqSlo"
      },
      "execution_count": 17,
      "outputs": []
    },
    {
      "cell_type": "code",
      "source": [
        "X.info()"
      ],
      "metadata": {
        "id": "YkYEWQk4wa6x",
        "colab": {
          "base_uri": "https://localhost:8080/"
        },
        "outputId": "e5beca45-a294-4b65-9418-91e740d017fe"
      },
      "execution_count": 18,
      "outputs": [
        {
          "output_type": "stream",
          "name": "stdout",
          "text": [
            "<class 'pandas.core.frame.DataFrame'>\n",
            "RangeIndex: 38806 entries, 0 to 38805\n",
            "Data columns (total 12 columns):\n",
            " #   Column                Non-Null Count  Dtype  \n",
            "---  ------                --------------  -----  \n",
            " 0   City                  38806 non-null  object \n",
            " 1   County                38806 non-null  object \n",
            " 2   Category Name         38806 non-null  object \n",
            " 3   Vendor Name           38806 non-null  object \n",
            " 4   Item Number           38806 non-null  int64  \n",
            " 5   Pack                  38806 non-null  int64  \n",
            " 6   Bottle Volume (ml)    38806 non-null  int64  \n",
            " 7   State Bottle Cost     38806 non-null  float64\n",
            " 8   State Bottle Retail   38806 non-null  float64\n",
            " 9   Bottles Sold          38806 non-null  int64  \n",
            " 10  Volume Sold (Liters)  38806 non-null  float64\n",
            " 11  Month                 38806 non-null  int64  \n",
            "dtypes: float64(3), int64(5), object(4)\n",
            "memory usage: 3.6+ MB\n"
          ]
        }
      ]
    },
    {
      "cell_type": "markdown",
      "source": [
        "We first set a prep_pipeline that performs comprehensive preprocessing on input data, including handling missing values, standardizing numerical features, and one-hot encoding categorical features, preparing the data for training a machine learning model.\n",
        "\n",
        "Then we fit a Lasso regression model to the preprocessed training data and then identifies the features deemed important by checking which features have non-zero coefficients. The selected feature names are then printed or displayed. This process helps in feature selection by emphasizing the most influential features according to the Lasso regularization."
      ],
      "metadata": {
        "id": "X3U1Cao2qf5Q"
      }
    },
    {
      "cell_type": "code",
      "source": [
        "from sklearn.compose import ColumnTransformer\n",
        "from sklearn.impute import SimpleImputer\n",
        "from sklearn.preprocessing import StandardScaler, OneHotEncoder\n",
        "from sklearn.pipeline import Pipeline\n",
        "from sklearn.linear_model import Lasso, LinearRegression\n",
        "from sklearn.metrics import mean_squared_error\n",
        "import numpy as np\n",
        "\n",
        "# Your original preprocessing pipeline\n",
        "num_pipeline = Pipeline([\n",
        "    ('imputer', SimpleImputer(strategy='median')),\n",
        "    ('scaler', StandardScaler())\n",
        "])\n",
        "\n",
        "cat_pipeline = Pipeline([\n",
        "    ('imputer', SimpleImputer(strategy='most_frequent')),\n",
        "    ('cat_encoder', OneHotEncoder(drop='first', handle_unknown='ignore'))\n",
        "])\n",
        "\n",
        "categorical_features = ['Category Name', 'Item Number', 'Pack', 'Bottle Volume (ml)', 'Month', 'City','Vendor Name','County']\n",
        "num_features = ['Bottles Sold','Volume Sold (Liters)','State Bottle Cost','State Bottle Retail']\n",
        "\n",
        "prep_pipeline = ColumnTransformer([\n",
        "    ('num', num_pipeline, num_features),\n",
        "    ('cat', cat_pipeline, categorical_features)\n",
        "], remainder='passthrough')  # Keep the columns not transformed\n",
        "\n",
        "prep_pipeline"
      ],
      "metadata": {
        "colab": {
          "base_uri": "https://localhost:8080/",
          "height": 152
        },
        "id": "0WwCvpudqfn3",
        "outputId": "ac7afc95-e652-48d7-b889-d235bd4dd83b"
      },
      "execution_count": 19,
      "outputs": [
        {
          "output_type": "execute_result",
          "data": {
            "text/plain": [
              "ColumnTransformer(remainder='passthrough',\n",
              "                  transformers=[('num',\n",
              "                                 Pipeline(steps=[('imputer',\n",
              "                                                  SimpleImputer(strategy='median')),\n",
              "                                                 ('scaler', StandardScaler())]),\n",
              "                                 ['Bottles Sold', 'Volume Sold (Liters)',\n",
              "                                  'State Bottle Cost', 'State Bottle Retail']),\n",
              "                                ('cat',\n",
              "                                 Pipeline(steps=[('imputer',\n",
              "                                                  SimpleImputer(strategy='most_frequent')),\n",
              "                                                 ('cat_encoder',\n",
              "                                                  OneHotEncoder(drop='first',\n",
              "                                                                handle_unknown='ignore'))]),\n",
              "                                 ['Category Name', 'Item Number', 'Pack',\n",
              "                                  'Bottle Volume (ml)', 'Month', 'City',\n",
              "                                  'Vendor Name', 'County'])])"
            ],
            "text/html": [
              "<style>#sk-container-id-1 {color: black;background-color: white;}#sk-container-id-1 pre{padding: 0;}#sk-container-id-1 div.sk-toggleable {background-color: white;}#sk-container-id-1 label.sk-toggleable__label {cursor: pointer;display: block;width: 100%;margin-bottom: 0;padding: 0.3em;box-sizing: border-box;text-align: center;}#sk-container-id-1 label.sk-toggleable__label-arrow:before {content: \"▸\";float: left;margin-right: 0.25em;color: #696969;}#sk-container-id-1 label.sk-toggleable__label-arrow:hover:before {color: black;}#sk-container-id-1 div.sk-estimator:hover label.sk-toggleable__label-arrow:before {color: black;}#sk-container-id-1 div.sk-toggleable__content {max-height: 0;max-width: 0;overflow: hidden;text-align: left;background-color: #f0f8ff;}#sk-container-id-1 div.sk-toggleable__content pre {margin: 0.2em;color: black;border-radius: 0.25em;background-color: #f0f8ff;}#sk-container-id-1 input.sk-toggleable__control:checked~div.sk-toggleable__content {max-height: 200px;max-width: 100%;overflow: auto;}#sk-container-id-1 input.sk-toggleable__control:checked~label.sk-toggleable__label-arrow:before {content: \"▾\";}#sk-container-id-1 div.sk-estimator input.sk-toggleable__control:checked~label.sk-toggleable__label {background-color: #d4ebff;}#sk-container-id-1 div.sk-label input.sk-toggleable__control:checked~label.sk-toggleable__label {background-color: #d4ebff;}#sk-container-id-1 input.sk-hidden--visually {border: 0;clip: rect(1px 1px 1px 1px);clip: rect(1px, 1px, 1px, 1px);height: 1px;margin: -1px;overflow: hidden;padding: 0;position: absolute;width: 1px;}#sk-container-id-1 div.sk-estimator {font-family: monospace;background-color: #f0f8ff;border: 1px dotted black;border-radius: 0.25em;box-sizing: border-box;margin-bottom: 0.5em;}#sk-container-id-1 div.sk-estimator:hover {background-color: #d4ebff;}#sk-container-id-1 div.sk-parallel-item::after {content: \"\";width: 100%;border-bottom: 1px solid gray;flex-grow: 1;}#sk-container-id-1 div.sk-label:hover label.sk-toggleable__label {background-color: #d4ebff;}#sk-container-id-1 div.sk-serial::before {content: \"\";position: absolute;border-left: 1px solid gray;box-sizing: border-box;top: 0;bottom: 0;left: 50%;z-index: 0;}#sk-container-id-1 div.sk-serial {display: flex;flex-direction: column;align-items: center;background-color: white;padding-right: 0.2em;padding-left: 0.2em;position: relative;}#sk-container-id-1 div.sk-item {position: relative;z-index: 1;}#sk-container-id-1 div.sk-parallel {display: flex;align-items: stretch;justify-content: center;background-color: white;position: relative;}#sk-container-id-1 div.sk-item::before, #sk-container-id-1 div.sk-parallel-item::before {content: \"\";position: absolute;border-left: 1px solid gray;box-sizing: border-box;top: 0;bottom: 0;left: 50%;z-index: -1;}#sk-container-id-1 div.sk-parallel-item {display: flex;flex-direction: column;z-index: 1;position: relative;background-color: white;}#sk-container-id-1 div.sk-parallel-item:first-child::after {align-self: flex-end;width: 50%;}#sk-container-id-1 div.sk-parallel-item:last-child::after {align-self: flex-start;width: 50%;}#sk-container-id-1 div.sk-parallel-item:only-child::after {width: 0;}#sk-container-id-1 div.sk-dashed-wrapped {border: 1px dashed gray;margin: 0 0.4em 0.5em 0.4em;box-sizing: border-box;padding-bottom: 0.4em;background-color: white;}#sk-container-id-1 div.sk-label label {font-family: monospace;font-weight: bold;display: inline-block;line-height: 1.2em;}#sk-container-id-1 div.sk-label-container {text-align: center;}#sk-container-id-1 div.sk-container {/* jupyter's `normalize.less` sets `[hidden] { display: none; }` but bootstrap.min.css set `[hidden] { display: none !important; }` so we also need the `!important` here to be able to override the default hidden behavior on the sphinx rendered scikit-learn.org. See: https://github.com/scikit-learn/scikit-learn/issues/21755 */display: inline-block !important;position: relative;}#sk-container-id-1 div.sk-text-repr-fallback {display: none;}</style><div id=\"sk-container-id-1\" class=\"sk-top-container\"><div class=\"sk-text-repr-fallback\"><pre>ColumnTransformer(remainder=&#x27;passthrough&#x27;,\n",
              "                  transformers=[(&#x27;num&#x27;,\n",
              "                                 Pipeline(steps=[(&#x27;imputer&#x27;,\n",
              "                                                  SimpleImputer(strategy=&#x27;median&#x27;)),\n",
              "                                                 (&#x27;scaler&#x27;, StandardScaler())]),\n",
              "                                 [&#x27;Bottles Sold&#x27;, &#x27;Volume Sold (Liters)&#x27;,\n",
              "                                  &#x27;State Bottle Cost&#x27;, &#x27;State Bottle Retail&#x27;]),\n",
              "                                (&#x27;cat&#x27;,\n",
              "                                 Pipeline(steps=[(&#x27;imputer&#x27;,\n",
              "                                                  SimpleImputer(strategy=&#x27;most_frequent&#x27;)),\n",
              "                                                 (&#x27;cat_encoder&#x27;,\n",
              "                                                  OneHotEncoder(drop=&#x27;first&#x27;,\n",
              "                                                                handle_unknown=&#x27;ignore&#x27;))]),\n",
              "                                 [&#x27;Category Name&#x27;, &#x27;Item Number&#x27;, &#x27;Pack&#x27;,\n",
              "                                  &#x27;Bottle Volume (ml)&#x27;, &#x27;Month&#x27;, &#x27;City&#x27;,\n",
              "                                  &#x27;Vendor Name&#x27;, &#x27;County&#x27;])])</pre><b>In a Jupyter environment, please rerun this cell to show the HTML representation or trust the notebook. <br />On GitHub, the HTML representation is unable to render, please try loading this page with nbviewer.org.</b></div><div class=\"sk-container\" hidden><div class=\"sk-item sk-dashed-wrapped\"><div class=\"sk-label-container\"><div class=\"sk-label sk-toggleable\"><input class=\"sk-toggleable__control sk-hidden--visually\" id=\"sk-estimator-id-1\" type=\"checkbox\" ><label for=\"sk-estimator-id-1\" class=\"sk-toggleable__label sk-toggleable__label-arrow\">ColumnTransformer</label><div class=\"sk-toggleable__content\"><pre>ColumnTransformer(remainder=&#x27;passthrough&#x27;,\n",
              "                  transformers=[(&#x27;num&#x27;,\n",
              "                                 Pipeline(steps=[(&#x27;imputer&#x27;,\n",
              "                                                  SimpleImputer(strategy=&#x27;median&#x27;)),\n",
              "                                                 (&#x27;scaler&#x27;, StandardScaler())]),\n",
              "                                 [&#x27;Bottles Sold&#x27;, &#x27;Volume Sold (Liters)&#x27;,\n",
              "                                  &#x27;State Bottle Cost&#x27;, &#x27;State Bottle Retail&#x27;]),\n",
              "                                (&#x27;cat&#x27;,\n",
              "                                 Pipeline(steps=[(&#x27;imputer&#x27;,\n",
              "                                                  SimpleImputer(strategy=&#x27;most_frequent&#x27;)),\n",
              "                                                 (&#x27;cat_encoder&#x27;,\n",
              "                                                  OneHotEncoder(drop=&#x27;first&#x27;,\n",
              "                                                                handle_unknown=&#x27;ignore&#x27;))]),\n",
              "                                 [&#x27;Category Name&#x27;, &#x27;Item Number&#x27;, &#x27;Pack&#x27;,\n",
              "                                  &#x27;Bottle Volume (ml)&#x27;, &#x27;Month&#x27;, &#x27;City&#x27;,\n",
              "                                  &#x27;Vendor Name&#x27;, &#x27;County&#x27;])])</pre></div></div></div><div class=\"sk-parallel\"><div class=\"sk-parallel-item\"><div class=\"sk-item\"><div class=\"sk-label-container\"><div class=\"sk-label sk-toggleable\"><input class=\"sk-toggleable__control sk-hidden--visually\" id=\"sk-estimator-id-2\" type=\"checkbox\" ><label for=\"sk-estimator-id-2\" class=\"sk-toggleable__label sk-toggleable__label-arrow\">num</label><div class=\"sk-toggleable__content\"><pre>[&#x27;Bottles Sold&#x27;, &#x27;Volume Sold (Liters)&#x27;, &#x27;State Bottle Cost&#x27;, &#x27;State Bottle Retail&#x27;]</pre></div></div></div><div class=\"sk-serial\"><div class=\"sk-item\"><div class=\"sk-serial\"><div class=\"sk-item\"><div class=\"sk-estimator sk-toggleable\"><input class=\"sk-toggleable__control sk-hidden--visually\" id=\"sk-estimator-id-3\" type=\"checkbox\" ><label for=\"sk-estimator-id-3\" class=\"sk-toggleable__label sk-toggleable__label-arrow\">SimpleImputer</label><div class=\"sk-toggleable__content\"><pre>SimpleImputer(strategy=&#x27;median&#x27;)</pre></div></div></div><div class=\"sk-item\"><div class=\"sk-estimator sk-toggleable\"><input class=\"sk-toggleable__control sk-hidden--visually\" id=\"sk-estimator-id-4\" type=\"checkbox\" ><label for=\"sk-estimator-id-4\" class=\"sk-toggleable__label sk-toggleable__label-arrow\">StandardScaler</label><div class=\"sk-toggleable__content\"><pre>StandardScaler()</pre></div></div></div></div></div></div></div></div><div class=\"sk-parallel-item\"><div class=\"sk-item\"><div class=\"sk-label-container\"><div class=\"sk-label sk-toggleable\"><input class=\"sk-toggleable__control sk-hidden--visually\" id=\"sk-estimator-id-5\" type=\"checkbox\" ><label for=\"sk-estimator-id-5\" class=\"sk-toggleable__label sk-toggleable__label-arrow\">cat</label><div class=\"sk-toggleable__content\"><pre>[&#x27;Category Name&#x27;, &#x27;Item Number&#x27;, &#x27;Pack&#x27;, &#x27;Bottle Volume (ml)&#x27;, &#x27;Month&#x27;, &#x27;City&#x27;, &#x27;Vendor Name&#x27;, &#x27;County&#x27;]</pre></div></div></div><div class=\"sk-serial\"><div class=\"sk-item\"><div class=\"sk-serial\"><div class=\"sk-item\"><div class=\"sk-estimator sk-toggleable\"><input class=\"sk-toggleable__control sk-hidden--visually\" id=\"sk-estimator-id-6\" type=\"checkbox\" ><label for=\"sk-estimator-id-6\" class=\"sk-toggleable__label sk-toggleable__label-arrow\">SimpleImputer</label><div class=\"sk-toggleable__content\"><pre>SimpleImputer(strategy=&#x27;most_frequent&#x27;)</pre></div></div></div><div class=\"sk-item\"><div class=\"sk-estimator sk-toggleable\"><input class=\"sk-toggleable__control sk-hidden--visually\" id=\"sk-estimator-id-7\" type=\"checkbox\" ><label for=\"sk-estimator-id-7\" class=\"sk-toggleable__label sk-toggleable__label-arrow\">OneHotEncoder</label><div class=\"sk-toggleable__content\"><pre>OneHotEncoder(drop=&#x27;first&#x27;, handle_unknown=&#x27;ignore&#x27;)</pre></div></div></div></div></div></div></div></div><div class=\"sk-parallel-item\"><div class=\"sk-item\"><div class=\"sk-label-container\"><div class=\"sk-label sk-toggleable\"><input class=\"sk-toggleable__control sk-hidden--visually\" id=\"sk-estimator-id-8\" type=\"checkbox\" ><label for=\"sk-estimator-id-8\" class=\"sk-toggleable__label sk-toggleable__label-arrow\">remainder</label><div class=\"sk-toggleable__content\"><pre></pre></div></div></div><div class=\"sk-serial\"><div class=\"sk-item\"><div class=\"sk-estimator sk-toggleable\"><input class=\"sk-toggleable__control sk-hidden--visually\" id=\"sk-estimator-id-9\" type=\"checkbox\" ><label for=\"sk-estimator-id-9\" class=\"sk-toggleable__label sk-toggleable__label-arrow\">passthrough</label><div class=\"sk-toggleable__content\"><pre>passthrough</pre></div></div></div></div></div></div></div></div></div></div>"
            ]
          },
          "metadata": {},
          "execution_count": 19
        }
      ]
    },
    {
      "cell_type": "code",
      "source": [
        "# Original data\n",
        "X_train_preprocessed = prep_pipeline.fit_transform(X_train)\n",
        "X_test_preprocessed = prep_pipeline.transform(X_test)"
      ],
      "metadata": {
        "id": "JB7frIIZqlzL"
      },
      "execution_count": 20,
      "outputs": []
    },
    {
      "cell_type": "markdown",
      "source": [
        "We decided to use a lasso function to select features. Here we decided to keep those features with a absolute coefficient value that is over 0."
      ],
      "metadata": {
        "id": "EDvya9McqqzY"
      }
    },
    {
      "cell_type": "code",
      "source": [
        "# Lasso feature selection\n",
        "lasso = Lasso(alpha=0.1)\n",
        "lasso.fit(X_train_preprocessed, y_train)\n",
        "\n",
        "# Get selected features\n",
        "selected_features_mask = np.abs(lasso.coef_) > 0\n",
        "selected_features = np.array(prep_pipeline.get_feature_names_out())[selected_features_mask]\n",
        "print(selected_features)"
      ],
      "metadata": {
        "colab": {
          "base_uri": "https://localhost:8080/"
        },
        "id": "lcMHz2csqse5",
        "outputId": "1b68f58b-5a33-4481-95b0-6a577cc82695"
      },
      "execution_count": 21,
      "outputs": [
        {
          "output_type": "stream",
          "name": "stdout",
          "text": [
            "['num__Bottles Sold' 'num__Volume Sold (Liters)' 'num__State Bottle Cost'\n",
            " 'num__State Bottle Retail' 'cat__Category Name_AMERICAN BRANDIES'\n",
            " 'cat__Category Name_AMERICAN DRY GINS'\n",
            " 'cat__Category Name_AMERICAN FLAVORED VODKA'\n",
            " 'cat__Category Name_AMERICAN SCHNAPPS'\n",
            " 'cat__Category Name_AMERICAN VODKAS'\n",
            " 'cat__Category Name_BLENDED WHISKIES'\n",
            " 'cat__Category Name_CANADIAN WHISKIES' 'cat__Category Name_COCKTAILS/RTD'\n",
            " 'cat__Category Name_FLAVORED RUM' 'cat__Category Name_GOLD RUM'\n",
            " 'cat__Category Name_IMPORTED BRANDIES'\n",
            " 'cat__Category Name_IMPORTED CORDIALS & LIQUEURS'\n",
            " 'cat__Category Name_IMPORTED DISTILLED SPIRITS SPECIALTY'\n",
            " 'cat__Category Name_IMPORTED FLAVORED VODKA'\n",
            " 'cat__Category Name_IMPORTED SCHNAPPS'\n",
            " 'cat__Category Name_IMPORTED VODKAS' 'cat__Category Name_IRISH WHISKIES'\n",
            " 'cat__Category Name_MIXTO TEQUILA' 'cat__Category Name_SCOTCH WHISKIES'\n",
            " 'cat__Category Name_SINGLE BARREL BOURBON WHISKIES'\n",
            " 'cat__Category Name_SPICED RUM'\n",
            " 'cat__Category Name_STRAIGHT BOURBON WHISKIES'\n",
            " 'cat__Category Name_STRAIGHT RYE WHISKIES'\n",
            " 'cat__Category Name_TEMPORARY & SPECIALTY PACKAGES'\n",
            " 'cat__Category Name_TENNESSEE WHISKIES' 'cat__Category Name_TRIPLE SEC'\n",
            " 'cat__Category Name_WHISKEY LIQUEUR' 'cat__Category Name_WHITE RUM'\n",
            " 'cat__Item Number_1799' 'cat__Item Number_10550' 'cat__Item Number_10784'\n",
            " 'cat__Item Number_10802' 'cat__Item Number_10807'\n",
            " 'cat__Item Number_10808' 'cat__Item Number_10809'\n",
            " 'cat__Item Number_11296' 'cat__Item Number_11297'\n",
            " 'cat__Item Number_11298' 'cat__Item Number_11774'\n",
            " 'cat__Item Number_11776' 'cat__Item Number_11788'\n",
            " 'cat__Item Number_12888' 'cat__Item Number_15626'\n",
            " 'cat__Item Number_15627' 'cat__Item Number_15628'\n",
            " 'cat__Item Number_16676' 'cat__Item Number_17088'\n",
            " 'cat__Item Number_19070' 'cat__Item Number_19476'\n",
            " 'cat__Item Number_19477' 'cat__Item Number_19478'\n",
            " 'cat__Item Number_21597' 'cat__Item Number_22207'\n",
            " 'cat__Item Number_22215' 'cat__Item Number_26826'\n",
            " 'cat__Item Number_26827' 'cat__Item Number_26828'\n",
            " 'cat__Item Number_31507' 'cat__Item Number_34368'\n",
            " 'cat__Item Number_34425' 'cat__Item Number_35317'\n",
            " 'cat__Item Number_35318' 'cat__Item Number_35947'\n",
            " 'cat__Item Number_35948' 'cat__Item Number_36301'\n",
            " 'cat__Item Number_36305' 'cat__Item Number_36307'\n",
            " 'cat__Item Number_36889' 'cat__Item Number_36900'\n",
            " 'cat__Item Number_36904' 'cat__Item Number_36978'\n",
            " 'cat__Item Number_37067' 'cat__Item Number_38088'\n",
            " 'cat__Item Number_38177' 'cat__Item Number_38178'\n",
            " 'cat__Item Number_42718' 'cat__Item Number_43336'\n",
            " 'cat__Item Number_43337' 'cat__Item Number_43338'\n",
            " 'cat__Item Number_46320' 'cat__Item Number_48122'\n",
            " 'cat__Item Number_48247' 'cat__Item Number_58838'\n",
            " 'cat__Item Number_64858' 'cat__Item Number_64863'\n",
            " 'cat__Item Number_64870' 'cat__Item Number_65013'\n",
            " 'cat__Item Number_68036' 'cat__Item Number_75087'\n",
            " 'cat__Item Number_77487' 'cat__Item Number_80457'\n",
            " 'cat__Item Number_86112' 'cat__Item Number_86251'\n",
            " 'cat__Item Number_86439' 'cat__Item Number_87029'\n",
            " 'cat__Item Number_87485' 'cat__Item Number_88296'\n",
            " 'cat__Item Number_89197' 'cat__Item Number_89577'\n",
            " 'cat__Item Number_89838' 'cat__Item Number_100413'\n",
            " 'cat__Item Number_100423' 'cat__Item Number_911070'\n",
            " 'cat__Item Number_915862' 'cat__Item Number_918202'\n",
            " 'cat__Item Number_926125' 'cat__Item Number_926595'\n",
            " 'cat__Item Number_936859' 'cat__Item Number_946574'\n",
            " 'cat__Item Number_962095' 'cat__Item Number_962476' 'cat__Pack_3'\n",
            " 'cat__Pack_6' 'cat__Pack_8' 'cat__Pack_10' 'cat__Pack_12' 'cat__Pack_24'\n",
            " 'cat__Pack_48' 'cat__Bottle Volume (ml)_50' 'cat__Bottle Volume (ml)_100'\n",
            " 'cat__Bottle Volume (ml)_200' 'cat__Bottle Volume (ml)_375'\n",
            " 'cat__Bottle Volume (ml)_750' 'cat__Bottle Volume (ml)_1000'\n",
            " 'cat__Month_2' 'cat__Month_3' 'cat__Month_4' 'cat__Month_5'\n",
            " 'cat__Month_6' 'cat__Month_7' 'cat__Month_8' 'cat__Month_9'\n",
            " 'cat__Month_10' 'cat__City_ADEL' 'cat__City_AMES' 'cat__City_ANKENY'\n",
            " 'cat__City_BETTENDORF' 'cat__City_BOONE' 'cat__City_CEDAR RAPIDS'\n",
            " 'cat__City_CORALVILLE' 'cat__City_COUNCIL BLUFFS' 'cat__City_DAVENPORT'\n",
            " 'cat__City_DE SOTO' 'cat__City_DES MOINES' 'cat__City_DUBUQUE'\n",
            " 'cat__City_DYERSVILLE' 'cat__City_FORT MADISON' 'cat__City_GRIMES'\n",
            " 'cat__City_IOWA CITY' 'cat__City_KEOKUK' 'cat__City_MARSHALLTOWN'\n",
            " 'cat__City_MT PLEASANT' 'cat__City_ORANGE CITY' 'cat__City_OSCEOLA'\n",
            " 'cat__City_PERRY' 'cat__City_SIOUX CITY' 'cat__City_TOLEDO'\n",
            " 'cat__City_URBANDALE' 'cat__City_WATERLOO' 'cat__City_WAUKEE'\n",
            " 'cat__City_WEST DES MOINES' 'cat__City_WINDSOR HEIGHTS'\n",
            " 'cat__Vendor Name_BACARDI USA INC'\n",
            " 'cat__Vendor Name_BLUE OX SPIRITS, INC.'\n",
            " 'cat__Vendor Name_BROWN FORMAN CORP.' 'cat__Vendor Name_CAMPARI AMERICA'\n",
            " 'cat__Vendor Name_CEDAR RIDGE VINEYARDS LL'\n",
            " 'cat__Vendor Name_CONSTELLATION BRANDS INC'\n",
            " 'cat__Vendor Name_DEHNER DISTILLERY' 'cat__Vendor Name_DIAGEO AMERICAS'\n",
            " 'cat__Vendor Name_E & J GALLO WINERY'\n",
            " 'cat__Vendor Name_FIFTH GENERATION INC'\n",
            " 'cat__Vendor Name_GOAMERICAGO BEVERAGES LLC / WHISTLEPIG'\n",
            " 'cat__Vendor Name_HEAVEN HILL BRANDS'\n",
            " 'cat__Vendor Name_INTERCONTINENTAL PACKAGING COMPANY/PRESTIGE BEVERAGE GROUP'\n",
            " 'cat__Vendor Name_LAIRD & COMPANY' 'cat__Vendor Name_LEVECKE CORPORATION'\n",
            " 'cat__Vendor Name_LONELY OAK DISTILLERY' 'cat__Vendor Name_LUXCO INC'\n",
            " 'cat__Vendor Name_MAST-JAGERMEISTER US, INC'\n",
            " 'cat__Vendor Name_MCCORMICK DISTILLING CO.'\n",
            " 'cat__Vendor Name_MOET HENNESSY USA'\n",
            " 'cat__Vendor Name_OLE SMOKY DISTILLERY LLC'\n",
            " 'cat__Vendor Name_PERNOD RICARD USA' 'cat__Vendor Name_PHILLIPS BEVERAGE'\n",
            " 'cat__Vendor Name_PROXIMO' 'cat__Vendor Name_REMY COINTREAU USA INC'\n",
            " 'cat__Vendor Name_REVELTON DISTILLING COMPANY'\n",
            " 'cat__Vendor Name_SAZERAC COMPANY  INC'\n",
            " 'cat__Vendor Name_WILLIAM GRANT & SONS INC' 'cat__County_BLACK HAWK'\n",
            " 'cat__County_CASS' 'cat__County_CLARKE' 'cat__County_CLINTON'\n",
            " 'cat__County_DALLAS' 'cat__County_HENRY' 'cat__County_IDA'\n",
            " 'cat__County_IOWA' 'cat__County_JOHNSON' 'cat__County_JONES'\n",
            " 'cat__County_MARSHALL' 'cat__County_MILLS' 'cat__County_MUSCATINE'\n",
            " 'cat__County_POCAHONTAS' 'cat__County_POLK' 'cat__County_POTTAWATTAMIE'\n",
            " 'cat__County_STORY' 'cat__County_WASHINGTON' 'cat__County_WOODBURY']\n"
          ]
        }
      ]
    },
    {
      "cell_type": "code",
      "source": [
        "X_train_prepared = prep_pipeline.fit_transform(X_train)\n",
        "print(X_train_prepared.shape)"
      ],
      "metadata": {
        "colab": {
          "base_uri": "https://localhost:8080/"
        },
        "id": "TjVL7JIJq1o6",
        "outputId": "3ccd00a3-eabf-45ee-94e9-775f13e3695a"
      },
      "execution_count": 22,
      "outputs": [
        {
          "output_type": "stream",
          "name": "stdout",
          "text": [
            "(31044, 3917)\n"
          ]
        }
      ]
    },
    {
      "cell_type": "code",
      "source": [
        "print(len(selected_features))"
      ],
      "metadata": {
        "colab": {
          "base_uri": "https://localhost:8080/"
        },
        "id": "OU2kJGIEq64n",
        "outputId": "6df2ca34-057f-408e-9cfe-27be98aee715"
      },
      "execution_count": 23,
      "outputs": [
        {
          "output_type": "stream",
          "name": "stdout",
          "text": [
            "213\n"
          ]
        }
      ]
    },
    {
      "cell_type": "markdown",
      "source": [
        "Form the shape of X_train_prepared and selected_features length, we can see that our functions selected out 213 features that it considered as important, which will evidently help to shorten the running time.\n",
        "\n",
        "In the following part, we will apply these features to train different model functions and find our which model will have a better performance based on these features."
      ],
      "metadata": {
        "id": "JT9nID7oq9HF"
      }
    },
    {
      "cell_type": "markdown",
      "source": [
        "##4.2 Model Training\n"
      ],
      "metadata": {
        "id": "AJsjegzJepAY"
      }
    },
    {
      "cell_type": "markdown",
      "source": [
        "### 4.2.1 LinearRegression"
      ],
      "metadata": {
        "id": "hmpPkd_Tn7uG"
      }
    },
    {
      "cell_type": "code",
      "source": [
        "# Apply selected features to the model\n",
        "linear_reg = LinearRegression()\n",
        "linear_reg.fit(X_train_preprocessed[:, selected_features_mask], y_train)\n",
        "\n",
        "# Predictions on the train set\n",
        "y_train_pred = linear_reg.predict(X_train_preprocessed[:, selected_features_mask])\n",
        "lr_train_mse = mean_squared_error(y_train, y_train_pred)\n",
        "print(f'Train Mean Squared Error: {lr_train_mse}')"
      ],
      "metadata": {
        "colab": {
          "base_uri": "https://localhost:8080/"
        },
        "id": "aE-UKlD9xJnM",
        "outputId": "655a997b-1874-4366-89c0-648317601909"
      },
      "execution_count": null,
      "outputs": [
        {
          "output_type": "stream",
          "name": "stdout",
          "text": [
            "Train Mean Squared Error: 77137.41174684658\n"
          ]
        }
      ]
    },
    {
      "cell_type": "code",
      "source": [
        "from sklearn.model_selection import cross_val_score\n",
        "\n",
        "# First for the linear regression\n",
        "lin_cv_rmses = -cross_val_score(linear_reg,X_train_preprocessed[:, selected_features_mask], y_train,\n",
        "                              scoring=\"neg_mean_squared_error\", cv=3)\n",
        "print(f\"Average Linear Regression Cross-Validation MSE: {lin_cv_rmses.mean():.0f}\")"
      ],
      "metadata": {
        "colab": {
          "base_uri": "https://localhost:8080/"
        },
        "id": "92dw2fy1rkDo",
        "outputId": "cece9564-1d22-4c81-988d-7ebc4f26b801"
      },
      "execution_count": null,
      "outputs": [
        {
          "output_type": "stream",
          "name": "stdout",
          "text": [
            "Average Linear Regression Cross-Validation MSE: 117849\n"
          ]
        }
      ]
    },
    {
      "cell_type": "markdown",
      "source": [
        "The linear regression model, trained on the selected features identified by Lasso feature selection.\n",
        "\n",
        "On the training set, the model demonstrates a Mean Squared Error (MSE) of approximately 77,137.41. Through cross-validation with 3 folds, the linear regression model yields an average Cross-Validation MSE of around 117,849. This metric provides an estimate of the model's generalization performance across different subsets of the data."
      ],
      "metadata": {
        "id": "d_HqHgJtgFNy"
      }
    },
    {
      "cell_type": "markdown",
      "source": [
        "### 4.2.2 RandomForest"
      ],
      "metadata": {
        "id": "Y_EM7DzRn-2z"
      }
    },
    {
      "cell_type": "code",
      "source": [
        "from sklearn.ensemble import RandomForestRegressor\n",
        "# Apply selected features to the model\n",
        "rf_reg = RandomForestRegressor(random_state=0)\n",
        "rf_reg.fit(X_train_preprocessed[:, selected_features_mask], y_train)\n",
        "\n",
        "# Predictions on the train set\n",
        "rf_y_train_pred = rf_reg.predict(X_train_preprocessed[:, selected_features_mask])\n",
        "rf_train_mse = mean_squared_error(y_train, rf_y_train_pred)\n",
        "print(f'Train Mean Squared Error: {rf_train_mse}')\n"
      ],
      "metadata": {
        "colab": {
          "base_uri": "https://localhost:8080/"
        },
        "id": "AusuYRCvrl5B",
        "outputId": "1b3c4ac8-4f05-4cb2-ffbd-c75dcde41a78"
      },
      "execution_count": null,
      "outputs": [
        {
          "output_type": "stream",
          "name": "stdout",
          "text": [
            "Train Mean Squared Error: 30534.518991592227\n"
          ]
        }
      ]
    },
    {
      "cell_type": "code",
      "source": [
        "rf_cv_mse = -cross_val_score(rf_reg,X_train_preprocessed[:, selected_features_mask], y_train,\n",
        "                              scoring=\"neg_mean_squared_error\", cv=3)\n",
        "print(f\"Average random forest Regression Cross-Validation MSE: {rf_cv_mse.mean():.0f}\")"
      ],
      "metadata": {
        "colab": {
          "base_uri": "https://localhost:8080/"
        },
        "id": "yeJQfmDorpAO",
        "outputId": "63d1172f-cee6-4af8-f9d0-71f018568d3d"
      },
      "execution_count": null,
      "outputs": [
        {
          "output_type": "stream",
          "name": "stdout",
          "text": [
            "Average random forest Regression Cross-Validation MSE: 212931\n"
          ]
        }
      ]
    },
    {
      "cell_type": "markdown",
      "source": [
        "For the Random Forest Regression model, the model achieves a Mean Squared Error (MSE) of approximately 30,534.52 on the training set.\n",
        "\n",
        "Through cross-validation with 3 folds, the average Cross-Validation MSE for the Random Forest Regression model is approximately 212,931. Despite being higher than the training set MSE, this value provides a reasonable estimate of the model's expected performance on unseen data. The Random Forest model, with its ensemble of decision trees, tends to capture complex relationships in the data."
      ],
      "metadata": {
        "id": "XPcql97fgGKx"
      }
    },
    {
      "cell_type": "markdown",
      "metadata": {
        "id": "zabUC71pvSj0"
      },
      "source": [
        "###4.2.3 Ridge Regression"
      ]
    },
    {
      "cell_type": "code",
      "execution_count": null,
      "metadata": {
        "id": "ls4zNyXsHlhJ",
        "colab": {
          "base_uri": "https://localhost:8080/"
        },
        "outputId": "dd806f0e-3aa6-4a04-d6cc-0f2b337527e9"
      },
      "outputs": [
        {
          "output_type": "stream",
          "name": "stdout",
          "text": [
            "Train Mean Squared Error: 79522.95863385174\n"
          ]
        }
      ],
      "source": [
        "from sklearn.linear_model import Ridge\n",
        "from sklearn.metrics import mean_squared_error\n",
        "\n",
        "\n",
        "ridge_reg = Ridge(alpha=1.0)\n",
        "\n",
        "ridge_reg.fit(X_train_preprocessed[:, selected_features_mask], y_train)\n",
        "\n",
        "ri_y_train_pred = ridge_reg.predict(X_train_preprocessed[:, selected_features_mask])\n",
        "\n",
        "ri_train_mse = mean_squared_error(y_train, ri_y_train_pred)\n",
        "print(f'Train Mean Squared Error: {ri_train_mse}')\n",
        "\n",
        "# test score\n",
        "# ri_y_test_pred = ridge_reg.predict(X_test_preprocessed[:, selected_features_mask])\n",
        "# test_mse = mean_squared_error(y_test, ri_y_test_pred)\n",
        "# print(f'Test Mean Squared Error: {test_mse}')\n"
      ]
    },
    {
      "cell_type": "code",
      "execution_count": null,
      "metadata": {
        "id": "wMVrctuUHqZF",
        "colab": {
          "base_uri": "https://localhost:8080/"
        },
        "outputId": "4ca44104-26bd-4250-eb47-f5cda35de882"
      },
      "outputs": [
        {
          "output_type": "stream",
          "name": "stdout",
          "text": [
            "Average Ridge Regression Cross-Validation MSE: 115245\n"
          ]
        }
      ],
      "source": [
        "ri_cv_mse = -cross_val_score(ridge_reg, X_train_preprocessed[:, selected_features_mask], y_train, scoring=\"neg_mean_squared_error\", cv=3)\n",
        "print(f\"Average Ridge Regression Cross-Validation MSE: {ri_cv_mse.mean():.0f}\")\n"
      ]
    },
    {
      "cell_type": "markdown",
      "source": [
        "The Ridge Regression model, applied to the selected features derived from Lasso, is characterized by the following results:\n",
        "\n",
        "Training Set Evaluation:\n",
        "\n",
        "The Ridge Regression model exhibits a Train Mean Squared Error (MSE) of approximately 79,522.96 on the training set.\n",
        "\n",
        "Through cross-validation with 3 folds, the average Cross-Validation MSE for the Ridge Regression model is approximately 115,245. This metric offers insights into the model's expected performance on unseen data. The Ridge Regression model, with its regularization term, helps prevent overfitting, and the cross-validation result reflects its generalization capability."
      ],
      "metadata": {
        "id": "GrN7Tr7UgIOg"
      }
    },
    {
      "cell_type": "markdown",
      "metadata": {
        "id": "1HzzdYXMIB0d"
      },
      "source": [
        "###4.2.4 KNeighbors Regressor"
      ]
    },
    {
      "cell_type": "code",
      "execution_count": null,
      "metadata": {
        "id": "GAfdl5hHIAAM",
        "colab": {
          "base_uri": "https://localhost:8080/"
        },
        "outputId": "d7ed9313-cd37-4cb9-f656-b3ca2257d7ff"
      },
      "outputs": [
        {
          "output_type": "stream",
          "name": "stdout",
          "text": [
            "Train Mean Squared Error: 169691.62148082885\n"
          ]
        }
      ],
      "source": [
        "from sklearn.neighbors import KNeighborsRegressor\n",
        "# Apply selected features to the model\n",
        "knn_reg = KNeighborsRegressor(n_neighbors=5)\n",
        "knn_reg.fit(X_train_preprocessed[:, selected_features_mask], y_train)\n",
        "\n",
        "# Predictions on the test set\n",
        "y_train_pred_knn = knn_reg.predict(X_train_preprocessed[:, selected_features_mask])\n",
        "knn_train_mse = mean_squared_error(y_train, y_train_pred_knn)\n",
        "print(f'Train Mean Squared Error: {knn_train_mse}')\n",
        "\n",
        "# knn_y_test_pred = knn_reg.predict(X_test_preprocessed[:, selected_features_mask])\n",
        "\n",
        "# # Compute the test MSE\n",
        "# test_mse = mean_squared_error(y_test, knn_y_test_pred)\n",
        "# print(f'Test Mean Squared Error: {test_mse}')"
      ]
    },
    {
      "cell_type": "code",
      "source": [
        "knn_cv_mse = -cross_val_score(knn_reg,X_train_preprocessed[:, selected_features_mask], y_train,\n",
        "                              scoring=\"neg_mean_squared_error\", cv=3)\n",
        "print(f\"Average knn Regression Cross-Validation MSE: {knn_cv_mse.mean():.0f}\")"
      ],
      "metadata": {
        "colab": {
          "base_uri": "https://localhost:8080/"
        },
        "id": "fWXXqs4isIT-",
        "outputId": "d9145612-6160-4f38-dbca-5b2af6d60143"
      },
      "execution_count": null,
      "outputs": [
        {
          "output_type": "stream",
          "name": "stdout",
          "text": [
            "Average knn Regression Cross-Validation MSE: 264731\n"
          ]
        }
      ]
    },
    {
      "cell_type": "markdown",
      "source": [
        "The KNN Regression model displays a Train Mean Squared Error (MSE) of approximately 169,691.62 on the training set.\n",
        "\n",
        "Through cross-validation with 3 folds, the average Cross-Validation MSE for the KNN Regression model is approximately 264,731. This metric provides insights into the model's expected performance on unseen data. KNN relies on local patterns in the training set, and the cross-validation result reflects its generalization capability."
      ],
      "metadata": {
        "id": "liDf27PLgKH1"
      }
    },
    {
      "cell_type": "markdown",
      "metadata": {
        "id": "jC7NhS40ILU8"
      },
      "source": [
        "###4.2.5 Decision Tree"
      ]
    },
    {
      "cell_type": "code",
      "source": [
        "from sklearn.tree import DecisionTreeRegressor\n",
        "\n",
        "dt_reg = DecisionTreeRegressor(random_state=0)\n",
        "dt_reg.fit(X_train_preprocessed[:, selected_features_mask], y_train)\n",
        "\n",
        "# Predictions on the training set\n",
        "y_train_pred_dt = dt_reg.predict(X_train_preprocessed[:, selected_features_mask])\n",
        "dt_train_mse = mean_squared_error(y_train, y_train_pred_dt)\n",
        "print(f'Train Mean Squared Error: {dt_train_mse}')"
      ],
      "metadata": {
        "colab": {
          "base_uri": "https://localhost:8080/"
        },
        "id": "-Z43_0gTwhs9",
        "outputId": "46557a1d-143a-49ac-e584-024a9f92a47c"
      },
      "execution_count": 24,
      "outputs": [
        {
          "output_type": "stream",
          "name": "stdout",
          "text": [
            "Train Mean Squared Error: 5.574151073085206\n"
          ]
        }
      ]
    },
    {
      "cell_type": "code",
      "execution_count": 25,
      "metadata": {
        "id": "mht17gSaIURp",
        "colab": {
          "base_uri": "https://localhost:8080/"
        },
        "outputId": "11034560-9c10-42ea-ef03-9a1370512138"
      },
      "outputs": [
        {
          "output_type": "stream",
          "name": "stdout",
          "text": [
            "Average decision tree Regression Cross-Validation MSE: 204326\n"
          ]
        }
      ],
      "source": [
        "from sklearn.model_selection import cross_val_score\n",
        "\n",
        "# First for the linear regression\n",
        "dt_cv_mses = -cross_val_score(dt_reg,X_train_preprocessed[:, selected_features_mask], y_train,\n",
        "                              scoring=\"neg_mean_squared_error\", cv=3)\n",
        "print(f\"Average decision tree Regression Cross-Validation MSE: {dt_cv_mses.mean():.0f}\")"
      ]
    },
    {
      "cell_type": "markdown",
      "source": [
        "The Decision Tree Regression model demonstrates an exceptionally low Train Mean Squared Error (MSE) of approximately 5.57 on the training set. This extremely low error suggests that the model perfectly captures the patterns within the training data. However, such low training error might also indicate potential overfitting.\n",
        "\n",
        "Through cross-validation with 3 folds, the average Cross-Validation MSE for the Decision Tree Regression model is approximately 204,326. While the training error is remarkably low, the higher cross-validation error implies that the model's generalization to unseen data might not be as effective, potentially due to overfitting."
      ],
      "metadata": {
        "id": "jH6Rq1pKgMg6"
      }
    },
    {
      "cell_type": "markdown",
      "source": [
        "### 4.2.6 GradientBoost"
      ],
      "metadata": {
        "id": "LC-TG4_5sRl1"
      }
    },
    {
      "cell_type": "code",
      "source": [
        "from sklearn.ensemble import GradientBoostingRegressor\n",
        "\n",
        "# Apply selected features to the model\n",
        "gb_reg = GradientBoostingRegressor(n_estimators=100, learning_rate=0.1, max_depth=3, random_state=0)\n",
        "gb_reg.fit(X_train_preprocessed[:, selected_features_mask], y_train)\n",
        "\n",
        "# Predictions on the training set\n",
        "y_train_pred_gb = gb_reg.predict(X_train_preprocessed[:, selected_features_mask])\n",
        "gb_train_mse = mean_squared_error(y_train, y_train_pred_gb)\n",
        "print(f'Train Mean Squared Error: {gb_train_mse}')\n",
        "\n",
        "# # Predictions on the test set\n",
        "# gb_y_test_pred = gb_reg.predict(X_test_preprocessed[:, selected_features_mask])\n",
        "\n",
        "# # Compute the test MSE\n",
        "# test_mse_gb = mean_squared_error(y_test, gb_y_test_pred)\n",
        "# print(f'Test Mean Squared Error: {test_mse_gb}')"
      ],
      "metadata": {
        "colab": {
          "base_uri": "https://localhost:8080/"
        },
        "id": "QYn9o6yvsVbu",
        "outputId": "520046ff-9a60-459f-a9ec-81cf10603f1e"
      },
      "execution_count": 26,
      "outputs": [
        {
          "output_type": "stream",
          "name": "stdout",
          "text": [
            "Train Mean Squared Error: 3373.219080744934\n"
          ]
        }
      ]
    },
    {
      "cell_type": "code",
      "source": [
        "gb_cv_mse = -cross_val_score(gb_reg,X_train_preprocessed[:, selected_features_mask], y_train,\n",
        "                              scoring=\"neg_mean_squared_error\", cv=3)\n",
        "print(f\"Average gradient boosting Regression Cross-Validation MSE: {gb_cv_mse.mean():.0f}\")"
      ],
      "metadata": {
        "colab": {
          "base_uri": "https://localhost:8080/"
        },
        "id": "7BjrzSSAsXOu",
        "outputId": "547a8798-82e5-46dc-99b0-a3abb016e979"
      },
      "execution_count": 27,
      "outputs": [
        {
          "output_type": "stream",
          "name": "stdout",
          "text": [
            "Average gradient boosting Regression Cross-Validation MSE: 212275\n"
          ]
        }
      ]
    },
    {
      "cell_type": "markdown",
      "source": [
        "The Gradient Boosting Regression model achieves an impressively low Train Mean Squared Error (MSE) of approximately 3,373.22 on the training set. This indicates a strong ability to predict the target variable with minimal error when applied to the data on which it was trained.\n",
        "\n",
        "Through cross-validation with 3 folds, the average Cross-Validation MSE for the Gradient Boosting Regression model is approximately 212,275. This value provides a reliable estimate of the model's expected performance on unseen data. Gradient Boosting, with its ensemble of weak learners, tends to capture complex relationships in the data, as reflected in its relatively low cross-validation error."
      ],
      "metadata": {
        "id": "3iQaxNfkgPRH"
      }
    },
    {
      "cell_type": "markdown",
      "source": [
        "### 4.2.7 XGBoost\n"
      ],
      "metadata": {
        "id": "8a61yMM1sZrO"
      }
    },
    {
      "cell_type": "code",
      "source": [
        "from xgboost import XGBRegressor\n",
        "\n",
        "# Apply selected features to the model\n",
        "xgb_reg = XGBRegressor(n_estimators=100, learning_rate=0.1, max_depth=3, random_state=0)\n",
        "xgb_reg.fit(X_train_preprocessed[:, selected_features_mask], y_train)\n",
        "\n",
        "# Predictions on the training set\n",
        "y_train_pred_xgb = xgb_reg.predict(X_train_preprocessed[:, selected_features_mask])\n",
        "xgb_train_mse = mean_squared_error(y_train, y_train_pred_xgb)\n",
        "print(f'Train Mean Squared Error: {xgb_train_mse}')\n",
        "\n",
        "# # Predictions on the test set\n",
        "# xgb_y_test_pred = xgb_reg.predict(X_test_preprocessed[:, selected_features_mask])\n",
        "\n",
        "# # Compute the test MSE\n",
        "# test_mse_xgb = mean_squared_error(y_test, xgb_y_test_pred)\n",
        "# print(f'Test Mean Squared Error: {test_mse_xgb}')"
      ],
      "metadata": {
        "colab": {
          "base_uri": "https://localhost:8080/"
        },
        "id": "pysjJK21sa0a",
        "outputId": "09258e2c-08fd-4c20-b925-745f53a16839"
      },
      "execution_count": 28,
      "outputs": [
        {
          "output_type": "stream",
          "name": "stdout",
          "text": [
            "Train Mean Squared Error: 6748.0351080764485\n"
          ]
        }
      ]
    },
    {
      "cell_type": "code",
      "source": [
        "xgb_cv_mse = -cross_val_score(xgb_reg,X_train_preprocessed[:, selected_features_mask], y_train,\n",
        "                              scoring=\"neg_mean_squared_error\", cv=3)\n",
        "print(f\"Average gradient boosting Regression Cross-Validation MSE: {xgb_cv_mse.mean():.0f}\")"
      ],
      "metadata": {
        "colab": {
          "base_uri": "https://localhost:8080/"
        },
        "id": "FJVDCA1qsa3I",
        "outputId": "04a0e3ae-709d-4663-87a2-9ebb57b58c92"
      },
      "execution_count": 29,
      "outputs": [
        {
          "output_type": "stream",
          "name": "stdout",
          "text": [
            "Average gradient boosting Regression Cross-Validation MSE: 194433\n"
          ]
        }
      ]
    },
    {
      "cell_type": "markdown",
      "source": [
        "The XGBoost Regression model shows a Train Mean Squared Error (MSE) of approximately 6,748.04 on the training set. This value indicates the average squared difference between the actual and predicted values, reflecting a relatively low level of error in the model's predictions on the data it was trained on.\n",
        "\n",
        "Through cross-validation with 3 folds, the average Cross-Validation MSE for the XGBoost Regression model is approximately 194,433. This metric provides insights into the model's expected performance on unseen data. XGBoost, as a powerful boosting algorithm, tends to capture intricate patterns and relationships within the data, as evidenced by its relatively low cross-validation error."
      ],
      "metadata": {
        "id": "winOcbx5gRsK"
      }
    },
    {
      "cell_type": "markdown",
      "source": [
        "### 4.2.8 SVM\n",
        "\n"
      ],
      "metadata": {
        "id": "V09H29KDSOOG"
      }
    },
    {
      "cell_type": "code",
      "source": [
        "from sklearn.svm import SVR\n",
        "from sklearn.metrics import mean_squared_error\n",
        "from sklearn.preprocessing import StandardScaler\n",
        "from sklearn.tree import DecisionTreeRegressor\n",
        "\n",
        "svm_reg = SVR()\n",
        "svm_reg.fit(X_train_preprocessed[:, selected_features_mask], y_train)\n",
        "\n",
        "# Predictions on the training set\n",
        "y_train_pred_svm = svm_reg.predict(X_train_preprocessed[:, selected_features_mask])\n",
        "svm_train_mse = mean_squared_error(y_train, y_train_pred_svm)\n",
        "print(f'Train Mean Squared Error: {svm_train_mse}')"
      ],
      "metadata": {
        "id": "Her1rp5iRYHf",
        "outputId": "cde87cce-205f-4471-9249-21496da00587",
        "colab": {
          "base_uri": "https://localhost:8080/"
        }
      },
      "execution_count": null,
      "outputs": [
        {
          "output_type": "stream",
          "name": "stdout",
          "text": [
            "Train Mean Squared Error: 626589.7446280255\n"
          ]
        }
      ]
    },
    {
      "cell_type": "code",
      "source": [
        "from sklearn.model_selection import cross_val_score\n",
        "# First for the linear regression\n",
        "svm_cv_mses = -cross_val_score(svm_reg,X_train_preprocessed[:, selected_features_mask], y_train,\n",
        "                              scoring=\"neg_mean_squared_error\", cv=3)\n",
        "print(f\"Average decision tree Regression Cross-Validation RMSE: {svm_cv_mses.mean():.0f}\")"
      ],
      "metadata": {
        "id": "5Na99oAJRaBW",
        "outputId": "2f840935-1f77-473b-b475-d246c8fca7e4",
        "colab": {
          "base_uri": "https://localhost:8080/"
        }
      },
      "execution_count": null,
      "outputs": [
        {
          "output_type": "stream",
          "name": "stdout",
          "text": [
            "Average decision tree Regression Cross-Validation RMSE: 632751\n"
          ]
        }
      ]
    },
    {
      "cell_type": "markdown",
      "source": [
        "The SVR model displays a Train Mean Squared Error (MSE) of approximately 626,589.74 on the training set. This metric indicates the average squared difference between the actual and predicted values, suggesting a relatively high level of error in the model's predictions on the training data.\n",
        "\n",
        "Through cross-validation with 3 folds, the average Cross-Validation MSE for the SVR model is approximately 632,751. This results is not so good when compared to other models, which may prove that this model is not very suitbale for this dataset and prediction problem."
      ],
      "metadata": {
        "id": "csqKyyyrgTtD"
      }
    },
    {
      "cell_type": "markdown",
      "metadata": {
        "id": "_yicsc16qTCH"
      },
      "source": [
        "#5.Fine-Tune Model"
      ]
    },
    {
      "cell_type": "markdown",
      "source": [
        "##5.1 HalvingRandomSearch on Gradiant Boost"
      ],
      "metadata": {
        "id": "4pNHKHlMyb88"
      }
    },
    {
      "cell_type": "code",
      "execution_count": null,
      "metadata": {
        "id": "0hWKksraRuat",
        "colab": {
          "base_uri": "https://localhost:8080/",
          "height": 261
        },
        "outputId": "a7ba692d-e1fe-40dc-9e63-ef3d9a6b1602"
      },
      "outputs": [
        {
          "output_type": "stream",
          "name": "stdout",
          "text": [
            "Best Hyperparameters: {'n_estimators': 100, 'min_samples_split': 15, 'min_samples_leaf': 1, 'max_depth': 10, 'learning_rate': 0.5}\n",
            "Sorted Cross-validation results:\n"
          ]
        },
        {
          "output_type": "execute_result",
          "data": {
            "text/plain": [
              "    param_n_estimators param_min_samples_split param_min_samples_leaf  \\\n",
              "469                200                      10                      1   \n",
              "560                150                      10                      1   \n",
              "470                150                      10                      1   \n",
              "558                250                      10                      1   \n",
              "559                200                      10                      1   \n",
              "\n",
              "    param_max_depth param_learning_rate  mean_test_score  \n",
              "469              10                 0.5    -10387.941743  \n",
              "560               5                 0.5    -10387.941743  \n",
              "470              10                 0.5    -10387.941743  \n",
              "558               5                 0.5    -10387.941743  \n",
              "559               5                 0.5    -10387.941743  "
            ],
            "text/html": [
              "\n",
              "  <div id=\"df-c4ca7dd1-bad2-44c5-a94c-568438cb1be1\" class=\"colab-df-container\">\n",
              "    <div>\n",
              "<style scoped>\n",
              "    .dataframe tbody tr th:only-of-type {\n",
              "        vertical-align: middle;\n",
              "    }\n",
              "\n",
              "    .dataframe tbody tr th {\n",
              "        vertical-align: top;\n",
              "    }\n",
              "\n",
              "    .dataframe thead th {\n",
              "        text-align: right;\n",
              "    }\n",
              "</style>\n",
              "<table border=\"1\" class=\"dataframe\">\n",
              "  <thead>\n",
              "    <tr style=\"text-align: right;\">\n",
              "      <th></th>\n",
              "      <th>param_n_estimators</th>\n",
              "      <th>param_min_samples_split</th>\n",
              "      <th>param_min_samples_leaf</th>\n",
              "      <th>param_max_depth</th>\n",
              "      <th>param_learning_rate</th>\n",
              "      <th>mean_test_score</th>\n",
              "    </tr>\n",
              "  </thead>\n",
              "  <tbody>\n",
              "    <tr>\n",
              "      <th>469</th>\n",
              "      <td>200</td>\n",
              "      <td>10</td>\n",
              "      <td>1</td>\n",
              "      <td>10</td>\n",
              "      <td>0.5</td>\n",
              "      <td>-10387.941743</td>\n",
              "    </tr>\n",
              "    <tr>\n",
              "      <th>560</th>\n",
              "      <td>150</td>\n",
              "      <td>10</td>\n",
              "      <td>1</td>\n",
              "      <td>5</td>\n",
              "      <td>0.5</td>\n",
              "      <td>-10387.941743</td>\n",
              "    </tr>\n",
              "    <tr>\n",
              "      <th>470</th>\n",
              "      <td>150</td>\n",
              "      <td>10</td>\n",
              "      <td>1</td>\n",
              "      <td>10</td>\n",
              "      <td>0.5</td>\n",
              "      <td>-10387.941743</td>\n",
              "    </tr>\n",
              "    <tr>\n",
              "      <th>558</th>\n",
              "      <td>250</td>\n",
              "      <td>10</td>\n",
              "      <td>1</td>\n",
              "      <td>5</td>\n",
              "      <td>0.5</td>\n",
              "      <td>-10387.941743</td>\n",
              "    </tr>\n",
              "    <tr>\n",
              "      <th>559</th>\n",
              "      <td>200</td>\n",
              "      <td>10</td>\n",
              "      <td>1</td>\n",
              "      <td>5</td>\n",
              "      <td>0.5</td>\n",
              "      <td>-10387.941743</td>\n",
              "    </tr>\n",
              "  </tbody>\n",
              "</table>\n",
              "</div>\n",
              "    <div class=\"colab-df-buttons\">\n",
              "\n",
              "  <div class=\"colab-df-container\">\n",
              "    <button class=\"colab-df-convert\" onclick=\"convertToInteractive('df-c4ca7dd1-bad2-44c5-a94c-568438cb1be1')\"\n",
              "            title=\"Convert this dataframe to an interactive table.\"\n",
              "            style=\"display:none;\">\n",
              "\n",
              "  <svg xmlns=\"http://www.w3.org/2000/svg\" height=\"24px\" viewBox=\"0 -960 960 960\">\n",
              "    <path d=\"M120-120v-720h720v720H120Zm60-500h600v-160H180v160Zm220 220h160v-160H400v160Zm0 220h160v-160H400v160ZM180-400h160v-160H180v160Zm440 0h160v-160H620v160ZM180-180h160v-160H180v160Zm440 0h160v-160H620v160Z\"/>\n",
              "  </svg>\n",
              "    </button>\n",
              "\n",
              "  <style>\n",
              "    .colab-df-container {\n",
              "      display:flex;\n",
              "      gap: 12px;\n",
              "    }\n",
              "\n",
              "    .colab-df-convert {\n",
              "      background-color: #E8F0FE;\n",
              "      border: none;\n",
              "      border-radius: 50%;\n",
              "      cursor: pointer;\n",
              "      display: none;\n",
              "      fill: #1967D2;\n",
              "      height: 32px;\n",
              "      padding: 0 0 0 0;\n",
              "      width: 32px;\n",
              "    }\n",
              "\n",
              "    .colab-df-convert:hover {\n",
              "      background-color: #E2EBFA;\n",
              "      box-shadow: 0px 1px 2px rgba(60, 64, 67, 0.3), 0px 1px 3px 1px rgba(60, 64, 67, 0.15);\n",
              "      fill: #174EA6;\n",
              "    }\n",
              "\n",
              "    .colab-df-buttons div {\n",
              "      margin-bottom: 4px;\n",
              "    }\n",
              "\n",
              "    [theme=dark] .colab-df-convert {\n",
              "      background-color: #3B4455;\n",
              "      fill: #D2E3FC;\n",
              "    }\n",
              "\n",
              "    [theme=dark] .colab-df-convert:hover {\n",
              "      background-color: #434B5C;\n",
              "      box-shadow: 0px 1px 3px 1px rgba(0, 0, 0, 0.15);\n",
              "      filter: drop-shadow(0px 1px 2px rgba(0, 0, 0, 0.3));\n",
              "      fill: #FFFFFF;\n",
              "    }\n",
              "  </style>\n",
              "\n",
              "    <script>\n",
              "      const buttonEl =\n",
              "        document.querySelector('#df-c4ca7dd1-bad2-44c5-a94c-568438cb1be1 button.colab-df-convert');\n",
              "      buttonEl.style.display =\n",
              "        google.colab.kernel.accessAllowed ? 'block' : 'none';\n",
              "\n",
              "      async function convertToInteractive(key) {\n",
              "        const element = document.querySelector('#df-c4ca7dd1-bad2-44c5-a94c-568438cb1be1');\n",
              "        const dataTable =\n",
              "          await google.colab.kernel.invokeFunction('convertToInteractive',\n",
              "                                                    [key], {});\n",
              "        if (!dataTable) return;\n",
              "\n",
              "        const docLinkHtml = 'Like what you see? Visit the ' +\n",
              "          '<a target=\"_blank\" href=https://colab.research.google.com/notebooks/data_table.ipynb>data table notebook</a>'\n",
              "          + ' to learn more about interactive tables.';\n",
              "        element.innerHTML = '';\n",
              "        dataTable['output_type'] = 'display_data';\n",
              "        await google.colab.output.renderOutput(dataTable, element);\n",
              "        const docLink = document.createElement('div');\n",
              "        docLink.innerHTML = docLinkHtml;\n",
              "        element.appendChild(docLink);\n",
              "      }\n",
              "    </script>\n",
              "  </div>\n",
              "\n",
              "\n",
              "<div id=\"df-79518a1a-8d1f-4f27-9bb6-a4de5e4b5017\">\n",
              "  <button class=\"colab-df-quickchart\" onclick=\"quickchart('df-79518a1a-8d1f-4f27-9bb6-a4de5e4b5017')\"\n",
              "            title=\"Suggest charts\"\n",
              "            style=\"display:none;\">\n",
              "\n",
              "<svg xmlns=\"http://www.w3.org/2000/svg\" height=\"24px\"viewBox=\"0 0 24 24\"\n",
              "     width=\"24px\">\n",
              "    <g>\n",
              "        <path d=\"M19 3H5c-1.1 0-2 .9-2 2v14c0 1.1.9 2 2 2h14c1.1 0 2-.9 2-2V5c0-1.1-.9-2-2-2zM9 17H7v-7h2v7zm4 0h-2V7h2v10zm4 0h-2v-4h2v4z\"/>\n",
              "    </g>\n",
              "</svg>\n",
              "  </button>\n",
              "\n",
              "<style>\n",
              "  .colab-df-quickchart {\n",
              "      --bg-color: #E8F0FE;\n",
              "      --fill-color: #1967D2;\n",
              "      --hover-bg-color: #E2EBFA;\n",
              "      --hover-fill-color: #174EA6;\n",
              "      --disabled-fill-color: #AAA;\n",
              "      --disabled-bg-color: #DDD;\n",
              "  }\n",
              "\n",
              "  [theme=dark] .colab-df-quickchart {\n",
              "      --bg-color: #3B4455;\n",
              "      --fill-color: #D2E3FC;\n",
              "      --hover-bg-color: #434B5C;\n",
              "      --hover-fill-color: #FFFFFF;\n",
              "      --disabled-bg-color: #3B4455;\n",
              "      --disabled-fill-color: #666;\n",
              "  }\n",
              "\n",
              "  .colab-df-quickchart {\n",
              "    background-color: var(--bg-color);\n",
              "    border: none;\n",
              "    border-radius: 50%;\n",
              "    cursor: pointer;\n",
              "    display: none;\n",
              "    fill: var(--fill-color);\n",
              "    height: 32px;\n",
              "    padding: 0;\n",
              "    width: 32px;\n",
              "  }\n",
              "\n",
              "  .colab-df-quickchart:hover {\n",
              "    background-color: var(--hover-bg-color);\n",
              "    box-shadow: 0 1px 2px rgba(60, 64, 67, 0.3), 0 1px 3px 1px rgba(60, 64, 67, 0.15);\n",
              "    fill: var(--button-hover-fill-color);\n",
              "  }\n",
              "\n",
              "  .colab-df-quickchart-complete:disabled,\n",
              "  .colab-df-quickchart-complete:disabled:hover {\n",
              "    background-color: var(--disabled-bg-color);\n",
              "    fill: var(--disabled-fill-color);\n",
              "    box-shadow: none;\n",
              "  }\n",
              "\n",
              "  .colab-df-spinner {\n",
              "    border: 2px solid var(--fill-color);\n",
              "    border-color: transparent;\n",
              "    border-bottom-color: var(--fill-color);\n",
              "    animation:\n",
              "      spin 1s steps(1) infinite;\n",
              "  }\n",
              "\n",
              "  @keyframes spin {\n",
              "    0% {\n",
              "      border-color: transparent;\n",
              "      border-bottom-color: var(--fill-color);\n",
              "      border-left-color: var(--fill-color);\n",
              "    }\n",
              "    20% {\n",
              "      border-color: transparent;\n",
              "      border-left-color: var(--fill-color);\n",
              "      border-top-color: var(--fill-color);\n",
              "    }\n",
              "    30% {\n",
              "      border-color: transparent;\n",
              "      border-left-color: var(--fill-color);\n",
              "      border-top-color: var(--fill-color);\n",
              "      border-right-color: var(--fill-color);\n",
              "    }\n",
              "    40% {\n",
              "      border-color: transparent;\n",
              "      border-right-color: var(--fill-color);\n",
              "      border-top-color: var(--fill-color);\n",
              "    }\n",
              "    60% {\n",
              "      border-color: transparent;\n",
              "      border-right-color: var(--fill-color);\n",
              "    }\n",
              "    80% {\n",
              "      border-color: transparent;\n",
              "      border-right-color: var(--fill-color);\n",
              "      border-bottom-color: var(--fill-color);\n",
              "    }\n",
              "    90% {\n",
              "      border-color: transparent;\n",
              "      border-bottom-color: var(--fill-color);\n",
              "    }\n",
              "  }\n",
              "</style>\n",
              "\n",
              "  <script>\n",
              "    async function quickchart(key) {\n",
              "      const quickchartButtonEl =\n",
              "        document.querySelector('#' + key + ' button');\n",
              "      quickchartButtonEl.disabled = true;  // To prevent multiple clicks.\n",
              "      quickchartButtonEl.classList.add('colab-df-spinner');\n",
              "      try {\n",
              "        const charts = await google.colab.kernel.invokeFunction(\n",
              "            'suggestCharts', [key], {});\n",
              "      } catch (error) {\n",
              "        console.error('Error during call to suggestCharts:', error);\n",
              "      }\n",
              "      quickchartButtonEl.classList.remove('colab-df-spinner');\n",
              "      quickchartButtonEl.classList.add('colab-df-quickchart-complete');\n",
              "    }\n",
              "    (() => {\n",
              "      let quickchartButtonEl =\n",
              "        document.querySelector('#df-79518a1a-8d1f-4f27-9bb6-a4de5e4b5017 button');\n",
              "      quickchartButtonEl.style.display =\n",
              "        google.colab.kernel.accessAllowed ? 'block' : 'none';\n",
              "    })();\n",
              "  </script>\n",
              "</div>\n",
              "    </div>\n",
              "  </div>\n"
            ]
          },
          "metadata": {},
          "execution_count": 42
        }
      ],
      "source": [
        "from sklearn.experimental import enable_halving_search_cv\n",
        "from sklearn.model_selection import HalvingRandomSearchCV\n",
        "from sklearn.ensemble import GradientBoostingRegressor\n",
        "\n",
        "# Define the parameter grid to search\n",
        "param_dist = {\n",
        "    'n_estimators': [100,150,200,250],\n",
        "    'learning_rate': [0.1,0.5,0.9],\n",
        "    'max_depth': [5,10,15,20],\n",
        "    'min_samples_split': [5, 10, 15],\n",
        "    'min_samples_leaf': [1,5, 10],\n",
        "}\n",
        "\n",
        "# Create the GradientBoostingRegressor object\n",
        "gb_reg = GradientBoostingRegressor(random_state=42)\n",
        "\n",
        "# Create the HalvingRandomSearchCV object\n",
        "halving_search = HalvingRandomSearchCV(gb_reg, param_distributions=param_dist, scoring='neg_mean_squared_error', n_jobs=-1, random_state=42, cv=3)\n",
        "\n",
        "# Fit the search to the preprocessed data\n",
        "halving_search.fit(X_train_preprocessed[:, selected_features_mask], y_train)\n",
        "\n",
        "# Print the best hyperparameters\n",
        "print(\"Best Hyperparameters:\", halving_search.best_params_)\n",
        "\n",
        "# Print cross-validation results\n",
        "# Sort cross-validation results by mean_test_score in descending order\n",
        "cv_results_df_sorted = pd.DataFrame(halving_search.cv_results_).sort_values(by='mean_test_score', ascending=False)\n",
        "# Print the sorted cross-validation results\n",
        "print(\"Sorted Cross-validation results:\")\n",
        "cv_results_df_sorted.filter(regex = '(^param_|mean_test_score)', axis=1).head()"
      ]
    },
    {
      "cell_type": "markdown",
      "metadata": {
        "id": "eqUNUEhAqx1H"
      },
      "source": [
        "###Evaluate System on the Test Set"
      ]
    },
    {
      "cell_type": "code",
      "source": [
        "final_model = halving_search.best_estimator_\n",
        "final_predictions = final_model.predict(X_test_preprocessed[:, selected_features_mask])\n",
        "final_mse = mean_squared_error(y_test, final_predictions)\n",
        "print(f'Mean Squared Error on Test Set {final_mse:.0f}.')"
      ],
      "metadata": {
        "colab": {
          "base_uri": "https://localhost:8080/"
        },
        "id": "iGUCxx6cBPUa",
        "outputId": "e276ac08-c4a2-4ec4-d282-41ad60509d76"
      },
      "execution_count": null,
      "outputs": [
        {
          "output_type": "stream",
          "name": "stdout",
          "text": [
            "Mean Squared Error on Test Set 30004.\n"
          ]
        }
      ]
    },
    {
      "cell_type": "markdown",
      "source": [
        "##5.2 HalvingRandomSearch on XGboost"
      ],
      "metadata": {
        "id": "gqxZqBqGFSpm"
      }
    },
    {
      "cell_type": "code",
      "source": [
        "from sklearn.experimental import enable_halving_search_cv\n",
        "from sklearn.model_selection import HalvingRandomSearchCV\n",
        "from xgboost import XGBRegressor\n",
        "import pandas as pd\n",
        "\n",
        "\n",
        "param_dist = {\n",
        "    'n_estimators': [100, 150, 200, 250],\n",
        "    'learning_rate': [0.1, 0.5, 0.9],\n",
        "    'max_depth': [5, 10, 15, 20],\n",
        "    'min_child_weight': [1, 5, 10],\n",
        "    'subsample': [0.8, 1.0],\n",
        "    'colsample_bytree': [0.8, 1.0],\n",
        "}\n",
        "\n",
        "\n",
        "xgb_reg = XGBRegressor(random_state=42)\n",
        "\n",
        "halving_search = HalvingRandomSearchCV(xgb_reg, param_distributions=param_dist, scoring='neg_mean_squared_error', n_jobs=-1, random_state=42, cv=3)\n",
        "\n",
        "halving_search.fit(X_train_preprocessed[:, selected_features_mask], y_train)\n",
        "\n",
        "print(\"Best Hyperparameters:\", halving_search.best_params_)\n",
        "\n",
        "cv_results_df_sorted = pd.DataFrame(halving_search.cv_results_).sort_values(by='mean_test_score', ascending=False)\n",
        "\n",
        "print(\"Sorted Cross-validation results:\")\n",
        "print(cv_results_df_sorted.filter(regex='(^param_|mean_test_score)', axis=1).head())\n"
      ],
      "metadata": {
        "colab": {
          "base_uri": "https://localhost:8080/"
        },
        "id": "hP48Ioq3FXHs",
        "outputId": "3b4b83d5-e67b-4301-b931-5c6ed4b49fe1"
      },
      "execution_count": 44,
      "outputs": [
        {
          "output_type": "stream",
          "name": "stdout",
          "text": [
            "Best Hyperparameters: {'subsample': 0.8, 'n_estimators': 250, 'min_child_weight': 1, 'max_depth': 10, 'learning_rate': 0.5, 'colsample_bytree': 0.8}\n",
            "Sorted Cross-validation results:\n",
            "    param_subsample param_n_estimators param_min_child_weight param_max_depth  \\\n",
            "690             0.8                250                      1               5   \n",
            "693             0.8                200                      1               5   \n",
            "698             0.8                100                      1               5   \n",
            "701             0.8                150                      1               5   \n",
            "697             0.8                100                      1              20   \n",
            "\n",
            "    param_learning_rate param_colsample_bytree  mean_test_score  \n",
            "690                 0.5                    0.8     -8643.339575  \n",
            "693                 0.5                    0.8     -8643.353903  \n",
            "698                 0.5                    0.8     -8643.355259  \n",
            "701                 0.5                    0.8     -8643.359076  \n",
            "697                 0.5                    0.8     -8649.702831  \n"
          ]
        }
      ]
    },
    {
      "cell_type": "markdown",
      "source": [
        "###Evaluate System on the Test Set"
      ],
      "metadata": {
        "id": "xy9JRUnywLvr"
      }
    },
    {
      "cell_type": "code",
      "source": [
        "final_model_xgb = halving_search.best_estimator_\n",
        "final_predictions_xgb = final_model_xgb.predict(X_test_preprocessed[:, selected_features_mask])\n",
        "final_mse_xgb = mean_squared_error(y_test, final_predictions_xgb)\n",
        "print(f'Mean Squared Error on Test Set {final_mse_xgb:.0f}.')"
      ],
      "metadata": {
        "colab": {
          "base_uri": "https://localhost:8080/"
        },
        "id": "PIeetA7mwNxp",
        "outputId": "5547bb6e-d428-4fc1-ded4-be8bf51f97e5"
      },
      "execution_count": 45,
      "outputs": [
        {
          "output_type": "stream",
          "name": "stdout",
          "text": [
            "Mean Squared Error on Test Set 31399.\n"
          ]
        }
      ]
    },
    {
      "cell_type": "markdown",
      "source": [
        "##5.3 HalvingRandomSearch on DecisionTree"
      ],
      "metadata": {
        "id": "4gmwoj--ynwv"
      }
    },
    {
      "cell_type": "code",
      "source": [
        "from sklearn.experimental import enable_halving_search_cv  # 启用实验性的halving search\n",
        "from sklearn.model_selection import HalvingRandomSearchCV\n",
        "from sklearn.tree import DecisionTreeRegressor\n",
        "from sklearn.metrics import mean_squared_error\n",
        "import numpy as np\n",
        "\n",
        "# 定义决策树的参数分布\n",
        "param_dist_dt = {\n",
        "    'max_depth': [None, 10, 20, 30, 40, 50],\n",
        "    'min_samples_split': [2, 5, 10, 20],\n",
        "    'min_samples_leaf': [1, 2, 4, 6, 8],\n",
        "    'max_features': [None, 'auto', 'sqrt', 'log2'],\n",
        "    'max_leaf_nodes': [None, 10, 20, 30, 40, 50]\n",
        "}\n",
        "\n",
        "# 创建决策树回归器实例\n",
        "dt_reg = DecisionTreeRegressor(random_state=0)\n",
        "\n",
        "# 创建HalvingRandomSearchCV对象\n",
        "halving_search_dt = HalvingRandomSearchCV(dt_reg, param_distributions=param_dist_dt,\n",
        "                                          scoring='neg_mean_squared_error', n_jobs=-1,\n",
        "                                          random_state=0, cv=3, factor=2)\n",
        "\n",
        "# 对预处理过的训练数据进行拟合\n",
        "halving_search_dt.fit(X_train_preprocessed[:, selected_features_mask], y_train)\n",
        "\n",
        "# 打印最佳参数\n",
        "print(\"Best Hyperparameters for Decision Tree:\", halving_search_dt.best_params_)\n",
        "\n",
        "cv_results_dt_sorted = pd.DataFrame(halving_search_dt.cv_results_).sort_values(by='mean_test_score', ascending=False)\n",
        "# Print the sorted cross-validation results\n",
        "print(\"Sorted Cross-validation results:\")\n",
        "cv_results_dt_sorted.filter(regex = '(^param_|mean_test_score)', axis=1).head()"
      ],
      "metadata": {
        "colab": {
          "base_uri": "https://localhost:8080/",
          "height": 262
        },
        "id": "ergILxvSyt1z",
        "outputId": "a2b4390d-da57-40ff-ce18-3ddea0231836"
      },
      "execution_count": 51,
      "outputs": [
        {
          "output_type": "stream",
          "name": "stdout",
          "text": [
            "Best Hyperparameters for Decision Tree: {'min_samples_split': 5, 'min_samples_leaf': 4, 'max_leaf_nodes': None, 'max_features': 'auto', 'max_depth': None}\n",
            "Sorted Cross-validation results:\n"
          ]
        },
        {
          "output_type": "execute_result",
          "data": {
            "text/plain": [
              "     param_min_samples_split param_min_samples_leaf param_max_leaf_nodes  \\\n",
              "4941                       2                      2                 None   \n",
              "4943                       2                      2                 None   \n",
              "4936                       2                      2                 None   \n",
              "4937                       2                      2                 None   \n",
              "4938                       2                      2                 None   \n",
              "\n",
              "     param_max_features param_max_depth  mean_test_score  \n",
              "4941               auto              10     -5335.135357  \n",
              "4943               auto            None     -5335.135357  \n",
              "4936               None              20     -5335.135357  \n",
              "4937               None              10     -5335.135357  \n",
              "4938               None              50     -5335.135357  "
            ],
            "text/html": [
              "\n",
              "  <div id=\"df-b56d5251-13ab-43a9-94b1-f066318f7076\" class=\"colab-df-container\">\n",
              "    <div>\n",
              "<style scoped>\n",
              "    .dataframe tbody tr th:only-of-type {\n",
              "        vertical-align: middle;\n",
              "    }\n",
              "\n",
              "    .dataframe tbody tr th {\n",
              "        vertical-align: top;\n",
              "    }\n",
              "\n",
              "    .dataframe thead th {\n",
              "        text-align: right;\n",
              "    }\n",
              "</style>\n",
              "<table border=\"1\" class=\"dataframe\">\n",
              "  <thead>\n",
              "    <tr style=\"text-align: right;\">\n",
              "      <th></th>\n",
              "      <th>param_min_samples_split</th>\n",
              "      <th>param_min_samples_leaf</th>\n",
              "      <th>param_max_leaf_nodes</th>\n",
              "      <th>param_max_features</th>\n",
              "      <th>param_max_depth</th>\n",
              "      <th>mean_test_score</th>\n",
              "    </tr>\n",
              "  </thead>\n",
              "  <tbody>\n",
              "    <tr>\n",
              "      <th>4941</th>\n",
              "      <td>2</td>\n",
              "      <td>2</td>\n",
              "      <td>None</td>\n",
              "      <td>auto</td>\n",
              "      <td>10</td>\n",
              "      <td>-5335.135357</td>\n",
              "    </tr>\n",
              "    <tr>\n",
              "      <th>4943</th>\n",
              "      <td>2</td>\n",
              "      <td>2</td>\n",
              "      <td>None</td>\n",
              "      <td>auto</td>\n",
              "      <td>None</td>\n",
              "      <td>-5335.135357</td>\n",
              "    </tr>\n",
              "    <tr>\n",
              "      <th>4936</th>\n",
              "      <td>2</td>\n",
              "      <td>2</td>\n",
              "      <td>None</td>\n",
              "      <td>None</td>\n",
              "      <td>20</td>\n",
              "      <td>-5335.135357</td>\n",
              "    </tr>\n",
              "    <tr>\n",
              "      <th>4937</th>\n",
              "      <td>2</td>\n",
              "      <td>2</td>\n",
              "      <td>None</td>\n",
              "      <td>None</td>\n",
              "      <td>10</td>\n",
              "      <td>-5335.135357</td>\n",
              "    </tr>\n",
              "    <tr>\n",
              "      <th>4938</th>\n",
              "      <td>2</td>\n",
              "      <td>2</td>\n",
              "      <td>None</td>\n",
              "      <td>None</td>\n",
              "      <td>50</td>\n",
              "      <td>-5335.135357</td>\n",
              "    </tr>\n",
              "  </tbody>\n",
              "</table>\n",
              "</div>\n",
              "    <div class=\"colab-df-buttons\">\n",
              "\n",
              "  <div class=\"colab-df-container\">\n",
              "    <button class=\"colab-df-convert\" onclick=\"convertToInteractive('df-b56d5251-13ab-43a9-94b1-f066318f7076')\"\n",
              "            title=\"Convert this dataframe to an interactive table.\"\n",
              "            style=\"display:none;\">\n",
              "\n",
              "  <svg xmlns=\"http://www.w3.org/2000/svg\" height=\"24px\" viewBox=\"0 -960 960 960\">\n",
              "    <path d=\"M120-120v-720h720v720H120Zm60-500h600v-160H180v160Zm220 220h160v-160H400v160Zm0 220h160v-160H400v160ZM180-400h160v-160H180v160Zm440 0h160v-160H620v160ZM180-180h160v-160H180v160Zm440 0h160v-160H620v160Z\"/>\n",
              "  </svg>\n",
              "    </button>\n",
              "\n",
              "  <style>\n",
              "    .colab-df-container {\n",
              "      display:flex;\n",
              "      gap: 12px;\n",
              "    }\n",
              "\n",
              "    .colab-df-convert {\n",
              "      background-color: #E8F0FE;\n",
              "      border: none;\n",
              "      border-radius: 50%;\n",
              "      cursor: pointer;\n",
              "      display: none;\n",
              "      fill: #1967D2;\n",
              "      height: 32px;\n",
              "      padding: 0 0 0 0;\n",
              "      width: 32px;\n",
              "    }\n",
              "\n",
              "    .colab-df-convert:hover {\n",
              "      background-color: #E2EBFA;\n",
              "      box-shadow: 0px 1px 2px rgba(60, 64, 67, 0.3), 0px 1px 3px 1px rgba(60, 64, 67, 0.15);\n",
              "      fill: #174EA6;\n",
              "    }\n",
              "\n",
              "    .colab-df-buttons div {\n",
              "      margin-bottom: 4px;\n",
              "    }\n",
              "\n",
              "    [theme=dark] .colab-df-convert {\n",
              "      background-color: #3B4455;\n",
              "      fill: #D2E3FC;\n",
              "    }\n",
              "\n",
              "    [theme=dark] .colab-df-convert:hover {\n",
              "      background-color: #434B5C;\n",
              "      box-shadow: 0px 1px 3px 1px rgba(0, 0, 0, 0.15);\n",
              "      filter: drop-shadow(0px 1px 2px rgba(0, 0, 0, 0.3));\n",
              "      fill: #FFFFFF;\n",
              "    }\n",
              "  </style>\n",
              "\n",
              "    <script>\n",
              "      const buttonEl =\n",
              "        document.querySelector('#df-b56d5251-13ab-43a9-94b1-f066318f7076 button.colab-df-convert');\n",
              "      buttonEl.style.display =\n",
              "        google.colab.kernel.accessAllowed ? 'block' : 'none';\n",
              "\n",
              "      async function convertToInteractive(key) {\n",
              "        const element = document.querySelector('#df-b56d5251-13ab-43a9-94b1-f066318f7076');\n",
              "        const dataTable =\n",
              "          await google.colab.kernel.invokeFunction('convertToInteractive',\n",
              "                                                    [key], {});\n",
              "        if (!dataTable) return;\n",
              "\n",
              "        const docLinkHtml = 'Like what you see? Visit the ' +\n",
              "          '<a target=\"_blank\" href=https://colab.research.google.com/notebooks/data_table.ipynb>data table notebook</a>'\n",
              "          + ' to learn more about interactive tables.';\n",
              "        element.innerHTML = '';\n",
              "        dataTable['output_type'] = 'display_data';\n",
              "        await google.colab.output.renderOutput(dataTable, element);\n",
              "        const docLink = document.createElement('div');\n",
              "        docLink.innerHTML = docLinkHtml;\n",
              "        element.appendChild(docLink);\n",
              "      }\n",
              "    </script>\n",
              "  </div>\n",
              "\n",
              "\n",
              "<div id=\"df-bb624653-2b15-47b8-9106-b6e91daaed4f\">\n",
              "  <button class=\"colab-df-quickchart\" onclick=\"quickchart('df-bb624653-2b15-47b8-9106-b6e91daaed4f')\"\n",
              "            title=\"Suggest charts\"\n",
              "            style=\"display:none;\">\n",
              "\n",
              "<svg xmlns=\"http://www.w3.org/2000/svg\" height=\"24px\"viewBox=\"0 0 24 24\"\n",
              "     width=\"24px\">\n",
              "    <g>\n",
              "        <path d=\"M19 3H5c-1.1 0-2 .9-2 2v14c0 1.1.9 2 2 2h14c1.1 0 2-.9 2-2V5c0-1.1-.9-2-2-2zM9 17H7v-7h2v7zm4 0h-2V7h2v10zm4 0h-2v-4h2v4z\"/>\n",
              "    </g>\n",
              "</svg>\n",
              "  </button>\n",
              "\n",
              "<style>\n",
              "  .colab-df-quickchart {\n",
              "      --bg-color: #E8F0FE;\n",
              "      --fill-color: #1967D2;\n",
              "      --hover-bg-color: #E2EBFA;\n",
              "      --hover-fill-color: #174EA6;\n",
              "      --disabled-fill-color: #AAA;\n",
              "      --disabled-bg-color: #DDD;\n",
              "  }\n",
              "\n",
              "  [theme=dark] .colab-df-quickchart {\n",
              "      --bg-color: #3B4455;\n",
              "      --fill-color: #D2E3FC;\n",
              "      --hover-bg-color: #434B5C;\n",
              "      --hover-fill-color: #FFFFFF;\n",
              "      --disabled-bg-color: #3B4455;\n",
              "      --disabled-fill-color: #666;\n",
              "  }\n",
              "\n",
              "  .colab-df-quickchart {\n",
              "    background-color: var(--bg-color);\n",
              "    border: none;\n",
              "    border-radius: 50%;\n",
              "    cursor: pointer;\n",
              "    display: none;\n",
              "    fill: var(--fill-color);\n",
              "    height: 32px;\n",
              "    padding: 0;\n",
              "    width: 32px;\n",
              "  }\n",
              "\n",
              "  .colab-df-quickchart:hover {\n",
              "    background-color: var(--hover-bg-color);\n",
              "    box-shadow: 0 1px 2px rgba(60, 64, 67, 0.3), 0 1px 3px 1px rgba(60, 64, 67, 0.15);\n",
              "    fill: var(--button-hover-fill-color);\n",
              "  }\n",
              "\n",
              "  .colab-df-quickchart-complete:disabled,\n",
              "  .colab-df-quickchart-complete:disabled:hover {\n",
              "    background-color: var(--disabled-bg-color);\n",
              "    fill: var(--disabled-fill-color);\n",
              "    box-shadow: none;\n",
              "  }\n",
              "\n",
              "  .colab-df-spinner {\n",
              "    border: 2px solid var(--fill-color);\n",
              "    border-color: transparent;\n",
              "    border-bottom-color: var(--fill-color);\n",
              "    animation:\n",
              "      spin 1s steps(1) infinite;\n",
              "  }\n",
              "\n",
              "  @keyframes spin {\n",
              "    0% {\n",
              "      border-color: transparent;\n",
              "      border-bottom-color: var(--fill-color);\n",
              "      border-left-color: var(--fill-color);\n",
              "    }\n",
              "    20% {\n",
              "      border-color: transparent;\n",
              "      border-left-color: var(--fill-color);\n",
              "      border-top-color: var(--fill-color);\n",
              "    }\n",
              "    30% {\n",
              "      border-color: transparent;\n",
              "      border-left-color: var(--fill-color);\n",
              "      border-top-color: var(--fill-color);\n",
              "      border-right-color: var(--fill-color);\n",
              "    }\n",
              "    40% {\n",
              "      border-color: transparent;\n",
              "      border-right-color: var(--fill-color);\n",
              "      border-top-color: var(--fill-color);\n",
              "    }\n",
              "    60% {\n",
              "      border-color: transparent;\n",
              "      border-right-color: var(--fill-color);\n",
              "    }\n",
              "    80% {\n",
              "      border-color: transparent;\n",
              "      border-right-color: var(--fill-color);\n",
              "      border-bottom-color: var(--fill-color);\n",
              "    }\n",
              "    90% {\n",
              "      border-color: transparent;\n",
              "      border-bottom-color: var(--fill-color);\n",
              "    }\n",
              "  }\n",
              "</style>\n",
              "\n",
              "  <script>\n",
              "    async function quickchart(key) {\n",
              "      const quickchartButtonEl =\n",
              "        document.querySelector('#' + key + ' button');\n",
              "      quickchartButtonEl.disabled = true;  // To prevent multiple clicks.\n",
              "      quickchartButtonEl.classList.add('colab-df-spinner');\n",
              "      try {\n",
              "        const charts = await google.colab.kernel.invokeFunction(\n",
              "            'suggestCharts', [key], {});\n",
              "      } catch (error) {\n",
              "        console.error('Error during call to suggestCharts:', error);\n",
              "      }\n",
              "      quickchartButtonEl.classList.remove('colab-df-spinner');\n",
              "      quickchartButtonEl.classList.add('colab-df-quickchart-complete');\n",
              "    }\n",
              "    (() => {\n",
              "      let quickchartButtonEl =\n",
              "        document.querySelector('#df-bb624653-2b15-47b8-9106-b6e91daaed4f button');\n",
              "      quickchartButtonEl.style.display =\n",
              "        google.colab.kernel.accessAllowed ? 'block' : 'none';\n",
              "    })();\n",
              "  </script>\n",
              "</div>\n",
              "    </div>\n",
              "  </div>\n"
            ]
          },
          "metadata": {},
          "execution_count": 51
        }
      ]
    },
    {
      "cell_type": "markdown",
      "source": [
        "###Evaluate on the Test Set"
      ],
      "metadata": {
        "id": "0kpCxZCHzZjm"
      }
    },
    {
      "cell_type": "code",
      "source": [
        "final_dt_model = halving_search_dt.best_estimator_\n",
        "final_dt_predictions = final_dt_model.predict(X_test_preprocessed[:, selected_features_mask])\n",
        "\n",
        "final_dt_mse = mean_squared_error(y_test, final_dt_predictions)\n",
        "\n",
        "print(f'Mean Squared Error on Test Set: {final_dt_mse:.0f}')"
      ],
      "metadata": {
        "colab": {
          "base_uri": "https://localhost:8080/"
        },
        "id": "_YwhFbXnzeva",
        "outputId": "5e99903c-62ba-4fd8-8393-1b579a4c3516"
      },
      "execution_count": 52,
      "outputs": [
        {
          "output_type": "stream",
          "name": "stdout",
          "text": [
            "Mean Squared Error on Test Set: 55301\n"
          ]
        }
      ]
    },
    {
      "cell_type": "markdown",
      "source": [
        "##5.4 Stacking"
      ],
      "metadata": {
        "id": "cRt3o_Pn_N1F"
      }
    },
    {
      "cell_type": "code",
      "source": [
        "from sklearn.ensemble import StackingRegressor\n",
        "from sklearn.tree import DecisionTreeRegressor\n",
        "from sklearn.ensemble import GradientBoostingRegressor\n",
        "from xgboost import XGBRegressor\n",
        "from sklearn.linear_model import LinearRegression\n",
        "from sklearn.metrics import mean_squared_error\n",
        "\n",
        "base_models = [\n",
        "    ('dt_reg', DecisionTreeRegressor(random_state=0)),\n",
        "    ('gb_reg', GradientBoostingRegressor(n_estimators=100, learning_rate=0.1, max_depth=3, random_state=0)),\n",
        "    ('xgb_reg', XGBRegressor(n_estimators=100, learning_rate=0.1, max_depth=3, random_state=0))\n",
        "]\n",
        "meta_model = LinearRegression()\n",
        "\n",
        "stacked_reg = StackingRegressor(estimators=base_models, final_estimator=meta_model)\n",
        "\n",
        "\n",
        "stacked_reg.fit(X_train_preprocessed[:, selected_features_mask], y_train)\n",
        "\n",
        "y_train_pred_stacked = stacked_reg.predict(X_train_preprocessed[:, selected_features_mask])\n",
        "\n",
        "stacked_train_mse = mean_squared_error(y_train, y_train_pred_stacked)\n",
        "print(f'Train Mean Squared Error for Stacked Model: {stacked_train_mse}')\n",
        "\n",
        "y_test_pred_stacked = stacked_reg.predict(X_test_preprocessed[:, selected_features_mask])\n",
        "\n",
        "stacked_test_mse = mean_squared_error(y_test, y_test_pred_stacked)\n",
        "print(f'Test Mean Squared Error for Stacked Model: {stacked_test_mse}')"
      ],
      "metadata": {
        "id": "VcfsVdwl5VWP",
        "outputId": "20be9ba1-a9fa-439a-d1a3-dc9da8222178",
        "colab": {
          "base_uri": "https://localhost:8080/"
        }
      },
      "execution_count": 30,
      "outputs": [
        {
          "output_type": "stream",
          "name": "stdout",
          "text": [
            "Train Mean Squared Error for Stacked Model: 17328.538939148453\n",
            "Test Mean Squared Error for Stacked Model: 22659.15956223477\n"
          ]
        }
      ]
    },
    {
      "cell_type": "code",
      "source": [
        "from sklearn.model_selection import cross_val_score\n",
        "import numpy as np\n",
        "\n",
        "stacked_cv_mses = -cross_val_score(\n",
        "    stacked_reg,\n",
        "    X_train_preprocessed[:, selected_features_mask],\n",
        "    y_train,\n",
        "    scoring='neg_mean_squared_error',\n",
        "    cv=3\n",
        ")\n",
        "\n",
        "stacked_cv_mse_mean = np.mean(stacked_cv_mses)\n",
        "stacked_cv_mse_std = np.std(stacked_cv_mses)\n",
        "\n",
        "print(f\"Average Cross-Validation MSE for Stacked Model: {stacked_cv_mse_mean:.0f}\")\n",
        "print(f\"Standard Deviation of Cross-Validation MSE for Stacked Model: {stacked_cv_mse_std:.0f}\")"
      ],
      "metadata": {
        "colab": {
          "base_uri": "https://localhost:8080/"
        },
        "id": "68YO4hEyzgJG",
        "outputId": "b57d60aa-93ef-4a30-f602-baeb50046a50"
      },
      "execution_count": 53,
      "outputs": [
        {
          "output_type": "stream",
          "name": "stdout",
          "text": [
            "Average Cross-Validation MSE for Stacked Model: 261954\n",
            "Standard Deviation of Cross-Validation MSE for Stacked Model: 205104\n"
          ]
        }
      ]
    },
    {
      "cell_type": "markdown",
      "metadata": {
        "id": "SXaIWXK9q3Eg"
      },
      "source": [
        "# 6.Prediction"
      ]
    },
    {
      "cell_type": "code",
      "execution_count": 31,
      "metadata": {
        "id": "6VSs1adNreAG",
        "outputId": "bcaaffef-892a-4ba8-ce99-aa744f859dc5",
        "colab": {
          "base_uri": "https://localhost:8080/"
        }
      },
      "outputs": [
        {
          "output_type": "stream",
          "name": "stdout",
          "text": [
            "Requirement already satisfied: joblib in /usr/local/lib/python3.10/dist-packages (1.3.2)\n"
          ]
        }
      ],
      "source": [
        "!pip install joblib"
      ]
    },
    {
      "cell_type": "markdown",
      "source": [
        "We first saved our model for model persistence, then we generated 10 new data records and use our model to predict sales."
      ],
      "metadata": {
        "id": "X9sVk6IYhmCM"
      }
    },
    {
      "cell_type": "code",
      "source": [
        "\n",
        "import joblib\n",
        "\n",
        "from joblib import dump, load\n",
        "model_filename = 'stacked_model.joblib'\n",
        "joblib.dump(stacked_reg, model_filename)\n",
        "\n",
        "\n",
        "loaded_model = joblib.load(model_filename)\n"
      ],
      "metadata": {
        "id": "IeMxmlqMGCKI"
      },
      "execution_count": 32,
      "outputs": []
    },
    {
      "cell_type": "code",
      "source": [
        "import pandas as pd\n",
        "import numpy as np\n",
        "\n",
        "\n",
        "cities = ['SIOUX CITY', 'AMES', 'LE MARS']\n",
        "counties = ['BLACK HAWK', 'STORY', 'PLYMOUTH']\n",
        "categories = ['AMERICAN VODKAS', 'CANADIAN WHISKIES', 'IMPORTED SCHNAPPS']\n",
        "vendors = ['PHILLIPS BEVERAGE', 'DEHNER DISTILLERY', 'SAZERAC COMPANY INC']\n",
        "\n",
        "\n",
        "np.random.seed(1)\n",
        "data = {\n",
        "    'City': np.random.choice(cities, size=10),\n",
        "    'County': np.random.choice(counties, size=10),\n",
        "    'Category Name': np.random.choice(categories, size=10),\n",
        "    'Vendor Name': np.random.choice(vendors, size=10),\n",
        "    'Item Number': np.random.randint(1000, 5000, size=10),\n",
        "    'Pack': np.random.randint(1, 20, size=10),\n",
        "    'Bottle Volume (ml)': np.random.randint(500, 1500, size=10),\n",
        "    'State Bottle Cost': np.random.uniform(5, 50, size=10).round(2),\n",
        "    'State Bottle Retail': np.random.uniform(10, 100, size=10).round(2),\n",
        "    'Bottles Sold': np.random.randint(1, 50, size=10),\n",
        "    'Volume Sold (Liters)': np.random.uniform(1, 100, size=10).round(2),\n",
        "    'Month': np.full(10, 11),\n",
        "\n",
        "}\n",
        "\n",
        "\n",
        "X_new = pd.DataFrame(data)\n",
        "\n",
        "X_new"
      ],
      "metadata": {
        "id": "-UME4yaGGsco",
        "outputId": "1700d8cc-5f64-4da7-beac-0254a48578d5",
        "colab": {
          "base_uri": "https://localhost:8080/",
          "height": 606
        }
      },
      "execution_count": 33,
      "outputs": [
        {
          "output_type": "execute_result",
          "data": {
            "text/plain": [
              "         City      County      Category Name          Vendor Name  \\\n",
              "0        AMES  BLACK HAWK  IMPORTED SCHNAPPS  SAZERAC COMPANY INC   \n",
              "1  SIOUX CITY    PLYMOUTH    AMERICAN VODKAS    DEHNER DISTILLERY   \n",
              "2  SIOUX CITY       STORY  CANADIAN WHISKIES    DEHNER DISTILLERY   \n",
              "3        AMES    PLYMOUTH  IMPORTED SCHNAPPS    DEHNER DISTILLERY   \n",
              "4        AMES  BLACK HAWK  IMPORTED SCHNAPPS    DEHNER DISTILLERY   \n",
              "5  SIOUX CITY    PLYMOUTH    AMERICAN VODKAS  SAZERAC COMPANY INC   \n",
              "6  SIOUX CITY       STORY  CANADIAN WHISKIES    DEHNER DISTILLERY   \n",
              "7        AMES    PLYMOUTH  CANADIAN WHISKIES    DEHNER DISTILLERY   \n",
              "8  SIOUX CITY  BLACK HAWK  IMPORTED SCHNAPPS    PHILLIPS BEVERAGE   \n",
              "9        AMES  BLACK HAWK    AMERICAN VODKAS    PHILLIPS BEVERAGE   \n",
              "\n",
              "   Item Number  Pack  Bottle Volume (ml)  State Bottle Cost  \\\n",
              "0         3257     4                1383              15.00   \n",
              "1         2288     7                 797               8.30   \n",
              "2         1728    18                 966              26.12   \n",
              "3         4725     4                 515               9.33   \n",
              "4         3675     5                 564              45.65   \n",
              "5         1431    18                 696              10.38   \n",
              "6         1633    12                 525              28.62   \n",
              "7         3504    13                 867               8.76   \n",
              "8         1542    17                1238              46.26   \n",
              "9         2095    14                 971              45.97   \n",
              "\n",
              "   State Bottle Retail  Bottles Sold  Volume Sold (Liters)  Month  \n",
              "0                36.90             1                 90.44     11  \n",
              "1                62.60            14                 14.61     11  \n",
              "2                60.93             7                 14.79     11  \n",
              "3                65.25            22                 80.93     11  \n",
              "4                96.09             7                 40.37     11  \n",
              "5                33.49             3                 17.37     11  \n",
              "6                30.79            13                 92.82     11  \n",
              "7                58.01            28                 35.43     11  \n",
              "8                95.49            22                 75.33     11  \n",
              "9                54.38            12                 72.87     11  "
            ],
            "text/html": [
              "\n",
              "  <div id=\"df-db57c702-7361-49ec-b5c5-4ea626cf0c82\" class=\"colab-df-container\">\n",
              "    <div>\n",
              "<style scoped>\n",
              "    .dataframe tbody tr th:only-of-type {\n",
              "        vertical-align: middle;\n",
              "    }\n",
              "\n",
              "    .dataframe tbody tr th {\n",
              "        vertical-align: top;\n",
              "    }\n",
              "\n",
              "    .dataframe thead th {\n",
              "        text-align: right;\n",
              "    }\n",
              "</style>\n",
              "<table border=\"1\" class=\"dataframe\">\n",
              "  <thead>\n",
              "    <tr style=\"text-align: right;\">\n",
              "      <th></th>\n",
              "      <th>City</th>\n",
              "      <th>County</th>\n",
              "      <th>Category Name</th>\n",
              "      <th>Vendor Name</th>\n",
              "      <th>Item Number</th>\n",
              "      <th>Pack</th>\n",
              "      <th>Bottle Volume (ml)</th>\n",
              "      <th>State Bottle Cost</th>\n",
              "      <th>State Bottle Retail</th>\n",
              "      <th>Bottles Sold</th>\n",
              "      <th>Volume Sold (Liters)</th>\n",
              "      <th>Month</th>\n",
              "    </tr>\n",
              "  </thead>\n",
              "  <tbody>\n",
              "    <tr>\n",
              "      <th>0</th>\n",
              "      <td>AMES</td>\n",
              "      <td>BLACK HAWK</td>\n",
              "      <td>IMPORTED SCHNAPPS</td>\n",
              "      <td>SAZERAC COMPANY INC</td>\n",
              "      <td>3257</td>\n",
              "      <td>4</td>\n",
              "      <td>1383</td>\n",
              "      <td>15.00</td>\n",
              "      <td>36.90</td>\n",
              "      <td>1</td>\n",
              "      <td>90.44</td>\n",
              "      <td>11</td>\n",
              "    </tr>\n",
              "    <tr>\n",
              "      <th>1</th>\n",
              "      <td>SIOUX CITY</td>\n",
              "      <td>PLYMOUTH</td>\n",
              "      <td>AMERICAN VODKAS</td>\n",
              "      <td>DEHNER DISTILLERY</td>\n",
              "      <td>2288</td>\n",
              "      <td>7</td>\n",
              "      <td>797</td>\n",
              "      <td>8.30</td>\n",
              "      <td>62.60</td>\n",
              "      <td>14</td>\n",
              "      <td>14.61</td>\n",
              "      <td>11</td>\n",
              "    </tr>\n",
              "    <tr>\n",
              "      <th>2</th>\n",
              "      <td>SIOUX CITY</td>\n",
              "      <td>STORY</td>\n",
              "      <td>CANADIAN WHISKIES</td>\n",
              "      <td>DEHNER DISTILLERY</td>\n",
              "      <td>1728</td>\n",
              "      <td>18</td>\n",
              "      <td>966</td>\n",
              "      <td>26.12</td>\n",
              "      <td>60.93</td>\n",
              "      <td>7</td>\n",
              "      <td>14.79</td>\n",
              "      <td>11</td>\n",
              "    </tr>\n",
              "    <tr>\n",
              "      <th>3</th>\n",
              "      <td>AMES</td>\n",
              "      <td>PLYMOUTH</td>\n",
              "      <td>IMPORTED SCHNAPPS</td>\n",
              "      <td>DEHNER DISTILLERY</td>\n",
              "      <td>4725</td>\n",
              "      <td>4</td>\n",
              "      <td>515</td>\n",
              "      <td>9.33</td>\n",
              "      <td>65.25</td>\n",
              "      <td>22</td>\n",
              "      <td>80.93</td>\n",
              "      <td>11</td>\n",
              "    </tr>\n",
              "    <tr>\n",
              "      <th>4</th>\n",
              "      <td>AMES</td>\n",
              "      <td>BLACK HAWK</td>\n",
              "      <td>IMPORTED SCHNAPPS</td>\n",
              "      <td>DEHNER DISTILLERY</td>\n",
              "      <td>3675</td>\n",
              "      <td>5</td>\n",
              "      <td>564</td>\n",
              "      <td>45.65</td>\n",
              "      <td>96.09</td>\n",
              "      <td>7</td>\n",
              "      <td>40.37</td>\n",
              "      <td>11</td>\n",
              "    </tr>\n",
              "    <tr>\n",
              "      <th>5</th>\n",
              "      <td>SIOUX CITY</td>\n",
              "      <td>PLYMOUTH</td>\n",
              "      <td>AMERICAN VODKAS</td>\n",
              "      <td>SAZERAC COMPANY INC</td>\n",
              "      <td>1431</td>\n",
              "      <td>18</td>\n",
              "      <td>696</td>\n",
              "      <td>10.38</td>\n",
              "      <td>33.49</td>\n",
              "      <td>3</td>\n",
              "      <td>17.37</td>\n",
              "      <td>11</td>\n",
              "    </tr>\n",
              "    <tr>\n",
              "      <th>6</th>\n",
              "      <td>SIOUX CITY</td>\n",
              "      <td>STORY</td>\n",
              "      <td>CANADIAN WHISKIES</td>\n",
              "      <td>DEHNER DISTILLERY</td>\n",
              "      <td>1633</td>\n",
              "      <td>12</td>\n",
              "      <td>525</td>\n",
              "      <td>28.62</td>\n",
              "      <td>30.79</td>\n",
              "      <td>13</td>\n",
              "      <td>92.82</td>\n",
              "      <td>11</td>\n",
              "    </tr>\n",
              "    <tr>\n",
              "      <th>7</th>\n",
              "      <td>AMES</td>\n",
              "      <td>PLYMOUTH</td>\n",
              "      <td>CANADIAN WHISKIES</td>\n",
              "      <td>DEHNER DISTILLERY</td>\n",
              "      <td>3504</td>\n",
              "      <td>13</td>\n",
              "      <td>867</td>\n",
              "      <td>8.76</td>\n",
              "      <td>58.01</td>\n",
              "      <td>28</td>\n",
              "      <td>35.43</td>\n",
              "      <td>11</td>\n",
              "    </tr>\n",
              "    <tr>\n",
              "      <th>8</th>\n",
              "      <td>SIOUX CITY</td>\n",
              "      <td>BLACK HAWK</td>\n",
              "      <td>IMPORTED SCHNAPPS</td>\n",
              "      <td>PHILLIPS BEVERAGE</td>\n",
              "      <td>1542</td>\n",
              "      <td>17</td>\n",
              "      <td>1238</td>\n",
              "      <td>46.26</td>\n",
              "      <td>95.49</td>\n",
              "      <td>22</td>\n",
              "      <td>75.33</td>\n",
              "      <td>11</td>\n",
              "    </tr>\n",
              "    <tr>\n",
              "      <th>9</th>\n",
              "      <td>AMES</td>\n",
              "      <td>BLACK HAWK</td>\n",
              "      <td>AMERICAN VODKAS</td>\n",
              "      <td>PHILLIPS BEVERAGE</td>\n",
              "      <td>2095</td>\n",
              "      <td>14</td>\n",
              "      <td>971</td>\n",
              "      <td>45.97</td>\n",
              "      <td>54.38</td>\n",
              "      <td>12</td>\n",
              "      <td>72.87</td>\n",
              "      <td>11</td>\n",
              "    </tr>\n",
              "  </tbody>\n",
              "</table>\n",
              "</div>\n",
              "    <div class=\"colab-df-buttons\">\n",
              "\n",
              "  <div class=\"colab-df-container\">\n",
              "    <button class=\"colab-df-convert\" onclick=\"convertToInteractive('df-db57c702-7361-49ec-b5c5-4ea626cf0c82')\"\n",
              "            title=\"Convert this dataframe to an interactive table.\"\n",
              "            style=\"display:none;\">\n",
              "\n",
              "  <svg xmlns=\"http://www.w3.org/2000/svg\" height=\"24px\" viewBox=\"0 -960 960 960\">\n",
              "    <path d=\"M120-120v-720h720v720H120Zm60-500h600v-160H180v160Zm220 220h160v-160H400v160Zm0 220h160v-160H400v160ZM180-400h160v-160H180v160Zm440 0h160v-160H620v160ZM180-180h160v-160H180v160Zm440 0h160v-160H620v160Z\"/>\n",
              "  </svg>\n",
              "    </button>\n",
              "\n",
              "  <style>\n",
              "    .colab-df-container {\n",
              "      display:flex;\n",
              "      gap: 12px;\n",
              "    }\n",
              "\n",
              "    .colab-df-convert {\n",
              "      background-color: #E8F0FE;\n",
              "      border: none;\n",
              "      border-radius: 50%;\n",
              "      cursor: pointer;\n",
              "      display: none;\n",
              "      fill: #1967D2;\n",
              "      height: 32px;\n",
              "      padding: 0 0 0 0;\n",
              "      width: 32px;\n",
              "    }\n",
              "\n",
              "    .colab-df-convert:hover {\n",
              "      background-color: #E2EBFA;\n",
              "      box-shadow: 0px 1px 2px rgba(60, 64, 67, 0.3), 0px 1px 3px 1px rgba(60, 64, 67, 0.15);\n",
              "      fill: #174EA6;\n",
              "    }\n",
              "\n",
              "    .colab-df-buttons div {\n",
              "      margin-bottom: 4px;\n",
              "    }\n",
              "\n",
              "    [theme=dark] .colab-df-convert {\n",
              "      background-color: #3B4455;\n",
              "      fill: #D2E3FC;\n",
              "    }\n",
              "\n",
              "    [theme=dark] .colab-df-convert:hover {\n",
              "      background-color: #434B5C;\n",
              "      box-shadow: 0px 1px 3px 1px rgba(0, 0, 0, 0.15);\n",
              "      filter: drop-shadow(0px 1px 2px rgba(0, 0, 0, 0.3));\n",
              "      fill: #FFFFFF;\n",
              "    }\n",
              "  </style>\n",
              "\n",
              "    <script>\n",
              "      const buttonEl =\n",
              "        document.querySelector('#df-db57c702-7361-49ec-b5c5-4ea626cf0c82 button.colab-df-convert');\n",
              "      buttonEl.style.display =\n",
              "        google.colab.kernel.accessAllowed ? 'block' : 'none';\n",
              "\n",
              "      async function convertToInteractive(key) {\n",
              "        const element = document.querySelector('#df-db57c702-7361-49ec-b5c5-4ea626cf0c82');\n",
              "        const dataTable =\n",
              "          await google.colab.kernel.invokeFunction('convertToInteractive',\n",
              "                                                    [key], {});\n",
              "        if (!dataTable) return;\n",
              "\n",
              "        const docLinkHtml = 'Like what you see? Visit the ' +\n",
              "          '<a target=\"_blank\" href=https://colab.research.google.com/notebooks/data_table.ipynb>data table notebook</a>'\n",
              "          + ' to learn more about interactive tables.';\n",
              "        element.innerHTML = '';\n",
              "        dataTable['output_type'] = 'display_data';\n",
              "        await google.colab.output.renderOutput(dataTable, element);\n",
              "        const docLink = document.createElement('div');\n",
              "        docLink.innerHTML = docLinkHtml;\n",
              "        element.appendChild(docLink);\n",
              "      }\n",
              "    </script>\n",
              "  </div>\n",
              "\n",
              "\n",
              "<div id=\"df-49fb866e-2bd8-4706-94e8-bfd86ca9a760\">\n",
              "  <button class=\"colab-df-quickchart\" onclick=\"quickchart('df-49fb866e-2bd8-4706-94e8-bfd86ca9a760')\"\n",
              "            title=\"Suggest charts\"\n",
              "            style=\"display:none;\">\n",
              "\n",
              "<svg xmlns=\"http://www.w3.org/2000/svg\" height=\"24px\"viewBox=\"0 0 24 24\"\n",
              "     width=\"24px\">\n",
              "    <g>\n",
              "        <path d=\"M19 3H5c-1.1 0-2 .9-2 2v14c0 1.1.9 2 2 2h14c1.1 0 2-.9 2-2V5c0-1.1-.9-2-2-2zM9 17H7v-7h2v7zm4 0h-2V7h2v10zm4 0h-2v-4h2v4z\"/>\n",
              "    </g>\n",
              "</svg>\n",
              "  </button>\n",
              "\n",
              "<style>\n",
              "  .colab-df-quickchart {\n",
              "      --bg-color: #E8F0FE;\n",
              "      --fill-color: #1967D2;\n",
              "      --hover-bg-color: #E2EBFA;\n",
              "      --hover-fill-color: #174EA6;\n",
              "      --disabled-fill-color: #AAA;\n",
              "      --disabled-bg-color: #DDD;\n",
              "  }\n",
              "\n",
              "  [theme=dark] .colab-df-quickchart {\n",
              "      --bg-color: #3B4455;\n",
              "      --fill-color: #D2E3FC;\n",
              "      --hover-bg-color: #434B5C;\n",
              "      --hover-fill-color: #FFFFFF;\n",
              "      --disabled-bg-color: #3B4455;\n",
              "      --disabled-fill-color: #666;\n",
              "  }\n",
              "\n",
              "  .colab-df-quickchart {\n",
              "    background-color: var(--bg-color);\n",
              "    border: none;\n",
              "    border-radius: 50%;\n",
              "    cursor: pointer;\n",
              "    display: none;\n",
              "    fill: var(--fill-color);\n",
              "    height: 32px;\n",
              "    padding: 0;\n",
              "    width: 32px;\n",
              "  }\n",
              "\n",
              "  .colab-df-quickchart:hover {\n",
              "    background-color: var(--hover-bg-color);\n",
              "    box-shadow: 0 1px 2px rgba(60, 64, 67, 0.3), 0 1px 3px 1px rgba(60, 64, 67, 0.15);\n",
              "    fill: var(--button-hover-fill-color);\n",
              "  }\n",
              "\n",
              "  .colab-df-quickchart-complete:disabled,\n",
              "  .colab-df-quickchart-complete:disabled:hover {\n",
              "    background-color: var(--disabled-bg-color);\n",
              "    fill: var(--disabled-fill-color);\n",
              "    box-shadow: none;\n",
              "  }\n",
              "\n",
              "  .colab-df-spinner {\n",
              "    border: 2px solid var(--fill-color);\n",
              "    border-color: transparent;\n",
              "    border-bottom-color: var(--fill-color);\n",
              "    animation:\n",
              "      spin 1s steps(1) infinite;\n",
              "  }\n",
              "\n",
              "  @keyframes spin {\n",
              "    0% {\n",
              "      border-color: transparent;\n",
              "      border-bottom-color: var(--fill-color);\n",
              "      border-left-color: var(--fill-color);\n",
              "    }\n",
              "    20% {\n",
              "      border-color: transparent;\n",
              "      border-left-color: var(--fill-color);\n",
              "      border-top-color: var(--fill-color);\n",
              "    }\n",
              "    30% {\n",
              "      border-color: transparent;\n",
              "      border-left-color: var(--fill-color);\n",
              "      border-top-color: var(--fill-color);\n",
              "      border-right-color: var(--fill-color);\n",
              "    }\n",
              "    40% {\n",
              "      border-color: transparent;\n",
              "      border-right-color: var(--fill-color);\n",
              "      border-top-color: var(--fill-color);\n",
              "    }\n",
              "    60% {\n",
              "      border-color: transparent;\n",
              "      border-right-color: var(--fill-color);\n",
              "    }\n",
              "    80% {\n",
              "      border-color: transparent;\n",
              "      border-right-color: var(--fill-color);\n",
              "      border-bottom-color: var(--fill-color);\n",
              "    }\n",
              "    90% {\n",
              "      border-color: transparent;\n",
              "      border-bottom-color: var(--fill-color);\n",
              "    }\n",
              "  }\n",
              "</style>\n",
              "\n",
              "  <script>\n",
              "    async function quickchart(key) {\n",
              "      const quickchartButtonEl =\n",
              "        document.querySelector('#' + key + ' button');\n",
              "      quickchartButtonEl.disabled = true;  // To prevent multiple clicks.\n",
              "      quickchartButtonEl.classList.add('colab-df-spinner');\n",
              "      try {\n",
              "        const charts = await google.colab.kernel.invokeFunction(\n",
              "            'suggestCharts', [key], {});\n",
              "      } catch (error) {\n",
              "        console.error('Error during call to suggestCharts:', error);\n",
              "      }\n",
              "      quickchartButtonEl.classList.remove('colab-df-spinner');\n",
              "      quickchartButtonEl.classList.add('colab-df-quickchart-complete');\n",
              "    }\n",
              "    (() => {\n",
              "      let quickchartButtonEl =\n",
              "        document.querySelector('#df-49fb866e-2bd8-4706-94e8-bfd86ca9a760 button');\n",
              "      quickchartButtonEl.style.display =\n",
              "        google.colab.kernel.accessAllowed ? 'block' : 'none';\n",
              "    })();\n",
              "  </script>\n",
              "</div>\n",
              "    </div>\n",
              "  </div>\n"
            ]
          },
          "metadata": {},
          "execution_count": 33
        }
      ]
    },
    {
      "cell_type": "code",
      "source": [
        "X_New_pre = prep_pipeline.transform(X_new)"
      ],
      "metadata": {
        "id": "UJOIxUKtJeNk"
      },
      "execution_count": 35,
      "outputs": []
    },
    {
      "cell_type": "code",
      "source": [
        "y_pred_new = stacked_reg.predict(X_New_pre[:, selected_features_mask])\n",
        "print(y_pred_new)"
      ],
      "metadata": {
        "id": "dWSp2Y2_7Vfb",
        "outputId": "56babb25-283d-4a43-d71a-0f94d3055c55",
        "colab": {
          "base_uri": "https://localhost:8080/"
        }
      },
      "execution_count": 37,
      "outputs": [
        {
          "output_type": "stream",
          "name": "stdout",
          "text": [
            "[ 814.58523532   29.63325296  307.63570375  389.84038714 1205.65952215\n",
            "  199.4561679  1829.41421423 -132.0422257  2166.66582115 1848.91103972]\n"
          ]
        }
      ]
    },
    {
      "cell_type": "markdown",
      "source": [
        "Since our model can successfully predict out results, we can say that our model has certain practicality."
      ],
      "metadata": {
        "id": "GkusOidBiZG_"
      }
    },
    {
      "cell_type": "markdown",
      "source": [
        "# 7.Challenge"
      ],
      "metadata": {
        "id": "XK_oiUjH2GUH"
      }
    },
    {
      "cell_type": "markdown",
      "source": [
        "1. **Data Processing Time**: The sheer volume of the dataset presented a significant challenge in terms of processing time. To mitigate this, we strategically filtered out about 2% of the data, which noticeably reduced the time required for analysis without compromising the integrity of our results.\n",
        "\n",
        "2. **Coding Proficiency**: We identified a need for improvement in our coding skills. Often, we found ourselves employing complex methods for tasks that could potentially be streamlined with more advanced coding techniques.\n",
        "\n",
        "3. **Model Improvement Constraints**: Our efforts to enhance the model were limited by time constraints and our current level of expertise. Despite this, we have identified and outlined several approaches for future enhancement and learning, which could further refine the model's accuracy and utility.\n",
        "\n",
        "4. **Data Selection and Feature Efficiency**: Initially, our approach to data selection was manual and somewhat arbitrary, leading to inefficiencies and less effective modeling. Recognizing this, we shifted to a more systematic feature selection process, which has significantly improved the speed and performance of our models.\n",
        "\n",
        "**Business Value and Future Directions:**\n",
        "\n",
        "Despite these challenges, our model provides substantial business value, offering predictive insights for governmental planning and vendor management. The model's capability to estimate sales based on location, time, and product category can significantly aid in formulating sales strategies and inventory management. We foresee the potential for further refinement of the model to cater to specific government needs, enhancing feature selection and incorporating additional relevant factors. The development of a user-friendly interface could greatly facilitate the model's adoption, allowing government officials and other stakeholders to leverage these predictive insights with ease. Future enhancements could include integrating real-time data and market trends, further enhancing the model's accuracy and broadening its application scope."
      ],
      "metadata": {
        "id": "jb_TpStD2Jv2"
      }
    },
    {
      "cell_type": "markdown",
      "metadata": {
        "id": "V7LqVO2tpU23"
      },
      "source": [
        "#8.Conclusions"
      ]
    },
    {
      "cell_type": "markdown",
      "source": [
        "Our exploration into the Iowa Liquor Sales dataset has culminated in the development of a predictive model that holds substantial promise for practical application. By integrating a diverse set of machine learning techniques, including decision trees, gradient boosting, and XGBoost, and consolidating them into a Stacked Regression Model, we have crafted a tool that, upon receiving inputs such as location of sale, time of sale, projected number of bottles sold, and the specific liquor category, can provide a reasonable estimate of potential sales. The model takes into account various vendors, which could aid governmental agencies in refining their procurement strategies. The model's prediction capabilities suggest it can serve as a strategic asset in formulating future sales strategies and inventory management.\n",
        "Business Value:\n",
        "\n",
        "The commercial value of our model is multifaceted. For government agencies, it offers a predictive insight that can inform policy-making and economic forecasting. For vendors and retailers, it provides a data-driven approach to inventory control, potentially reducing overhead costs and optimizing stock levels to match consumer demand. Moreover, the model's adaptability ensures that it can evolve in response to changing market conditions, maintaining its relevance and utility over time. Future enhancements, such as incorporating real-time data feeds and market trends analysis, could further augment its predictive accuracy and broaden its scope of application."
      ],
      "metadata": {
        "id": "h5FYgMLHrA-g"
      }
    }
  ],
  "metadata": {
    "colab": {
      "provenance": [],
      "toc_visible": true
    },
    "kernelspec": {
      "display_name": "Python 3",
      "name": "python3"
    },
    "language_info": {
      "name": "python"
    }
  },
  "nbformat": 4,
  "nbformat_minor": 0
}